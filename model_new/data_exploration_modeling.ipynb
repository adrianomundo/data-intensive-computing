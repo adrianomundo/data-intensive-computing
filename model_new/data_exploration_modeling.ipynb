{
 "cells": [
  {
   "cell_type": "markdown",
   "metadata": {},
   "source": [
    "# Introduction\n",
    "\n",
    "In this jupyter notebook, we will present the way we analysed, processed the dataset and the modeling of the machine learning algorithm to detect the fraudulent transactions. "
   ]
  },
  {
   "cell_type": "markdown",
   "metadata": {},
   "source": [
    "![alt text](fraud.jpg \"Title\")"
   ]
  },
  {
   "cell_type": "markdown",
   "metadata": {},
   "source": [
    "## Data Exploration"
   ]
  },
  {
   "cell_type": "markdown",
   "metadata": {},
   "source": [
    "The dataset [ https://www.kaggle.com/mlg-ulb/creditcardfraud ] consists of transactions done with credit cards in September 2013 by European cardholders. It contains only numerical input variables which are the product of a Principal Component Analysus (PCA). Thus, due to privacy issues the original features are not availablle and we don't know what the V1...V28 features represent expect from the Amount, Time and Class. Totally, there are 31 features. \n",
    "\n",
    "The feature 'Amount' is the amount of a transaction, 'Time' is the seconds elapsed between each transaction and the first transaction and 'Class' represents a fraud transaction when its value equals to 1 and a valid transaction when its value equals to 0.\n",
    "\n",
    "Starting from this assumption, let's start with our data exploration."
   ]
  },
  {
   "cell_type": "code",
   "execution_count": 3,
   "metadata": {},
   "outputs": [],
   "source": [
    "import pandas as pd\n",
    "import numpy as np\n",
    "import seaborn as sns\n",
    "import matplotlib.pyplot as plt\n",
    "import sklearn\n",
    "from sklearn import preprocessing\n",
    "from sklearn.manifold import TSNE\n",
    "from sklearn.preprocessing import StandardScaler\n",
    "from sklearn.metrics import confusion_matrix, classification_report, accuracy_score, roc_auc_score, roc_curve\n",
    "from sklearn.model_selection import train_test_split\n",
    "from sklearn.linear_model import LogisticRegression\n",
    "import pickle"
   ]
  },
  {
   "cell_type": "code",
   "execution_count": 4,
   "metadata": {},
   "outputs": [],
   "source": [
    "import findspark\n",
    "findspark.init()\n",
    "import pyspark\n",
    "from pyspark.sql.functions import *\n",
    "from pyspark.context import SparkContext\n",
    "from pyspark.sql.session import SparkSession\n",
    "from pyspark.sql.types import DoubleType, IntegerType\n",
    "from pyspark.ml import Pipeline\n",
    "from pyspark.ml.linalg import DenseVector\n",
    "from pyspark.ml.classification import LogisticRegression\n",
    "from pyspark.ml.evaluation import MulticlassClassificationEvaluator\n",
    "from pyspark.mllib.evaluation import BinaryClassificationMetrics\n",
    "\n",
    "sc = pyspark.SparkContext(appName = \"credit_card_fraud\")\n",
    "spark = SparkSession(sc)"
   ]
  },
  {
   "cell_type": "markdown",
   "metadata": {},
   "source": [
    "Here, we read the dataset from the csv file using pandas and then we checked if there are missing values before going on with other analysis. Then, we just call the head() and describe() functions to have an overall idea of our dataset. Since there will be no missing values we can proceed with other visualizations."
   ]
  },
  {
   "cell_type": "code",
   "execution_count": 5,
   "metadata": {},
   "outputs": [
    {
     "name": "stdout",
     "output_type": "stream",
     "text": [
      "missing values:  False\n"
     ]
    }
   ],
   "source": [
    "df = pd.read_csv(\"./creditcard.csv\")\n",
    "print(\"missing values: \", df.isnull().values.any())"
   ]
  },
  {
   "cell_type": "code",
   "execution_count": 6,
   "metadata": {},
   "outputs": [
    {
     "data": {
      "text/html": [
       "<div>\n",
       "<style scoped>\n",
       "    .dataframe tbody tr th:only-of-type {\n",
       "        vertical-align: middle;\n",
       "    }\n",
       "\n",
       "    .dataframe tbody tr th {\n",
       "        vertical-align: top;\n",
       "    }\n",
       "\n",
       "    .dataframe thead th {\n",
       "        text-align: right;\n",
       "    }\n",
       "</style>\n",
       "<table border=\"1\" class=\"dataframe\">\n",
       "  <thead>\n",
       "    <tr style=\"text-align: right;\">\n",
       "      <th></th>\n",
       "      <th>Time</th>\n",
       "      <th>V1</th>\n",
       "      <th>V2</th>\n",
       "      <th>V3</th>\n",
       "      <th>V4</th>\n",
       "      <th>V5</th>\n",
       "      <th>V6</th>\n",
       "      <th>V7</th>\n",
       "      <th>V8</th>\n",
       "      <th>V9</th>\n",
       "      <th>...</th>\n",
       "      <th>V21</th>\n",
       "      <th>V22</th>\n",
       "      <th>V23</th>\n",
       "      <th>V24</th>\n",
       "      <th>V25</th>\n",
       "      <th>V26</th>\n",
       "      <th>V27</th>\n",
       "      <th>V28</th>\n",
       "      <th>Amount</th>\n",
       "      <th>Class</th>\n",
       "    </tr>\n",
       "  </thead>\n",
       "  <tbody>\n",
       "    <tr>\n",
       "      <td>0</td>\n",
       "      <td>0.0</td>\n",
       "      <td>-1.359807</td>\n",
       "      <td>-0.072781</td>\n",
       "      <td>2.536347</td>\n",
       "      <td>1.378155</td>\n",
       "      <td>-0.338321</td>\n",
       "      <td>0.462388</td>\n",
       "      <td>0.239599</td>\n",
       "      <td>0.098698</td>\n",
       "      <td>0.363787</td>\n",
       "      <td>...</td>\n",
       "      <td>-0.018307</td>\n",
       "      <td>0.277838</td>\n",
       "      <td>-0.110474</td>\n",
       "      <td>0.066928</td>\n",
       "      <td>0.128539</td>\n",
       "      <td>-0.189115</td>\n",
       "      <td>0.133558</td>\n",
       "      <td>-0.021053</td>\n",
       "      <td>149.62</td>\n",
       "      <td>0</td>\n",
       "    </tr>\n",
       "    <tr>\n",
       "      <td>1</td>\n",
       "      <td>0.0</td>\n",
       "      <td>1.191857</td>\n",
       "      <td>0.266151</td>\n",
       "      <td>0.166480</td>\n",
       "      <td>0.448154</td>\n",
       "      <td>0.060018</td>\n",
       "      <td>-0.082361</td>\n",
       "      <td>-0.078803</td>\n",
       "      <td>0.085102</td>\n",
       "      <td>-0.255425</td>\n",
       "      <td>...</td>\n",
       "      <td>-0.225775</td>\n",
       "      <td>-0.638672</td>\n",
       "      <td>0.101288</td>\n",
       "      <td>-0.339846</td>\n",
       "      <td>0.167170</td>\n",
       "      <td>0.125895</td>\n",
       "      <td>-0.008983</td>\n",
       "      <td>0.014724</td>\n",
       "      <td>2.69</td>\n",
       "      <td>0</td>\n",
       "    </tr>\n",
       "    <tr>\n",
       "      <td>2</td>\n",
       "      <td>1.0</td>\n",
       "      <td>-1.358354</td>\n",
       "      <td>-1.340163</td>\n",
       "      <td>1.773209</td>\n",
       "      <td>0.379780</td>\n",
       "      <td>-0.503198</td>\n",
       "      <td>1.800499</td>\n",
       "      <td>0.791461</td>\n",
       "      <td>0.247676</td>\n",
       "      <td>-1.514654</td>\n",
       "      <td>...</td>\n",
       "      <td>0.247998</td>\n",
       "      <td>0.771679</td>\n",
       "      <td>0.909412</td>\n",
       "      <td>-0.689281</td>\n",
       "      <td>-0.327642</td>\n",
       "      <td>-0.139097</td>\n",
       "      <td>-0.055353</td>\n",
       "      <td>-0.059752</td>\n",
       "      <td>378.66</td>\n",
       "      <td>0</td>\n",
       "    </tr>\n",
       "    <tr>\n",
       "      <td>3</td>\n",
       "      <td>1.0</td>\n",
       "      <td>-0.966272</td>\n",
       "      <td>-0.185226</td>\n",
       "      <td>1.792993</td>\n",
       "      <td>-0.863291</td>\n",
       "      <td>-0.010309</td>\n",
       "      <td>1.247203</td>\n",
       "      <td>0.237609</td>\n",
       "      <td>0.377436</td>\n",
       "      <td>-1.387024</td>\n",
       "      <td>...</td>\n",
       "      <td>-0.108300</td>\n",
       "      <td>0.005274</td>\n",
       "      <td>-0.190321</td>\n",
       "      <td>-1.175575</td>\n",
       "      <td>0.647376</td>\n",
       "      <td>-0.221929</td>\n",
       "      <td>0.062723</td>\n",
       "      <td>0.061458</td>\n",
       "      <td>123.50</td>\n",
       "      <td>0</td>\n",
       "    </tr>\n",
       "    <tr>\n",
       "      <td>4</td>\n",
       "      <td>2.0</td>\n",
       "      <td>-1.158233</td>\n",
       "      <td>0.877737</td>\n",
       "      <td>1.548718</td>\n",
       "      <td>0.403034</td>\n",
       "      <td>-0.407193</td>\n",
       "      <td>0.095921</td>\n",
       "      <td>0.592941</td>\n",
       "      <td>-0.270533</td>\n",
       "      <td>0.817739</td>\n",
       "      <td>...</td>\n",
       "      <td>-0.009431</td>\n",
       "      <td>0.798278</td>\n",
       "      <td>-0.137458</td>\n",
       "      <td>0.141267</td>\n",
       "      <td>-0.206010</td>\n",
       "      <td>0.502292</td>\n",
       "      <td>0.219422</td>\n",
       "      <td>0.215153</td>\n",
       "      <td>69.99</td>\n",
       "      <td>0</td>\n",
       "    </tr>\n",
       "  </tbody>\n",
       "</table>\n",
       "<p>5 rows × 31 columns</p>\n",
       "</div>"
      ],
      "text/plain": [
       "   Time        V1        V2        V3        V4        V5        V6        V7  \\\n",
       "0   0.0 -1.359807 -0.072781  2.536347  1.378155 -0.338321  0.462388  0.239599   \n",
       "1   0.0  1.191857  0.266151  0.166480  0.448154  0.060018 -0.082361 -0.078803   \n",
       "2   1.0 -1.358354 -1.340163  1.773209  0.379780 -0.503198  1.800499  0.791461   \n",
       "3   1.0 -0.966272 -0.185226  1.792993 -0.863291 -0.010309  1.247203  0.237609   \n",
       "4   2.0 -1.158233  0.877737  1.548718  0.403034 -0.407193  0.095921  0.592941   \n",
       "\n",
       "         V8        V9  ...       V21       V22       V23       V24       V25  \\\n",
       "0  0.098698  0.363787  ... -0.018307  0.277838 -0.110474  0.066928  0.128539   \n",
       "1  0.085102 -0.255425  ... -0.225775 -0.638672  0.101288 -0.339846  0.167170   \n",
       "2  0.247676 -1.514654  ...  0.247998  0.771679  0.909412 -0.689281 -0.327642   \n",
       "3  0.377436 -1.387024  ... -0.108300  0.005274 -0.190321 -1.175575  0.647376   \n",
       "4 -0.270533  0.817739  ... -0.009431  0.798278 -0.137458  0.141267 -0.206010   \n",
       "\n",
       "        V26       V27       V28  Amount  Class  \n",
       "0 -0.189115  0.133558 -0.021053  149.62      0  \n",
       "1  0.125895 -0.008983  0.014724    2.69      0  \n",
       "2 -0.139097 -0.055353 -0.059752  378.66      0  \n",
       "3 -0.221929  0.062723  0.061458  123.50      0  \n",
       "4  0.502292  0.219422  0.215153   69.99      0  \n",
       "\n",
       "[5 rows x 31 columns]"
      ]
     },
     "execution_count": 6,
     "metadata": {},
     "output_type": "execute_result"
    }
   ],
   "source": [
    "df.head()"
   ]
  },
  {
   "cell_type": "code",
   "execution_count": 7,
   "metadata": {},
   "outputs": [
    {
     "data": {
      "text/html": [
       "<div>\n",
       "<style scoped>\n",
       "    .dataframe tbody tr th:only-of-type {\n",
       "        vertical-align: middle;\n",
       "    }\n",
       "\n",
       "    .dataframe tbody tr th {\n",
       "        vertical-align: top;\n",
       "    }\n",
       "\n",
       "    .dataframe thead th {\n",
       "        text-align: right;\n",
       "    }\n",
       "</style>\n",
       "<table border=\"1\" class=\"dataframe\">\n",
       "  <thead>\n",
       "    <tr style=\"text-align: right;\">\n",
       "      <th></th>\n",
       "      <th>Time</th>\n",
       "      <th>V1</th>\n",
       "      <th>V2</th>\n",
       "      <th>V3</th>\n",
       "      <th>V4</th>\n",
       "      <th>V5</th>\n",
       "      <th>V6</th>\n",
       "      <th>V7</th>\n",
       "      <th>V8</th>\n",
       "      <th>V9</th>\n",
       "      <th>...</th>\n",
       "      <th>V21</th>\n",
       "      <th>V22</th>\n",
       "      <th>V23</th>\n",
       "      <th>V24</th>\n",
       "      <th>V25</th>\n",
       "      <th>V26</th>\n",
       "      <th>V27</th>\n",
       "      <th>V28</th>\n",
       "      <th>Amount</th>\n",
       "      <th>Class</th>\n",
       "    </tr>\n",
       "  </thead>\n",
       "  <tbody>\n",
       "    <tr>\n",
       "      <td>count</td>\n",
       "      <td>284807.000000</td>\n",
       "      <td>2.848070e+05</td>\n",
       "      <td>2.848070e+05</td>\n",
       "      <td>2.848070e+05</td>\n",
       "      <td>2.848070e+05</td>\n",
       "      <td>2.848070e+05</td>\n",
       "      <td>2.848070e+05</td>\n",
       "      <td>2.848070e+05</td>\n",
       "      <td>2.848070e+05</td>\n",
       "      <td>2.848070e+05</td>\n",
       "      <td>...</td>\n",
       "      <td>2.848070e+05</td>\n",
       "      <td>2.848070e+05</td>\n",
       "      <td>2.848070e+05</td>\n",
       "      <td>2.848070e+05</td>\n",
       "      <td>2.848070e+05</td>\n",
       "      <td>2.848070e+05</td>\n",
       "      <td>2.848070e+05</td>\n",
       "      <td>2.848070e+05</td>\n",
       "      <td>284807.000000</td>\n",
       "      <td>284807.000000</td>\n",
       "    </tr>\n",
       "    <tr>\n",
       "      <td>mean</td>\n",
       "      <td>94813.859575</td>\n",
       "      <td>3.919560e-15</td>\n",
       "      <td>5.688174e-16</td>\n",
       "      <td>-8.769071e-15</td>\n",
       "      <td>2.782312e-15</td>\n",
       "      <td>-1.552563e-15</td>\n",
       "      <td>2.010663e-15</td>\n",
       "      <td>-1.694249e-15</td>\n",
       "      <td>-1.927028e-16</td>\n",
       "      <td>-3.137024e-15</td>\n",
       "      <td>...</td>\n",
       "      <td>1.537294e-16</td>\n",
       "      <td>7.959909e-16</td>\n",
       "      <td>5.367590e-16</td>\n",
       "      <td>4.458112e-15</td>\n",
       "      <td>1.453003e-15</td>\n",
       "      <td>1.699104e-15</td>\n",
       "      <td>-3.660161e-16</td>\n",
       "      <td>-1.206049e-16</td>\n",
       "      <td>88.349619</td>\n",
       "      <td>0.001727</td>\n",
       "    </tr>\n",
       "    <tr>\n",
       "      <td>std</td>\n",
       "      <td>47488.145955</td>\n",
       "      <td>1.958696e+00</td>\n",
       "      <td>1.651309e+00</td>\n",
       "      <td>1.516255e+00</td>\n",
       "      <td>1.415869e+00</td>\n",
       "      <td>1.380247e+00</td>\n",
       "      <td>1.332271e+00</td>\n",
       "      <td>1.237094e+00</td>\n",
       "      <td>1.194353e+00</td>\n",
       "      <td>1.098632e+00</td>\n",
       "      <td>...</td>\n",
       "      <td>7.345240e-01</td>\n",
       "      <td>7.257016e-01</td>\n",
       "      <td>6.244603e-01</td>\n",
       "      <td>6.056471e-01</td>\n",
       "      <td>5.212781e-01</td>\n",
       "      <td>4.822270e-01</td>\n",
       "      <td>4.036325e-01</td>\n",
       "      <td>3.300833e-01</td>\n",
       "      <td>250.120109</td>\n",
       "      <td>0.041527</td>\n",
       "    </tr>\n",
       "    <tr>\n",
       "      <td>min</td>\n",
       "      <td>0.000000</td>\n",
       "      <td>-5.640751e+01</td>\n",
       "      <td>-7.271573e+01</td>\n",
       "      <td>-4.832559e+01</td>\n",
       "      <td>-5.683171e+00</td>\n",
       "      <td>-1.137433e+02</td>\n",
       "      <td>-2.616051e+01</td>\n",
       "      <td>-4.355724e+01</td>\n",
       "      <td>-7.321672e+01</td>\n",
       "      <td>-1.343407e+01</td>\n",
       "      <td>...</td>\n",
       "      <td>-3.483038e+01</td>\n",
       "      <td>-1.093314e+01</td>\n",
       "      <td>-4.480774e+01</td>\n",
       "      <td>-2.836627e+00</td>\n",
       "      <td>-1.029540e+01</td>\n",
       "      <td>-2.604551e+00</td>\n",
       "      <td>-2.256568e+01</td>\n",
       "      <td>-1.543008e+01</td>\n",
       "      <td>0.000000</td>\n",
       "      <td>0.000000</td>\n",
       "    </tr>\n",
       "    <tr>\n",
       "      <td>25%</td>\n",
       "      <td>54201.500000</td>\n",
       "      <td>-9.203734e-01</td>\n",
       "      <td>-5.985499e-01</td>\n",
       "      <td>-8.903648e-01</td>\n",
       "      <td>-8.486401e-01</td>\n",
       "      <td>-6.915971e-01</td>\n",
       "      <td>-7.682956e-01</td>\n",
       "      <td>-5.540759e-01</td>\n",
       "      <td>-2.086297e-01</td>\n",
       "      <td>-6.430976e-01</td>\n",
       "      <td>...</td>\n",
       "      <td>-2.283949e-01</td>\n",
       "      <td>-5.423504e-01</td>\n",
       "      <td>-1.618463e-01</td>\n",
       "      <td>-3.545861e-01</td>\n",
       "      <td>-3.171451e-01</td>\n",
       "      <td>-3.269839e-01</td>\n",
       "      <td>-7.083953e-02</td>\n",
       "      <td>-5.295979e-02</td>\n",
       "      <td>5.600000</td>\n",
       "      <td>0.000000</td>\n",
       "    </tr>\n",
       "    <tr>\n",
       "      <td>50%</td>\n",
       "      <td>84692.000000</td>\n",
       "      <td>1.810880e-02</td>\n",
       "      <td>6.548556e-02</td>\n",
       "      <td>1.798463e-01</td>\n",
       "      <td>-1.984653e-02</td>\n",
       "      <td>-5.433583e-02</td>\n",
       "      <td>-2.741871e-01</td>\n",
       "      <td>4.010308e-02</td>\n",
       "      <td>2.235804e-02</td>\n",
       "      <td>-5.142873e-02</td>\n",
       "      <td>...</td>\n",
       "      <td>-2.945017e-02</td>\n",
       "      <td>6.781943e-03</td>\n",
       "      <td>-1.119293e-02</td>\n",
       "      <td>4.097606e-02</td>\n",
       "      <td>1.659350e-02</td>\n",
       "      <td>-5.213911e-02</td>\n",
       "      <td>1.342146e-03</td>\n",
       "      <td>1.124383e-02</td>\n",
       "      <td>22.000000</td>\n",
       "      <td>0.000000</td>\n",
       "    </tr>\n",
       "    <tr>\n",
       "      <td>75%</td>\n",
       "      <td>139320.500000</td>\n",
       "      <td>1.315642e+00</td>\n",
       "      <td>8.037239e-01</td>\n",
       "      <td>1.027196e+00</td>\n",
       "      <td>7.433413e-01</td>\n",
       "      <td>6.119264e-01</td>\n",
       "      <td>3.985649e-01</td>\n",
       "      <td>5.704361e-01</td>\n",
       "      <td>3.273459e-01</td>\n",
       "      <td>5.971390e-01</td>\n",
       "      <td>...</td>\n",
       "      <td>1.863772e-01</td>\n",
       "      <td>5.285536e-01</td>\n",
       "      <td>1.476421e-01</td>\n",
       "      <td>4.395266e-01</td>\n",
       "      <td>3.507156e-01</td>\n",
       "      <td>2.409522e-01</td>\n",
       "      <td>9.104512e-02</td>\n",
       "      <td>7.827995e-02</td>\n",
       "      <td>77.165000</td>\n",
       "      <td>0.000000</td>\n",
       "    </tr>\n",
       "    <tr>\n",
       "      <td>max</td>\n",
       "      <td>172792.000000</td>\n",
       "      <td>2.454930e+00</td>\n",
       "      <td>2.205773e+01</td>\n",
       "      <td>9.382558e+00</td>\n",
       "      <td>1.687534e+01</td>\n",
       "      <td>3.480167e+01</td>\n",
       "      <td>7.330163e+01</td>\n",
       "      <td>1.205895e+02</td>\n",
       "      <td>2.000721e+01</td>\n",
       "      <td>1.559499e+01</td>\n",
       "      <td>...</td>\n",
       "      <td>2.720284e+01</td>\n",
       "      <td>1.050309e+01</td>\n",
       "      <td>2.252841e+01</td>\n",
       "      <td>4.584549e+00</td>\n",
       "      <td>7.519589e+00</td>\n",
       "      <td>3.517346e+00</td>\n",
       "      <td>3.161220e+01</td>\n",
       "      <td>3.384781e+01</td>\n",
       "      <td>25691.160000</td>\n",
       "      <td>1.000000</td>\n",
       "    </tr>\n",
       "  </tbody>\n",
       "</table>\n",
       "<p>8 rows × 31 columns</p>\n",
       "</div>"
      ],
      "text/plain": [
       "                Time            V1            V2            V3            V4  \\\n",
       "count  284807.000000  2.848070e+05  2.848070e+05  2.848070e+05  2.848070e+05   \n",
       "mean    94813.859575  3.919560e-15  5.688174e-16 -8.769071e-15  2.782312e-15   \n",
       "std     47488.145955  1.958696e+00  1.651309e+00  1.516255e+00  1.415869e+00   \n",
       "min         0.000000 -5.640751e+01 -7.271573e+01 -4.832559e+01 -5.683171e+00   \n",
       "25%     54201.500000 -9.203734e-01 -5.985499e-01 -8.903648e-01 -8.486401e-01   \n",
       "50%     84692.000000  1.810880e-02  6.548556e-02  1.798463e-01 -1.984653e-02   \n",
       "75%    139320.500000  1.315642e+00  8.037239e-01  1.027196e+00  7.433413e-01   \n",
       "max    172792.000000  2.454930e+00  2.205773e+01  9.382558e+00  1.687534e+01   \n",
       "\n",
       "                 V5            V6            V7            V8            V9  \\\n",
       "count  2.848070e+05  2.848070e+05  2.848070e+05  2.848070e+05  2.848070e+05   \n",
       "mean  -1.552563e-15  2.010663e-15 -1.694249e-15 -1.927028e-16 -3.137024e-15   \n",
       "std    1.380247e+00  1.332271e+00  1.237094e+00  1.194353e+00  1.098632e+00   \n",
       "min   -1.137433e+02 -2.616051e+01 -4.355724e+01 -7.321672e+01 -1.343407e+01   \n",
       "25%   -6.915971e-01 -7.682956e-01 -5.540759e-01 -2.086297e-01 -6.430976e-01   \n",
       "50%   -5.433583e-02 -2.741871e-01  4.010308e-02  2.235804e-02 -5.142873e-02   \n",
       "75%    6.119264e-01  3.985649e-01  5.704361e-01  3.273459e-01  5.971390e-01   \n",
       "max    3.480167e+01  7.330163e+01  1.205895e+02  2.000721e+01  1.559499e+01   \n",
       "\n",
       "       ...           V21           V22           V23           V24  \\\n",
       "count  ...  2.848070e+05  2.848070e+05  2.848070e+05  2.848070e+05   \n",
       "mean   ...  1.537294e-16  7.959909e-16  5.367590e-16  4.458112e-15   \n",
       "std    ...  7.345240e-01  7.257016e-01  6.244603e-01  6.056471e-01   \n",
       "min    ... -3.483038e+01 -1.093314e+01 -4.480774e+01 -2.836627e+00   \n",
       "25%    ... -2.283949e-01 -5.423504e-01 -1.618463e-01 -3.545861e-01   \n",
       "50%    ... -2.945017e-02  6.781943e-03 -1.119293e-02  4.097606e-02   \n",
       "75%    ...  1.863772e-01  5.285536e-01  1.476421e-01  4.395266e-01   \n",
       "max    ...  2.720284e+01  1.050309e+01  2.252841e+01  4.584549e+00   \n",
       "\n",
       "                V25           V26           V27           V28         Amount  \\\n",
       "count  2.848070e+05  2.848070e+05  2.848070e+05  2.848070e+05  284807.000000   \n",
       "mean   1.453003e-15  1.699104e-15 -3.660161e-16 -1.206049e-16      88.349619   \n",
       "std    5.212781e-01  4.822270e-01  4.036325e-01  3.300833e-01     250.120109   \n",
       "min   -1.029540e+01 -2.604551e+00 -2.256568e+01 -1.543008e+01       0.000000   \n",
       "25%   -3.171451e-01 -3.269839e-01 -7.083953e-02 -5.295979e-02       5.600000   \n",
       "50%    1.659350e-02 -5.213911e-02  1.342146e-03  1.124383e-02      22.000000   \n",
       "75%    3.507156e-01  2.409522e-01  9.104512e-02  7.827995e-02      77.165000   \n",
       "max    7.519589e+00  3.517346e+00  3.161220e+01  3.384781e+01   25691.160000   \n",
       "\n",
       "               Class  \n",
       "count  284807.000000  \n",
       "mean        0.001727  \n",
       "std         0.041527  \n",
       "min         0.000000  \n",
       "25%         0.000000  \n",
       "50%         0.000000  \n",
       "75%         0.000000  \n",
       "max         1.000000  \n",
       "\n",
       "[8 rows x 31 columns]"
      ]
     },
     "execution_count": 7,
     "metadata": {},
     "output_type": "execute_result"
    }
   ],
   "source": [
    "df.describe()"
   ]
  },
  {
   "cell_type": "markdown",
   "metadata": {},
   "source": [
    "### Plotting"
   ]
  },
  {
   "cell_type": "markdown",
   "metadata": {},
   "source": [
    "We tried to plot the two not anonymized features, that as we said are 'Time' and 'Amount'. \n",
    "\n",
    "From the Time Distribution we can understand it is bimodal. This indicates that approximately 28 hours after the first transaction there was a drop in the volume. The timestamp is not provided but as hypothesis it would be reasonable to assume that the drop is caused by a drop in the number of transactions during night. We can infer this by the fact that time is provided in seconds hence should be about two days of transactions. \n",
    "\n",
    "From the Amount Distribution we can derive it is skewed. Most of the transactions are small and a little percentage are higher. \n",
    "\n",
    "Finally, we plotted the Non Fraud and Fraud transactions over time but there are no meaningful things we can derive. "
   ]
  },
  {
   "cell_type": "code",
   "execution_count": 8,
   "metadata": {},
   "outputs": [
    {
     "data": {
      "text/plain": [
       "<matplotlib.axes._subplots.AxesSubplot at 0x1a246bfc50>"
      ]
     },
     "execution_count": 8,
     "metadata": {},
     "output_type": "execute_result"
    },
    {
     "data": {
      "image/png": "[encoded data removed]",
      "text/plain": [
       "<Figure size 432x288 with 1 Axes>"
      ]
     },
     "metadata": {
      "needs_background": "light"
     },
     "output_type": "display_data"
    }
   ],
   "source": [
    "plt.figure(figsize = (6,4))\n",
    "plt.title('Time Distribution')\n",
    "sns.distplot(df['Time'])"
   ]
  },
  {
   "cell_type": "code",
   "execution_count": 9,
   "metadata": {},
   "outputs": [
    {
     "data": {
      "text/plain": [
       "<matplotlib.axes._subplots.AxesSubplot at 0x1a234c3650>"
      ]
     },
     "execution_count": 9,
     "metadata": {},
     "output_type": "execute_result"
    },
    {
     "data": {
      "image/png": "[encoded data removed]",
      "text/plain": [
       "<Figure size 432x288 with 1 Axes>"
      ]
     },
     "metadata": {
      "needs_background": "light"
     },
     "output_type": "display_data"
    }
   ],
   "source": [
    "plt.figure(figsize = (6,4))\n",
    "plt.title('Amount Distribution')\n",
    "sns.distplot(df['Amount'])"
   ]
  },
  {
   "cell_type": "code",
   "execution_count": 10,
   "metadata": {},
   "outputs": [
    {
     "data": {
      "text/plain": [
       "<matplotlib.axes._subplots.AxesSubplot at 0x1a23521b90>"
      ]
     },
     "execution_count": 10,
     "metadata": {},
     "output_type": "execute_result"
    },
    {
     "data": {
      "image/png": "[encoded data removed]",
      "text/plain": [
       "<Figure size 432x288 with 1 Axes>"
      ]
     },
     "metadata": {
      "needs_background": "light"
     },
     "output_type": "display_data"
    }
   ],
   "source": [
    "plt.figure(figsize = (6,4))\n",
    "plt.title('Non Fraud Distribution')\n",
    "sns.distplot(df['Time'][df['Class'] == 0])"
   ]
  },
  {
   "cell_type": "code",
   "execution_count": 11,
   "metadata": {},
   "outputs": [
    {
     "data": {
      "text/plain": [
       "<matplotlib.axes._subplots.AxesSubplot at 0x1a22f2aa90>"
      ]
     },
     "execution_count": 11,
     "metadata": {},
     "output_type": "execute_result"
    },
    {
     "data": {
      "image/png": "[encoded data removed]",
      "text/plain": [
       "<Figure size 432x288 with 1 Axes>"
      ]
     },
     "metadata": {
      "needs_background": "light"
     },
     "output_type": "display_data"
    }
   ],
   "source": [
    "plt.figure(figsize = (6,4))\n",
    "plt.title('Fraud Distribution')\n",
    "sns.distplot(df['Time'][df['Class'] == 1])"
   ]
  },
  {
   "cell_type": "markdown",
   "metadata": {},
   "source": [
    "At this point, we tried to understand how the transactions are distributed among the two classes of 'Fraud' and 'Non Fraud'. We derived the data and plotted a bar chart to explain it. Thus, we understood that the dataset has just few fraudulent transactions, which are 0.173% of the total. \n",
    "\n",
    "Therefore, we are dealing with a highly unbalanced dataset and with a class of problems known as class imbalance. By studying the problem we discovered that it is very common in fraud detection problems to have this issue.  \n",
    "\n",
    "Stated that, it is not possible to use directly a machine learning algorithm otherwise it will overfit the data on the 'Non Fraud' samples. A good idea to have a not biased result is to reduce classes samples to be more or less equal.\n",
    "The main problem is that if there are few 'Fraud' samples, there is too few data to infer patterns from them. "
   ]
  },
  {
   "cell_type": "code",
   "execution_count": 12,
   "metadata": {},
   "outputs": [
    {
     "name": "stdout",
     "output_type": "stream",
     "text": [
      "fraudelent transactions are 492\n",
      "non fraudelent transaction are 284315\n",
      "frauds are 0.173% of the total\n"
     ]
    }
   ],
   "source": [
    "frauds_df = df[df['Class'] == 1]\n",
    "non_frauds_df = df[df['Class'] == 0]\n",
    "\n",
    "frauds_number = len(frauds_df)\n",
    "non_frauds_number = len(non_frauds_df)\n",
    "\n",
    "print(\"fraudelent transactions are \" + str(frauds_number))\n",
    "print(\"non fraudelent transaction are \" + str(non_frauds_number))\n",
    "\n",
    "ratio = (float(frauds_number) / float(non_frauds_number)) * 100\n",
    "print(\"frauds are \" + str(ratio)[:5] + \"% of the total\")"
   ]
  },
  {
   "cell_type": "code",
   "execution_count": 13,
   "metadata": {
    "scrolled": true
   },
   "outputs": [
    {
     "data": {
      "image/png": "[encoded data removed]",
      "text/plain": [
       "<Figure size 432x288 with 1 Axes>"
      ]
     },
     "metadata": {
      "needs_background": "light"
     },
     "output_type": "display_data"
    }
   ],
   "source": [
    "classes = pd.value_counts(df['Class'], sort=True)\n",
    "classes.plot(kind = 'bar', rot=0)\n",
    "\n",
    "plt.title(\"Class Transactions\")\n",
    "plt.xticks(range(2), ['Non Fraud', 'Fraud'])\n",
    "plt.xlabel(\"Class\")\n",
    "plt.ylabel(\"Frequency - #Transactions\")\n",
    "plt.show()"
   ]
  },
  {
   "cell_type": "markdown",
   "metadata": {},
   "source": [
    "We don't know the features but we can understand if there is a correlation between them, hence we plotted an heatmap with correlations. We infered that there are no highly correlated features. There's a just a slightly negative correlation between V2 and Amount. And some features seem to have little correlations with the label 'Class' maybe due to the PCA. "
   ]
  },
  {
   "cell_type": "code",
   "execution_count": 14,
   "metadata": {},
   "outputs": [
    {
     "data": {
      "text/plain": [
       "<matplotlib.axes._subplots.AxesSubplot at 0x1a233036d0>"
      ]
     },
     "execution_count": 14,
     "metadata": {},
     "output_type": "execute_result"
    },
    {
     "data": {
      "image/png": "[encoded data removed]",
      "text/plain": [
       "<Figure size 576x432 with 2 Axes>"
      ]
     },
     "metadata": {
      "needs_background": "light"
     },
     "output_type": "display_data"
    }
   ],
   "source": [
    "correlations = df.corr()\n",
    "\n",
    "fig, ax = plt.subplots(figsize=(8, 6))\n",
    "sns.heatmap(correlations, \n",
    "            xticklabels=correlations.columns, \n",
    "            yticklabels=correlations.columns,\n",
    "            linewidths=.1, cmap=\"RdBu\", ax=ax)"
   ]
  },
  {
   "cell_type": "markdown",
   "metadata": {},
   "source": [
    "To visualize differently the distribution of data, we used T-SNE, which is a data decomposition technique that reduces data into specific dimensions and displays the top n dimensions with maximum information, a technique similar to PCA. A lot of Non Fraud transactions overlap with the Fraud transactions hence they are difficult to divide with a linear boundary. "
   ]
  },
  {
   "cell_type": "code",
   "execution_count": 15,
   "metadata": {},
   "outputs": [
    {
     "data": {
      "image/png": "[encoded data removed]",
      "text/plain": [
       "<Figure size 576x432 with 1 Axes>"
      ]
     },
     "metadata": {
      "needs_background": "light"
     },
     "output_type": "display_data"
    }
   ],
   "source": [
    "non_fraud_tsne = df[df['Class'] == 0].sample(2000)\n",
    "fraud_tsne = df[df['Class'] == 1]\n",
    "\n",
    "#frac = 1 retains the 100% of the fraud dataframe\n",
    "df_tsne = non_fraud_tsne.append(fraud_tsne).sample(frac = 1)\n",
    "#drop the index columns \n",
    "df_tsne = df_tsne.reset_index(drop = True)\n",
    "\n",
    "x = df_tsne.drop(['Class'], axis = 1).values\n",
    "y = df_tsne['Class'].values\n",
    "\n",
    "p = TSNE(n_components=2, random_state=24).fit_transform(x)\n",
    "\n",
    "plt.figure(figsize=(8, 6))\n",
    "plt.scatter(p[np.where(y == 0), 0], p[np.where(y == 0), 1], marker='o', color='g', linewidth='1', alpha=0.8, label='Non Fraud')\n",
    "plt.scatter(p[np.where(y == 1), 0], p[np.where(y == 1), 1], marker='o', color='r', linewidth='1', alpha=0.8, label='Fraud')\n",
    "plt.legend(loc='best')\n",
    "plt.show()"
   ]
  },
  {
   "cell_type": "markdown",
   "metadata": {},
   "source": [
    "## Data Preparation\n"
   ]
  },
  {
   "cell_type": "markdown",
   "metadata": {},
   "source": [
    "All the anonymized features have been scaled and centered around zero while 'Time' and 'Amount' have been not. To have a better performance with the Logistic Regression, the ML algorithm that we will use later, is necessary to scale them as weel. \n",
    "\n",
    "To prepare our data as input to the ML we need to:\n",
    "- preprocess time and amount witn StandardScaler\n",
    "- split dataset into train and test set\n",
    "- deal with the highly unbalanced dataset"
   ]
  },
  {
   "cell_type": "markdown",
   "metadata": {},
   "source": [
    "The StandardScaler will transform the data to have a distribution will with mean value 0 and a standard deviation of 1. Transform the data is crucial to be correctly interpreted by the algorithm."
   ]
  },
  {
   "cell_type": "code",
   "execution_count": 16,
   "metadata": {},
   "outputs": [],
   "source": [
    "# scaling TIME to be centered around zero \n",
    "scaler_time = StandardScaler()\n",
    "\n",
    "scaled_time = scaler_time.fit_transform(df[['Time']])\n",
    "scaled_time_list = scaled_time.tolist()\n",
    "\n",
    "flat_time = [item for sublist in scaled_time_list for item in sublist]\n",
    "scaled_time = pd.Series(flat_time)\n",
    "\n",
    "#print(scaled_time)"
   ]
  },
  {
   "cell_type": "code",
   "execution_count": 17,
   "metadata": {},
   "outputs": [],
   "source": [
    "# scaling AMOUNT to be centered around zero \n",
    "scaler_amount = StandardScaler()\n",
    "\n",
    "scaled_amount = scaler_amount.fit_transform(df[['Amount']])\n",
    "scaled_amount_list = scaled_amount.tolist()\n",
    "\n",
    "flat_amount= [item for sublist in scaled_amount_list for item in sublist]\n",
    "scaled_amount = pd.Series(flat_amount)\n",
    "\n",
    "#print(scaled_amount)"
   ]
  },
  {
   "cell_type": "code",
   "execution_count": 18,
   "metadata": {},
   "outputs": [
    {
     "data": {
      "text/html": [
       "<div>\n",
       "<style scoped>\n",
       "    .dataframe tbody tr th:only-of-type {\n",
       "        vertical-align: middle;\n",
       "    }\n",
       "\n",
       "    .dataframe tbody tr th {\n",
       "        vertical-align: top;\n",
       "    }\n",
       "\n",
       "    .dataframe thead th {\n",
       "        text-align: right;\n",
       "    }\n",
       "</style>\n",
       "<table border=\"1\" class=\"dataframe\">\n",
       "  <thead>\n",
       "    <tr style=\"text-align: right;\">\n",
       "      <th></th>\n",
       "      <th>Time</th>\n",
       "      <th>V1</th>\n",
       "      <th>V2</th>\n",
       "      <th>V3</th>\n",
       "      <th>V4</th>\n",
       "      <th>V5</th>\n",
       "      <th>V6</th>\n",
       "      <th>V7</th>\n",
       "      <th>V8</th>\n",
       "      <th>V9</th>\n",
       "      <th>...</th>\n",
       "      <th>V23</th>\n",
       "      <th>V24</th>\n",
       "      <th>V25</th>\n",
       "      <th>V26</th>\n",
       "      <th>V27</th>\n",
       "      <th>V28</th>\n",
       "      <th>Amount</th>\n",
       "      <th>Class</th>\n",
       "      <th>Amount_Scaled</th>\n",
       "      <th>Time_Scaled</th>\n",
       "    </tr>\n",
       "  </thead>\n",
       "  <tbody>\n",
       "    <tr>\n",
       "      <td>54651</td>\n",
       "      <td>46542.0</td>\n",
       "      <td>-0.779711</td>\n",
       "      <td>-0.500589</td>\n",
       "      <td>1.945499</td>\n",
       "      <td>-0.875214</td>\n",
       "      <td>-1.551944</td>\n",
       "      <td>1.479649</td>\n",
       "      <td>0.069009</td>\n",
       "      <td>0.306299</td>\n",
       "      <td>-1.107497</td>\n",
       "      <td>...</td>\n",
       "      <td>-0.040549</td>\n",
       "      <td>-0.214414</td>\n",
       "      <td>-0.301730</td>\n",
       "      <td>0.040173</td>\n",
       "      <td>0.162260</td>\n",
       "      <td>0.069728</td>\n",
       "      <td>239.50</td>\n",
       "      <td>0</td>\n",
       "      <td>0.604312</td>\n",
       "      <td>-1.016505</td>\n",
       "    </tr>\n",
       "    <tr>\n",
       "      <td>44354</td>\n",
       "      <td>41912.0</td>\n",
       "      <td>1.085276</td>\n",
       "      <td>-0.074766</td>\n",
       "      <td>1.395381</td>\n",
       "      <td>1.372598</td>\n",
       "      <td>-0.962361</td>\n",
       "      <td>0.074793</td>\n",
       "      <td>-0.631575</td>\n",
       "      <td>0.208962</td>\n",
       "      <td>0.871186</td>\n",
       "      <td>...</td>\n",
       "      <td>0.064939</td>\n",
       "      <td>0.397002</td>\n",
       "      <td>0.296721</td>\n",
       "      <td>-0.399117</td>\n",
       "      <td>0.089119</td>\n",
       "      <td>0.038141</td>\n",
       "      <td>9.99</td>\n",
       "      <td>0</td>\n",
       "      <td>-0.313289</td>\n",
       "      <td>-1.114003</td>\n",
       "    </tr>\n",
       "    <tr>\n",
       "      <td>118025</td>\n",
       "      <td>74920.0</td>\n",
       "      <td>1.181341</td>\n",
       "      <td>-0.547368</td>\n",
       "      <td>0.907319</td>\n",
       "      <td>0.486555</td>\n",
       "      <td>-1.166149</td>\n",
       "      <td>0.068637</td>\n",
       "      <td>-0.918526</td>\n",
       "      <td>0.272897</td>\n",
       "      <td>-0.820675</td>\n",
       "      <td>...</td>\n",
       "      <td>0.032019</td>\n",
       "      <td>0.156655</td>\n",
       "      <td>0.248570</td>\n",
       "      <td>-0.247055</td>\n",
       "      <td>0.067870</td>\n",
       "      <td>0.023693</td>\n",
       "      <td>22.00</td>\n",
       "      <td>0</td>\n",
       "      <td>-0.265271</td>\n",
       "      <td>-0.418923</td>\n",
       "    </tr>\n",
       "    <tr>\n",
       "      <td>117052</td>\n",
       "      <td>74523.0</td>\n",
       "      <td>1.047386</td>\n",
       "      <td>0.115877</td>\n",
       "      <td>0.490427</td>\n",
       "      <td>2.654748</td>\n",
       "      <td>-0.229108</td>\n",
       "      <td>0.017744</td>\n",
       "      <td>0.053816</td>\n",
       "      <td>0.043147</td>\n",
       "      <td>-0.120996</td>\n",
       "      <td>...</td>\n",
       "      <td>-0.092403</td>\n",
       "      <td>-0.163613</td>\n",
       "      <td>0.485485</td>\n",
       "      <td>-0.064072</td>\n",
       "      <td>-0.021937</td>\n",
       "      <td>0.027921</td>\n",
       "      <td>82.44</td>\n",
       "      <td>0</td>\n",
       "      <td>-0.023627</td>\n",
       "      <td>-0.427283</td>\n",
       "    </tr>\n",
       "    <tr>\n",
       "      <td>102642</td>\n",
       "      <td>68295.0</td>\n",
       "      <td>-3.766116</td>\n",
       "      <td>-3.529451</td>\n",
       "      <td>1.556402</td>\n",
       "      <td>0.477386</td>\n",
       "      <td>-0.130375</td>\n",
       "      <td>-1.150667</td>\n",
       "      <td>-0.206098</td>\n",
       "      <td>-0.041438</td>\n",
       "      <td>1.523686</td>\n",
       "      <td>...</td>\n",
       "      <td>-0.463796</td>\n",
       "      <td>0.881097</td>\n",
       "      <td>0.020469</td>\n",
       "      <td>0.902429</td>\n",
       "      <td>-0.568034</td>\n",
       "      <td>-0.454285</td>\n",
       "      <td>261.76</td>\n",
       "      <td>0</td>\n",
       "      <td>0.693310</td>\n",
       "      <td>-0.558432</td>\n",
       "    </tr>\n",
       "  </tbody>\n",
       "</table>\n",
       "<p>5 rows × 33 columns</p>\n",
       "</div>"
      ],
      "text/plain": [
       "           Time        V1        V2        V3        V4        V5        V6  \\\n",
       "54651   46542.0 -0.779711 -0.500589  1.945499 -0.875214 -1.551944  1.479649   \n",
       "44354   41912.0  1.085276 -0.074766  1.395381  1.372598 -0.962361  0.074793   \n",
       "118025  74920.0  1.181341 -0.547368  0.907319  0.486555 -1.166149  0.068637   \n",
       "117052  74523.0  1.047386  0.115877  0.490427  2.654748 -0.229108  0.017744   \n",
       "102642  68295.0 -3.766116 -3.529451  1.556402  0.477386 -0.130375 -1.150667   \n",
       "\n",
       "              V7        V8        V9  ...       V23       V24       V25  \\\n",
       "54651   0.069009  0.306299 -1.107497  ... -0.040549 -0.214414 -0.301730   \n",
       "44354  -0.631575  0.208962  0.871186  ...  0.064939  0.397002  0.296721   \n",
       "118025 -0.918526  0.272897 -0.820675  ...  0.032019  0.156655  0.248570   \n",
       "117052  0.053816  0.043147 -0.120996  ... -0.092403 -0.163613  0.485485   \n",
       "102642 -0.206098 -0.041438  1.523686  ... -0.463796  0.881097  0.020469   \n",
       "\n",
       "             V26       V27       V28  Amount  Class  Amount_Scaled  \\\n",
       "54651   0.040173  0.162260  0.069728  239.50      0       0.604312   \n",
       "44354  -0.399117  0.089119  0.038141    9.99      0      -0.313289   \n",
       "118025 -0.247055  0.067870  0.023693   22.00      0      -0.265271   \n",
       "117052 -0.064072 -0.021937  0.027921   82.44      0      -0.023627   \n",
       "102642  0.902429 -0.568034 -0.454285  261.76      0       0.693310   \n",
       "\n",
       "        Time_Scaled  \n",
       "54651     -1.016505  \n",
       "44354     -1.114003  \n",
       "118025    -0.418923  \n",
       "117052    -0.427283  \n",
       "102642    -0.558432  \n",
       "\n",
       "[5 rows x 33 columns]"
      ]
     },
     "execution_count": 18,
     "metadata": {},
     "output_type": "execute_result"
    }
   ],
   "source": [
    "# Add the new two columns to the dataframe and check it is everything ok\n",
    "\n",
    "df_scaled = pd.concat([df, scaled_amount.rename('Amount_Scaled'), scaled_time.rename('Time_Scaled')], axis=1)\n",
    "df_scaled.sample(5)"
   ]
  },
  {
   "cell_type": "code",
   "execution_count": 19,
   "metadata": {},
   "outputs": [
    {
     "data": {
      "text/html": [
       "<div>\n",
       "<style scoped>\n",
       "    .dataframe tbody tr th:only-of-type {\n",
       "        vertical-align: middle;\n",
       "    }\n",
       "\n",
       "    .dataframe tbody tr th {\n",
       "        vertical-align: top;\n",
       "    }\n",
       "\n",
       "    .dataframe thead th {\n",
       "        text-align: right;\n",
       "    }\n",
       "</style>\n",
       "<table border=\"1\" class=\"dataframe\">\n",
       "  <thead>\n",
       "    <tr style=\"text-align: right;\">\n",
       "      <th></th>\n",
       "      <th>V1</th>\n",
       "      <th>V2</th>\n",
       "      <th>V3</th>\n",
       "      <th>V4</th>\n",
       "      <th>V5</th>\n",
       "      <th>V6</th>\n",
       "      <th>V7</th>\n",
       "      <th>V8</th>\n",
       "      <th>V9</th>\n",
       "      <th>V10</th>\n",
       "      <th>...</th>\n",
       "      <th>V22</th>\n",
       "      <th>V23</th>\n",
       "      <th>V24</th>\n",
       "      <th>V25</th>\n",
       "      <th>V26</th>\n",
       "      <th>V27</th>\n",
       "      <th>V28</th>\n",
       "      <th>Class</th>\n",
       "      <th>Amount_Scaled</th>\n",
       "      <th>Time_Scaled</th>\n",
       "    </tr>\n",
       "  </thead>\n",
       "  <tbody>\n",
       "    <tr>\n",
       "      <td>210918</td>\n",
       "      <td>-1.942564</td>\n",
       "      <td>2.273353</td>\n",
       "      <td>-1.388581</td>\n",
       "      <td>-0.848815</td>\n",
       "      <td>0.790632</td>\n",
       "      <td>0.724401</td>\n",
       "      <td>-0.659293</td>\n",
       "      <td>-2.624202</td>\n",
       "      <td>0.299560</td>\n",
       "      <td>-0.676094</td>\n",
       "      <td>...</td>\n",
       "      <td>-0.791231</td>\n",
       "      <td>0.173886</td>\n",
       "      <td>-0.304875</td>\n",
       "      <td>-0.040264</td>\n",
       "      <td>0.573044</td>\n",
       "      <td>-0.039580</td>\n",
       "      <td>0.223783</td>\n",
       "      <td>0</td>\n",
       "      <td>-0.334278</td>\n",
       "      <td>0.913264</td>\n",
       "    </tr>\n",
       "    <tr>\n",
       "      <td>26180</td>\n",
       "      <td>-0.423833</td>\n",
       "      <td>0.929508</td>\n",
       "      <td>1.222696</td>\n",
       "      <td>0.848953</td>\n",
       "      <td>0.287704</td>\n",
       "      <td>-0.379155</td>\n",
       "      <td>0.579813</td>\n",
       "      <td>0.000857</td>\n",
       "      <td>-0.409845</td>\n",
       "      <td>-0.105179</td>\n",
       "      <td>...</td>\n",
       "      <td>0.523221</td>\n",
       "      <td>-0.135151</td>\n",
       "      <td>0.061538</td>\n",
       "      <td>-0.384878</td>\n",
       "      <td>-0.313835</td>\n",
       "      <td>0.053820</td>\n",
       "      <td>0.160229</td>\n",
       "      <td>0</td>\n",
       "      <td>-0.333239</td>\n",
       "      <td>-1.281835</td>\n",
       "    </tr>\n",
       "    <tr>\n",
       "      <td>48082</td>\n",
       "      <td>-1.107839</td>\n",
       "      <td>0.168790</td>\n",
       "      <td>0.761982</td>\n",
       "      <td>-1.960236</td>\n",
       "      <td>-0.504221</td>\n",
       "      <td>-0.294342</td>\n",
       "      <td>-0.215795</td>\n",
       "      <td>0.451860</td>\n",
       "      <td>-1.346098</td>\n",
       "      <td>0.135195</td>\n",
       "      <td>...</td>\n",
       "      <td>-0.304122</td>\n",
       "      <td>-0.076927</td>\n",
       "      <td>-0.579281</td>\n",
       "      <td>-0.381310</td>\n",
       "      <td>-0.670014</td>\n",
       "      <td>-0.256682</td>\n",
       "      <td>0.044517</td>\n",
       "      <td>0</td>\n",
       "      <td>-0.145329</td>\n",
       "      <td>-1.080816</td>\n",
       "    </tr>\n",
       "    <tr>\n",
       "      <td>93411</td>\n",
       "      <td>-0.997680</td>\n",
       "      <td>0.018658</td>\n",
       "      <td>0.391047</td>\n",
       "      <td>-1.629481</td>\n",
       "      <td>3.228123</td>\n",
       "      <td>3.052738</td>\n",
       "      <td>0.311843</td>\n",
       "      <td>0.686148</td>\n",
       "      <td>-0.533164</td>\n",
       "      <td>-0.561364</td>\n",
       "      <td>...</td>\n",
       "      <td>-0.117723</td>\n",
       "      <td>-0.299212</td>\n",
       "      <td>1.028478</td>\n",
       "      <td>0.712251</td>\n",
       "      <td>0.310843</td>\n",
       "      <td>-0.214138</td>\n",
       "      <td>-0.166272</td>\n",
       "      <td>0</td>\n",
       "      <td>-0.208139</td>\n",
       "      <td>-0.640369</td>\n",
       "    </tr>\n",
       "    <tr>\n",
       "      <td>109991</td>\n",
       "      <td>-0.678419</td>\n",
       "      <td>1.032228</td>\n",
       "      <td>1.542239</td>\n",
       "      <td>0.033214</td>\n",
       "      <td>0.390982</td>\n",
       "      <td>-0.960363</td>\n",
       "      <td>0.868789</td>\n",
       "      <td>-0.188937</td>\n",
       "      <td>-0.481934</td>\n",
       "      <td>-0.551188</td>\n",
       "      <td>...</td>\n",
       "      <td>0.171863</td>\n",
       "      <td>-0.156868</td>\n",
       "      <td>0.381001</td>\n",
       "      <td>-0.106546</td>\n",
       "      <td>-0.659527</td>\n",
       "      <td>-0.007906</td>\n",
       "      <td>0.161963</td>\n",
       "      <td>0</td>\n",
       "      <td>-0.343274</td>\n",
       "      <td>-0.488183</td>\n",
       "    </tr>\n",
       "  </tbody>\n",
       "</table>\n",
       "<p>5 rows × 31 columns</p>\n",
       "</div>"
      ],
      "text/plain": [
       "              V1        V2        V3        V4        V5        V6        V7  \\\n",
       "210918 -1.942564  2.273353 -1.388581 -0.848815  0.790632  0.724401 -0.659293   \n",
       "26180  -0.423833  0.929508  1.222696  0.848953  0.287704 -0.379155  0.579813   \n",
       "48082  -1.107839  0.168790  0.761982 -1.960236 -0.504221 -0.294342 -0.215795   \n",
       "93411  -0.997680  0.018658  0.391047 -1.629481  3.228123  3.052738  0.311843   \n",
       "109991 -0.678419  1.032228  1.542239  0.033214  0.390982 -0.960363  0.868789   \n",
       "\n",
       "              V8        V9       V10  ...       V22       V23       V24  \\\n",
       "210918 -2.624202  0.299560 -0.676094  ... -0.791231  0.173886 -0.304875   \n",
       "26180   0.000857 -0.409845 -0.105179  ...  0.523221 -0.135151  0.061538   \n",
       "48082   0.451860 -1.346098  0.135195  ... -0.304122 -0.076927 -0.579281   \n",
       "93411   0.686148 -0.533164 -0.561364  ... -0.117723 -0.299212  1.028478   \n",
       "109991 -0.188937 -0.481934 -0.551188  ...  0.171863 -0.156868  0.381001   \n",
       "\n",
       "             V25       V26       V27       V28  Class  Amount_Scaled  \\\n",
       "210918 -0.040264  0.573044 -0.039580  0.223783      0      -0.334278   \n",
       "26180  -0.384878 -0.313835  0.053820  0.160229      0      -0.333239   \n",
       "48082  -0.381310 -0.670014 -0.256682  0.044517      0      -0.145329   \n",
       "93411   0.712251  0.310843 -0.214138 -0.166272      0      -0.208139   \n",
       "109991 -0.106546 -0.659527 -0.007906  0.161963      0      -0.343274   \n",
       "\n",
       "        Time_Scaled  \n",
       "210918     0.913264  \n",
       "26180     -1.281835  \n",
       "48082     -1.080816  \n",
       "93411     -0.640369  \n",
       "109991    -0.488183  \n",
       "\n",
       "[5 rows x 31 columns]"
      ]
     },
     "execution_count": 19,
     "metadata": {},
     "output_type": "execute_result"
    }
   ],
   "source": [
    "# Drop columns with no normalized values\n",
    "\n",
    "df_scaled.drop(['Amount', 'Time'], axis = 1, inplace = True)\n",
    "df_scaled.sample(5)"
   ]
  },
  {
   "cell_type": "code",
   "execution_count": 20,
   "metadata": {},
   "outputs": [
    {
     "data": {
      "text/html": [
       "<div>\n",
       "<style scoped>\n",
       "    .dataframe tbody tr th:only-of-type {\n",
       "        vertical-align: middle;\n",
       "    }\n",
       "\n",
       "    .dataframe tbody tr th {\n",
       "        vertical-align: top;\n",
       "    }\n",
       "\n",
       "    .dataframe thead th {\n",
       "        text-align: right;\n",
       "    }\n",
       "</style>\n",
       "<table border=\"1\" class=\"dataframe\">\n",
       "  <thead>\n",
       "    <tr style=\"text-align: right;\">\n",
       "      <th></th>\n",
       "      <th>V1</th>\n",
       "      <th>V2</th>\n",
       "      <th>V3</th>\n",
       "      <th>V4</th>\n",
       "      <th>V5</th>\n",
       "      <th>V6</th>\n",
       "      <th>V7</th>\n",
       "      <th>V8</th>\n",
       "      <th>V9</th>\n",
       "      <th>V10</th>\n",
       "      <th>...</th>\n",
       "      <th>V22</th>\n",
       "      <th>V23</th>\n",
       "      <th>V24</th>\n",
       "      <th>V25</th>\n",
       "      <th>V26</th>\n",
       "      <th>V27</th>\n",
       "      <th>V28</th>\n",
       "      <th>Amount_Scaled</th>\n",
       "      <th>Time_Scaled</th>\n",
       "      <th>Class</th>\n",
       "    </tr>\n",
       "  </thead>\n",
       "  <tbody>\n",
       "    <tr>\n",
       "      <td>166098</td>\n",
       "      <td>1.933102</td>\n",
       "      <td>0.422095</td>\n",
       "      <td>-0.809665</td>\n",
       "      <td>3.771685</td>\n",
       "      <td>0.613019</td>\n",
       "      <td>0.455908</td>\n",
       "      <td>0.061436</td>\n",
       "      <td>0.017551</td>\n",
       "      <td>-0.585853</td>\n",
       "      <td>1.379594</td>\n",
       "      <td>...</td>\n",
       "      <td>0.266639</td>\n",
       "      <td>0.078744</td>\n",
       "      <td>0.461229</td>\n",
       "      <td>0.182068</td>\n",
       "      <td>0.080505</td>\n",
       "      <td>-0.034437</td>\n",
       "      <td>-0.046422</td>\n",
       "      <td>-0.308011</td>\n",
       "      <td>0.485283</td>\n",
       "      <td>0</td>\n",
       "    </tr>\n",
       "    <tr>\n",
       "      <td>110914</td>\n",
       "      <td>-0.536153</td>\n",
       "      <td>0.679394</td>\n",
       "      <td>2.633284</td>\n",
       "      <td>0.127527</td>\n",
       "      <td>-0.114955</td>\n",
       "      <td>-0.159848</td>\n",
       "      <td>0.558465</td>\n",
       "      <td>-0.120408</td>\n",
       "      <td>0.334534</td>\n",
       "      <td>-0.739179</td>\n",
       "      <td>...</td>\n",
       "      <td>0.352373</td>\n",
       "      <td>-0.210094</td>\n",
       "      <td>0.412482</td>\n",
       "      <td>-0.092528</td>\n",
       "      <td>-0.644528</td>\n",
       "      <td>0.000445</td>\n",
       "      <td>-0.079416</td>\n",
       "      <td>-0.313289</td>\n",
       "      <td>-0.479907</td>\n",
       "      <td>0</td>\n",
       "    </tr>\n",
       "    <tr>\n",
       "      <td>24334</td>\n",
       "      <td>-1.819602</td>\n",
       "      <td>-1.085549</td>\n",
       "      <td>0.578706</td>\n",
       "      <td>0.615357</td>\n",
       "      <td>-1.083010</td>\n",
       "      <td>0.455029</td>\n",
       "      <td>2.934105</td>\n",
       "      <td>-0.193961</td>\n",
       "      <td>-0.817227</td>\n",
       "      <td>-1.193433</td>\n",
       "      <td>...</td>\n",
       "      <td>0.575021</td>\n",
       "      <td>1.384951</td>\n",
       "      <td>0.005664</td>\n",
       "      <td>0.244506</td>\n",
       "      <td>-0.471078</td>\n",
       "      <td>-0.099653</td>\n",
       "      <td>0.190265</td>\n",
       "      <td>2.293464</td>\n",
       "      <td>-1.297860</td>\n",
       "      <td>0</td>\n",
       "    </tr>\n",
       "    <tr>\n",
       "      <td>200307</td>\n",
       "      <td>1.347820</td>\n",
       "      <td>-1.320745</td>\n",
       "      <td>-1.024153</td>\n",
       "      <td>0.465419</td>\n",
       "      <td>0.100938</td>\n",
       "      <td>1.503196</td>\n",
       "      <td>-0.297769</td>\n",
       "      <td>0.424432</td>\n",
       "      <td>0.791367</td>\n",
       "      <td>-0.114474</td>\n",
       "      <td>...</td>\n",
       "      <td>-0.837010</td>\n",
       "      <td>0.225543</td>\n",
       "      <td>-1.652476</td>\n",
       "      <td>-0.821541</td>\n",
       "      <td>-0.067103</td>\n",
       "      <td>-0.025358</td>\n",
       "      <td>-0.022647</td>\n",
       "      <td>0.746244</td>\n",
       "      <td>0.812207</td>\n",
       "      <td>0</td>\n",
       "    </tr>\n",
       "    <tr>\n",
       "      <td>22515</td>\n",
       "      <td>-1.455444</td>\n",
       "      <td>-0.455972</td>\n",
       "      <td>2.351831</td>\n",
       "      <td>-0.565761</td>\n",
       "      <td>-0.686836</td>\n",
       "      <td>0.555714</td>\n",
       "      <td>1.114825</td>\n",
       "      <td>-0.384231</td>\n",
       "      <td>-1.267266</td>\n",
       "      <td>0.733456</td>\n",
       "      <td>...</td>\n",
       "      <td>0.192713</td>\n",
       "      <td>0.073370</td>\n",
       "      <td>0.189856</td>\n",
       "      <td>0.304117</td>\n",
       "      <td>-0.438668</td>\n",
       "      <td>-0.296126</td>\n",
       "      <td>-0.437609</td>\n",
       "      <td>0.494365</td>\n",
       "      <td>-1.316749</td>\n",
       "      <td>0</td>\n",
       "    </tr>\n",
       "  </tbody>\n",
       "</table>\n",
       "<p>5 rows × 31 columns</p>\n",
       "</div>"
      ],
      "text/plain": [
       "              V1        V2        V3        V4        V5        V6        V7  \\\n",
       "166098  1.933102  0.422095 -0.809665  3.771685  0.613019  0.455908  0.061436   \n",
       "110914 -0.536153  0.679394  2.633284  0.127527 -0.114955 -0.159848  0.558465   \n",
       "24334  -1.819602 -1.085549  0.578706  0.615357 -1.083010  0.455029  2.934105   \n",
       "200307  1.347820 -1.320745 -1.024153  0.465419  0.100938  1.503196 -0.297769   \n",
       "22515  -1.455444 -0.455972  2.351831 -0.565761 -0.686836  0.555714  1.114825   \n",
       "\n",
       "              V8        V9       V10  ...       V22       V23       V24  \\\n",
       "166098  0.017551 -0.585853  1.379594  ...  0.266639  0.078744  0.461229   \n",
       "110914 -0.120408  0.334534 -0.739179  ...  0.352373 -0.210094  0.412482   \n",
       "24334  -0.193961 -0.817227 -1.193433  ...  0.575021  1.384951  0.005664   \n",
       "200307  0.424432  0.791367 -0.114474  ... -0.837010  0.225543 -1.652476   \n",
       "22515  -0.384231 -1.267266  0.733456  ...  0.192713  0.073370  0.189856   \n",
       "\n",
       "             V25       V26       V27       V28  Amount_Scaled  Time_Scaled  \\\n",
       "166098  0.182068  0.080505 -0.034437 -0.046422      -0.308011     0.485283   \n",
       "110914 -0.092528 -0.644528  0.000445 -0.079416      -0.313289    -0.479907   \n",
       "24334   0.244506 -0.471078 -0.099653  0.190265       2.293464    -1.297860   \n",
       "200307 -0.821541 -0.067103 -0.025358 -0.022647       0.746244     0.812207   \n",
       "22515   0.304117 -0.438668 -0.296126 -0.437609       0.494365    -1.316749   \n",
       "\n",
       "        Class  \n",
       "166098      0  \n",
       "110914      0  \n",
       "24334       0  \n",
       "200307      0  \n",
       "22515       0  \n",
       "\n",
       "[5 rows x 31 columns]"
      ]
     },
     "execution_count": 20,
     "metadata": {},
     "output_type": "execute_result"
    }
   ],
   "source": [
    "# reindexing dataframe with a correct order \n",
    "\n",
    "columns_titles = ['V1','V2','V3','V4', 'V5', 'V6', 'V7', 'V8', 'V9', 'V10', 'V11', 'V12', 'V13', 'V14', 'V15', 'V16', 'V17', 'V18', 'V19', 'V20', 'V21', 'V22', 'V23', 'V24', 'V25', 'V26', 'V27', 'V28', 'Amount_Scaled', 'Time_Scaled', 'Class']\n",
    "df_scaled = df_scaled.reindex(columns = columns_titles)\n",
    "df_scaled.sample(5)"
   ]
  },
  {
   "cell_type": "markdown",
   "metadata": {},
   "source": [
    "Now we can observe that fraud and non-fraud transactions are distinguishable and linearly separable to some extente. "
   ]
  },
  {
   "cell_type": "code",
   "execution_count": 21,
   "metadata": {},
   "outputs": [],
   "source": [
    "# feature Matrix\n",
    "#X = df_scaled.drop('Class', axis = 1)\n",
    "\n",
    "# target Vector\n",
    "#y = df_scaled['Class']\n",
    "\n",
    "#X_TSNE = X.values\n",
    "#y_TSNE = y.values\n",
    "\n",
    "#z = TSNE(n_components = 2, random_state = 24).fit_transform(X_TSNE)\n",
    "\n",
    "#plt.figure(figsize=(8, 6))\n",
    "#plt.scatter(z[np.where(y_TSNE == 0), 0], z[np.where(y_TSNE == 0), 1], marker='o', color='g', linewidth='1', alpha=0.8, label='Non Fraud')\n",
    "#plt.scatter(z[np.where(y_TSNE == 1), 0], z[np.where(y_TSNE == 1), 1], marker='o', color='r', linewidth='1', alpha=0.8, label='Fraud')\n",
    "#plt.legend(loc = 'best')\n",
    "#plt.show()"
   ]
  },
  {
   "cell_type": "markdown",
   "metadata": {},
   "source": [
    "### Data Splitting"
   ]
  },
  {
   "cell_type": "code",
   "execution_count": 22,
   "metadata": {},
   "outputs": [
    {
     "name": "stdout",
     "output_type": "stream",
     "text": [
      "root\n",
      " |-- V1: double (nullable = true)\n",
      " |-- V2: double (nullable = true)\n",
      " |-- V3: double (nullable = true)\n",
      " |-- V4: double (nullable = true)\n",
      " |-- V5: double (nullable = true)\n",
      " |-- V6: double (nullable = true)\n",
      " |-- V7: double (nullable = true)\n",
      " |-- V8: double (nullable = true)\n",
      " |-- V9: double (nullable = true)\n",
      " |-- V10: double (nullable = true)\n",
      " |-- V11: double (nullable = true)\n",
      " |-- V12: double (nullable = true)\n",
      " |-- V13: double (nullable = true)\n",
      " |-- V14: double (nullable = true)\n",
      " |-- V15: double (nullable = true)\n",
      " |-- V16: double (nullable = true)\n",
      " |-- V17: double (nullable = true)\n",
      " |-- V18: double (nullable = true)\n",
      " |-- V19: double (nullable = true)\n",
      " |-- V20: double (nullable = true)\n",
      " |-- V21: double (nullable = true)\n",
      " |-- V22: double (nullable = true)\n",
      " |-- V23: double (nullable = true)\n",
      " |-- V24: double (nullable = true)\n",
      " |-- V25: double (nullable = true)\n",
      " |-- V26: double (nullable = true)\n",
      " |-- V27: double (nullable = true)\n",
      " |-- V28: double (nullable = true)\n",
      " |-- Amount_Scaled: double (nullable = true)\n",
      " |-- Time_Scaled: double (nullable = true)\n",
      " |-- Class: double (nullable = true)\n",
      "\n"
     ]
    }
   ],
   "source": [
    "# casting all columns to double \n",
    "\n",
    "df_spark = spark.createDataFrame(df_scaled)\n",
    "df_spark = df_spark.withColumn('Class', df_spark['Class'].cast('double'))\n",
    "df_spark.printSchema()"
   ]
  },
  {
   "cell_type": "code",
   "execution_count": 23,
   "metadata": {},
   "outputs": [
    {
     "data": {
      "text/plain": [
       "Row(V1=-1.3598071336738, V2=-0.0727811733098497, V3=2.53634673796914, V4=1.37815522427443, V5=-0.33832076994251803, V6=0.462387777762292, V7=0.239598554061257, V8=0.0986979012610507, V9=0.363786969611213, V10=0.0907941719789316, V11=-0.551599533260813, V12=-0.617800855762348, V13=-0.991389847235408, V14=-0.31116935369987897, V15=1.46817697209427, V16=-0.47040052525947795, V17=0.20797124192924202, V18=0.0257905801985591, V19=0.403992960255733, V20=0.251412098239705, V21=-0.018306777944153, V22=0.277837575558899, V23=-0.110473910188767, V24=0.0669280749146731, V25=0.12853935827352803, V26=-0.189114843888824, V27=0.13355837674038698, V28=-0.0210530534538215, Amount_Scaled=0.24496426337017338, Time_Scaled=-1.996583023457193, Class=0.0)"
      ]
     },
     "execution_count": 23,
     "metadata": {},
     "output_type": "execute_result"
    }
   ],
   "source": [
    "df_spark.head()"
   ]
  },
  {
   "cell_type": "code",
   "execution_count": 24,
   "metadata": {},
   "outputs": [
    {
     "data": {
      "text/plain": [
       "Row(features=DenseVector([-1.3598, -0.0728, 2.5363, 1.3782, -0.3383, 0.4624, 0.2396, 0.0987, 0.3638, 0.0908, -0.5516, -0.6178, -0.9914, -0.3112, 1.4682, -0.4704, 0.208, 0.0258, 0.404, 0.2514, -0.0183, 0.2778, -0.1105, 0.0669, 0.1285, -0.1891, 0.1336, -0.0211, 0.245, -1.9966]), label=0.0)"
      ]
     },
     "execution_count": 24,
     "metadata": {},
     "output_type": "execute_result"
    }
   ],
   "source": [
    "ml_df = df_spark.rdd.map(lambda x: (DenseVector(x[0:30]), x[30]))\n",
    "ml_df = spark.createDataFrame(ml_df, [\"features\", \"label\"])\n",
    "ml_df.head()\n",
    "#ml_df.select(\"features\").show()\n",
    "#ml_df.groupBy(\"label\").count().show()"
   ]
  },
  {
   "cell_type": "code",
   "execution_count": 25,
   "metadata": {},
   "outputs": [],
   "source": [
    "ml_df = ml_df.select(\"features\",\"label\")\n",
    "train_data, test_data = ml_df.randomSplit([.8,.2],seed=1234)"
   ]
  },
  {
   "cell_type": "code",
   "execution_count": 26,
   "metadata": {},
   "outputs": [
    {
     "data": {
      "text/plain": [
       "Row(features=DenseVector([-30.5524, 16.7134, -31.1037, 6.535, -22.1055, -4.9777, -20.3715, 20.0072, -3.5657, -7.7311, 3.8294, -5.3143, 1.4469, -4.5793, -0.1423, -4.9978, -10.9614, -4.6415, 0.5671, 1.7336, 1.8165, -2.2887, -1.4605, 0.1832, 2.2082, -0.2088, 1.2326, 0.3567, 0.0465, -1.3911]), label=1.0)"
      ]
     },
     "execution_count": 26,
     "metadata": {},
     "output_type": "execute_result"
    }
   ],
   "source": [
    "train_data.head()"
   ]
  },
  {
   "cell_type": "code",
   "execution_count": 27,
   "metadata": {},
   "outputs": [
    {
     "name": "stdout",
     "output_type": "stream",
     "text": [
      "+-----+------+\n",
      "|label| count|\n",
      "+-----+------+\n",
      "|  0.0|227770|\n",
      "|  1.0|   403|\n",
      "+-----+------+\n",
      "\n"
     ]
    }
   ],
   "source": [
    "train_data.groupBy(\"label\").count().show()"
   ]
  },
  {
   "cell_type": "code",
   "execution_count": 28,
   "metadata": {},
   "outputs": [
    {
     "data": {
      "text/plain": [
       "Row(features=DenseVector([-29.8764, 16.4345, -30.5587, 6.5059, -21.6657, -4.9404, -20.0814, 19.5878, -3.5915, -7.8006, 3.9478, -5.4879, 1.3699, -4.8296, -0.1344, -5.1212, -11.1182, -4.66, 0.6089, 1.7248, 1.813, -2.2323, -1.4128, 0.1787, 2.156, -0.2094, 1.2556, 0.3645, 0.0465, -1.3917]), label=1.0)"
      ]
     },
     "execution_count": 28,
     "metadata": {},
     "output_type": "execute_result"
    }
   ],
   "source": [
    "test_data.head()"
   ]
  },
  {
   "cell_type": "code",
   "execution_count": 29,
   "metadata": {},
   "outputs": [
    {
     "name": "stdout",
     "output_type": "stream",
     "text": [
      "+-----+-----+\n",
      "|label|count|\n",
      "+-----+-----+\n",
      "|  0.0|56545|\n",
      "|  1.0|   89|\n",
      "+-----+-----+\n",
      "\n"
     ]
    }
   ],
   "source": [
    "test_data.groupBy(\"label\").count().show()"
   ]
  },
  {
   "cell_type": "markdown",
   "metadata": {},
   "source": [
    "### Balancing the Dataset\n",
    "\n",
    "The dataset is highly unbalanced since there's a skew in the class distribution. Thus, our training dataset could be biased and influence the ML algorithm when displaying results. To address this problem we randomly balance the data to have the same number of fraudelent and non fraudulent transactions. \n",
    "\n",
    "To do that, we retrieve from the training data a dataframe with the frauds and a dataframe with the non frauds. After that, we concatenated the two to obtain a balanced dataset. In this way, we created a subsample dataset with balanced class distribution"
   ]
  },
  {
   "cell_type": "code",
   "execution_count": 30,
   "metadata": {},
   "outputs": [
    {
     "name": "stdout",
     "output_type": "stream",
     "text": [
      "403\n",
      "227770\n"
     ]
    }
   ],
   "source": [
    "fraud_df_spark = train_data.filter(\"label=1.0\")\n",
    "non_fraud_df_spark = train_data.filter(\"label=0.0\")\n",
    "\n",
    "print(fraud_df_spark.count())\n",
    "print(non_fraud_df_spark.count())\n",
    "\n",
    "ratio = fraud_df_spark.count() / non_fraud_df_spark.count()\n",
    "\n",
    "non_fraud_sample_df_spark = non_fraud_df_spark.sample(False, ratio)\n",
    "\n",
    "balanced_df = fraud_df_spark.unionAll(non_fraud_sample_df_spark)"
   ]
  },
  {
   "cell_type": "code",
   "execution_count": 31,
   "metadata": {},
   "outputs": [],
   "source": [
    "# dataframe spark to dataframe pandas\n",
    "balanced_dfp = balanced_df.toPandas()\n",
    "balanced_dfp.head()\n",
    "number = balanced_df.count()"
   ]
  },
  {
   "cell_type": "markdown",
   "metadata": {},
   "source": [
    "The plot below shows that now we have a balanced dataset, where the number of frauds is equal to the number of non fraudulent transactions."
   ]
  },
  {
   "cell_type": "code",
   "execution_count": 32,
   "metadata": {},
   "outputs": [
    {
     "data": {
      "image/png": "[encoded data removed]",
      "text/plain": [
       "<Figure size 432x288 with 1 Axes>"
      ]
     },
     "metadata": {
      "needs_background": "light"
     },
     "output_type": "display_data"
    }
   ],
   "source": [
    "new_classes = pd.value_counts(balanced_dfp['label'], sort=True)\n",
    "new_classes.plot(kind = 'bar', rot=0)\n",
    "\n",
    "plt.title(\"Class Transactions\")\n",
    "plt.xticks(range(2), ['Non Fraud', 'Fraud'])\n",
    "plt.xlabel(\"Class\")\n",
    "plt.ylabel(\"Frequency - #Transactions\")\n",
    "plt.show()"
   ]
  },
  {
   "cell_type": "markdown",
   "metadata": {},
   "source": [
    "### Correlations"
   ]
  },
  {
   "cell_type": "code",
   "execution_count": 33,
   "metadata": {},
   "outputs": [
    {
     "data": {
      "text/html": [
       "<div>\n",
       "<style scoped>\n",
       "    .dataframe tbody tr th:only-of-type {\n",
       "        vertical-align: middle;\n",
       "    }\n",
       "\n",
       "    .dataframe tbody tr th {\n",
       "        vertical-align: top;\n",
       "    }\n",
       "\n",
       "    .dataframe thead th {\n",
       "        text-align: right;\n",
       "    }\n",
       "</style>\n",
       "<table border=\"1\" class=\"dataframe\">\n",
       "  <thead>\n",
       "    <tr style=\"text-align: right;\">\n",
       "      <th></th>\n",
       "      <th>V1</th>\n",
       "      <th>V2</th>\n",
       "      <th>V3</th>\n",
       "      <th>V4</th>\n",
       "      <th>V5</th>\n",
       "      <th>V6</th>\n",
       "      <th>V7</th>\n",
       "      <th>V8</th>\n",
       "      <th>V9</th>\n",
       "      <th>V10</th>\n",
       "      <th>...</th>\n",
       "      <th>V22</th>\n",
       "      <th>V23</th>\n",
       "      <th>V24</th>\n",
       "      <th>V25</th>\n",
       "      <th>V26</th>\n",
       "      <th>V27</th>\n",
       "      <th>V28</th>\n",
       "      <th>Amount_Scaled</th>\n",
       "      <th>Time_Scaled</th>\n",
       "      <th>Label</th>\n",
       "    </tr>\n",
       "  </thead>\n",
       "  <tbody>\n",
       "    <tr>\n",
       "      <td>0</td>\n",
       "      <td>-30.552380</td>\n",
       "      <td>16.713389</td>\n",
       "      <td>-31.103685</td>\n",
       "      <td>6.534984</td>\n",
       "      <td>-22.105532</td>\n",
       "      <td>-4.977692</td>\n",
       "      <td>-20.371514</td>\n",
       "      <td>20.007208</td>\n",
       "      <td>-3.565738</td>\n",
       "      <td>-7.731071</td>\n",
       "      <td>...</td>\n",
       "      <td>-2.288686</td>\n",
       "      <td>-1.460544</td>\n",
       "      <td>0.183179</td>\n",
       "      <td>2.208209</td>\n",
       "      <td>-0.208824</td>\n",
       "      <td>1.232636</td>\n",
       "      <td>0.356660</td>\n",
       "      <td>0.046539</td>\n",
       "      <td>-1.391062</td>\n",
       "      <td>1.0</td>\n",
       "    </tr>\n",
       "    <tr>\n",
       "      <td>1</td>\n",
       "      <td>-29.200329</td>\n",
       "      <td>16.155701</td>\n",
       "      <td>-30.013712</td>\n",
       "      <td>6.476731</td>\n",
       "      <td>-21.225810</td>\n",
       "      <td>-4.902997</td>\n",
       "      <td>-19.791248</td>\n",
       "      <td>19.168327</td>\n",
       "      <td>-3.617242</td>\n",
       "      <td>-7.870122</td>\n",
       "      <td>...</td>\n",
       "      <td>-2.175815</td>\n",
       "      <td>-1.365104</td>\n",
       "      <td>0.174286</td>\n",
       "      <td>2.103868</td>\n",
       "      <td>-0.209944</td>\n",
       "      <td>1.278681</td>\n",
       "      <td>0.372393</td>\n",
       "      <td>0.046539</td>\n",
       "      <td>-1.392389</td>\n",
       "      <td>1.0</td>\n",
       "    </tr>\n",
       "    <tr>\n",
       "      <td>2</td>\n",
       "      <td>-28.524268</td>\n",
       "      <td>15.876923</td>\n",
       "      <td>-29.468732</td>\n",
       "      <td>6.447591</td>\n",
       "      <td>-20.786000</td>\n",
       "      <td>-4.865613</td>\n",
       "      <td>-19.501084</td>\n",
       "      <td>18.748872</td>\n",
       "      <td>-3.642990</td>\n",
       "      <td>-7.939642</td>\n",
       "      <td>...</td>\n",
       "      <td>-2.119376</td>\n",
       "      <td>-1.317450</td>\n",
       "      <td>0.169846</td>\n",
       "      <td>2.051687</td>\n",
       "      <td>-0.210502</td>\n",
       "      <td>1.301734</td>\n",
       "      <td>0.380246</td>\n",
       "      <td>0.046539</td>\n",
       "      <td>-1.393105</td>\n",
       "      <td>1.0</td>\n",
       "    </tr>\n",
       "    <tr>\n",
       "      <td>3</td>\n",
       "      <td>-27.848181</td>\n",
       "      <td>15.598193</td>\n",
       "      <td>-28.923756</td>\n",
       "      <td>6.418442</td>\n",
       "      <td>-20.346228</td>\n",
       "      <td>-4.828202</td>\n",
       "      <td>-19.210896</td>\n",
       "      <td>18.329406</td>\n",
       "      <td>-3.668735</td>\n",
       "      <td>-8.009159</td>\n",
       "      <td>...</td>\n",
       "      <td>-2.062934</td>\n",
       "      <td>-1.269843</td>\n",
       "      <td>0.165409</td>\n",
       "      <td>1.999499</td>\n",
       "      <td>-0.211059</td>\n",
       "      <td>1.324809</td>\n",
       "      <td>0.388090</td>\n",
       "      <td>0.046539</td>\n",
       "      <td>-1.393800</td>\n",
       "      <td>1.0</td>\n",
       "    </tr>\n",
       "    <tr>\n",
       "      <td>4</td>\n",
       "      <td>-27.143678</td>\n",
       "      <td>15.365804</td>\n",
       "      <td>-28.407424</td>\n",
       "      <td>6.370895</td>\n",
       "      <td>-20.087878</td>\n",
       "      <td>-4.666313</td>\n",
       "      <td>-18.709479</td>\n",
       "      <td>17.903574</td>\n",
       "      <td>-3.722279</td>\n",
       "      <td>-8.120962</td>\n",
       "      <td>...</td>\n",
       "      <td>-1.960974</td>\n",
       "      <td>-0.902247</td>\n",
       "      <td>0.144011</td>\n",
       "      <td>2.024388</td>\n",
       "      <td>-0.204214</td>\n",
       "      <td>1.332153</td>\n",
       "      <td>0.385891</td>\n",
       "      <td>0.046539</td>\n",
       "      <td>-1.403950</td>\n",
       "      <td>1.0</td>\n",
       "    </tr>\n",
       "  </tbody>\n",
       "</table>\n",
       "<p>5 rows × 31 columns</p>\n",
       "</div>"
      ],
      "text/plain": [
       "          V1         V2         V3        V4         V5        V6         V7  \\\n",
       "0 -30.552380  16.713389 -31.103685  6.534984 -22.105532 -4.977692 -20.371514   \n",
       "1 -29.200329  16.155701 -30.013712  6.476731 -21.225810 -4.902997 -19.791248   \n",
       "2 -28.524268  15.876923 -29.468732  6.447591 -20.786000 -4.865613 -19.501084   \n",
       "3 -27.848181  15.598193 -28.923756  6.418442 -20.346228 -4.828202 -19.210896   \n",
       "4 -27.143678  15.365804 -28.407424  6.370895 -20.087878 -4.666313 -18.709479   \n",
       "\n",
       "          V8        V9       V10  ...       V22       V23       V24       V25  \\\n",
       "0  20.007208 -3.565738 -7.731071  ... -2.288686 -1.460544  0.183179  2.208209   \n",
       "1  19.168327 -3.617242 -7.870122  ... -2.175815 -1.365104  0.174286  2.103868   \n",
       "2  18.748872 -3.642990 -7.939642  ... -2.119376 -1.317450  0.169846  2.051687   \n",
       "3  18.329406 -3.668735 -8.009159  ... -2.062934 -1.269843  0.165409  1.999499   \n",
       "4  17.903574 -3.722279 -8.120962  ... -1.960974 -0.902247  0.144011  2.024388   \n",
       "\n",
       "        V26       V27       V28  Amount_Scaled  Time_Scaled  Label  \n",
       "0 -0.208824  1.232636  0.356660       0.046539    -1.391062    1.0  \n",
       "1 -0.209944  1.278681  0.372393       0.046539    -1.392389    1.0  \n",
       "2 -0.210502  1.301734  0.380246       0.046539    -1.393105    1.0  \n",
       "3 -0.211059  1.324809  0.388090       0.046539    -1.393800    1.0  \n",
       "4 -0.204214  1.332153  0.385891       0.046539    -1.403950    1.0  \n",
       "\n",
       "[5 rows x 31 columns]"
      ]
     },
     "execution_count": 33,
     "metadata": {},
     "output_type": "execute_result"
    }
   ],
   "source": [
    "columns_titles = ['V1','V2','V3','V4', 'V5', 'V6', 'V7', 'V8', 'V9', 'V10', 'V11', 'V12', 'V13', 'V14', 'V15', 'V16', 'V17', 'V18', 'V19', 'V20', 'V21', 'V22', 'V23', 'V24', 'V25', 'V26', 'V27', 'V28', 'Amount_Scaled', 'Time_Scaled', 'Label']\n",
    "correlations_df = pd.DataFrame(columns=columns_titles)\n",
    "\n",
    "for i in range(number):\n",
    "    \n",
    "    features_value_list = balanced_dfp['features'].iloc[i].tolist()\n",
    "    label = balanced_dfp['label'].iloc[i]\n",
    "    features_value_list.append(label)\n",
    "    features_value_array = np.asarray(features_value_list)\n",
    "    temp = pd.DataFrame([features_value_array], columns=columns_titles)\n",
    "    correlations_df = correlations_df.append(temp, ignore_index=True)\n",
    "\n",
    "correlations_df.head()"
   ]
  },
  {
   "cell_type": "markdown",
   "metadata": {},
   "source": [
    "Now that we have a balanced dataset, the correlation matrix shows meaningful correlation between some features, differently from the correlation matrix displayed before"
   ]
  },
  {
   "cell_type": "code",
   "execution_count": 34,
   "metadata": {},
   "outputs": [
    {
     "data": {
      "text/plain": [
       "<matplotlib.axes._subplots.AxesSubplot at 0x1a24525510>"
      ]
     },
     "execution_count": 34,
     "metadata": {},
     "output_type": "execute_result"
    },
    {
     "data": {
      "image/png": "[encoded data removed]",
      "text/plain": [
       "<Figure size 576x432 with 2 Axes>"
      ]
     },
     "metadata": {
      "needs_background": "light"
     },
     "output_type": "display_data"
    }
   ],
   "source": [
    "correlations = correlations_df.corr()\n",
    "\n",
    "fig, ax = plt.subplots(figsize=(8, 6))\n",
    "sns.heatmap(correlations, \n",
    "            xticklabels=correlations.columns, \n",
    "            yticklabels=correlations.columns,\n",
    "            linewidths=.1, cmap=\"RdBu\", ax=ax)"
   ]
  },
  {
   "cell_type": "markdown",
   "metadata": {},
   "source": [
    "## Classification Modeling"
   ]
  },
  {
   "cell_type": "markdown",
   "metadata": {},
   "source": [
    "We are going to utilize a ML classification algorith to train our data and pick up the specific characterstics that make a transaction more or less likely to be fraudulent. \n",
    "\n",
    "Performance Evaluation is done on ROC-AUC. It outputs a value between zero and one. If it is above 0.5 it is better than random guessing. "
   ]
  },
  {
   "cell_type": "markdown",
   "metadata": {},
   "source": [
    "### Training"
   ]
  },
  {
   "cell_type": "markdown",
   "metadata": {},
   "source": [
    "It has been used a logistic regression. Logistic regression models are used to determine the odds of a certain class or event existing. In our case, it will establish the probability of a transaction belonging to Class 0 or 1, which is normal or fraudulent."
   ]
  },
  {
   "cell_type": "code",
   "execution_count": 35,
   "metadata": {},
   "outputs": [],
   "source": [
    "lr = LogisticRegression().setLabelCol(\"label\").setFeaturesCol(\"features\").setMaxIter(30).setRegParam(0.3).setElasticNetParam(0.8)\n",
    "\n",
    "lr_model = lr.fit(balanced_df)"
   ]
  },
  {
   "cell_type": "markdown",
   "metadata": {},
   "source": [
    "### Testing"
   ]
  },
  {
   "cell_type": "markdown",
   "metadata": {},
   "source": [
    "Now, let's evaluate our model with the test dataset"
   ]
  },
  {
   "cell_type": "code",
   "execution_count": 36,
   "metadata": {},
   "outputs": [
    {
     "name": "stdout",
     "output_type": "stream",
     "text": [
      "+--------------------+-----+--------------------+--------------------+----------+\n",
      "|            features|label|       rawPrediction|         probability|prediction|\n",
      "+--------------------+-----+--------------------+--------------------+----------+\n",
      "|[-29.876365513976...|  1.0|[-0.3729661453077...|[0.40782449119477...|       1.0|\n",
      "|[-28.344757250015...|  0.0|[-0.0967343510714...|[0.47583525283228...|       1.0|\n",
      "|[-22.382092095390...|  0.0|[0.37449347648300...|[0.59254431290500...|       0.0|\n",
      "|[-21.567419280019...|  0.0|[0.17384061464807...|[0.54335103423591...|       0.0|\n",
      "|[-21.353056221829...|  0.0|[0.32838767166411...|[0.58136702088440...|       0.0|\n",
      "|[-21.209119592791...|  1.0|[-0.5832915009367...|[0.35817557152948...|       1.0|\n",
      "|[-20.532751076435...|  1.0|[-0.5992682517702...|[0.35451112407503...|       1.0|\n",
      "|[-18.018561187677...|  1.0|[-1.2712074147925...|[0.21905063264976...|       1.0|\n",
      "|[-16.367923010796...|  1.0|[-1.3270380254273...|[0.20964973261164...|       1.0|\n",
      "|[-16.255642319917...|  0.0|[0.05125849129010...|[0.51281181776270...|       0.0|\n",
      "|[-15.370872264849...|  0.0|[0.33965572881940...|[0.58410689292644...|       0.0|\n",
      "|[-14.724627011925...|  1.0|[-1.3829390287408...|[0.20053739361673...|       1.0|\n",
      "|[-14.665963714958...|  0.0|[0.32392798785965...|[0.58028123347921...|       0.0|\n",
      "|[-14.575409584507...|  0.0|[-0.6563591294355...|[0.34155795622747...|       1.0|\n",
      "|[-14.198075576864...|  0.0|[0.25507763478181...|[0.56342588273916...|       0.0|\n",
      "|[-14.163808303229...|  0.0|[0.08775168556566...|[0.52192385473518...|       0.0|\n",
      "|[-13.703360067912...|  0.0|[0.46618072988217...|[0.61447938893653...|       0.0|\n",
      "|[-13.583082802692...|  0.0|[0.38748662422523...|[0.59567750911260...|       0.0|\n",
      "|[-13.247210071986...|  0.0|[-0.6888355771439...|[0.33429215495017...|       1.0|\n",
      "|[-12.444897187536...|  0.0|[0.78900438261825...|[0.68761751225660...|       0.0|\n",
      "+--------------------+-----+--------------------+--------------------+----------+\n",
      "only showing top 20 rows\n",
      "\n",
      "+----------+--------------------+-----+--------------------+\n",
      "|prediction|       rawPrediction|label|            features|\n",
      "+----------+--------------------+-----+--------------------+\n",
      "|       1.0|[-0.3729661453077...|  1.0|[-29.876365513976...|\n",
      "|       1.0|[-0.0967343510714...|  0.0|[-28.344757250015...|\n",
      "|       0.0|[0.37449347648300...|  0.0|[-22.382092095390...|\n",
      "|       0.0|[0.17384061464807...|  0.0|[-21.567419280019...|\n",
      "|       0.0|[0.32838767166411...|  0.0|[-21.353056221829...|\n",
      "+----------+--------------------+-----+--------------------+\n",
      "only showing top 5 rows\n",
      "\n"
     ]
    }
   ],
   "source": [
    "lr_predictions = lr_model.transform(test_data)\n",
    "lr_predictions.show()\n",
    "lr_predictions.select(\"prediction\", \"rawPrediction\", \"label\", \"features\").show(5)"
   ]
  },
  {
   "cell_type": "code",
   "execution_count": 37,
   "metadata": {},
   "outputs": [
    {
     "name": "stdout",
     "output_type": "stream",
     "text": [
      "<pyspark.ml.classification.BinaryLogisticRegressionTrainingSummary object at 0x1a3f880b10>\n",
      "+---+--------------------+\n",
      "|FPR|                 TPR|\n",
      "+---+--------------------+\n",
      "|0.0|                 0.0|\n",
      "|0.0|0.017369727047146403|\n",
      "|0.0|0.034739454094292806|\n",
      "|0.0| 0.05459057071960298|\n",
      "|0.0|  0.0794044665012407|\n",
      "|0.0| 0.09925558312655088|\n",
      "|0.0| 0.11662531017369727|\n",
      "|0.0| 0.13399503722084366|\n",
      "|0.0| 0.15384615384615385|\n",
      "|0.0| 0.17369727047146402|\n",
      "|0.0| 0.19106699751861042|\n",
      "|0.0| 0.21339950372208435|\n",
      "|0.0| 0.23076923076923078|\n",
      "|0.0| 0.24813895781637718|\n",
      "|0.0|  0.2630272952853598|\n",
      "|0.0|  0.2803970223325062|\n",
      "|0.0|  0.2977667493796526|\n",
      "|0.0|   0.315136476426799|\n",
      "|0.0|  0.3325062034739454|\n",
      "|0.0| 0.34987593052109184|\n",
      "+---+--------------------+\n",
      "only showing top 20 rows\n",
      "\n",
      "area Under ROC: 0.9788040314922035\n",
      "F1-Score: 0.9973287962598861\n"
     ]
    }
   ],
   "source": [
    "training_summary = lr_model.summary\n",
    "print(training_summary)\n",
    "\n",
    "lr_f1_evaluator = MulticlassClassificationEvaluator().setMetricName(\"f1\").setLabelCol(\"label\").setPredictionCol(\"prediction\")\n",
    "lr_f1 = lr_f1_evaluator.evaluate(lr_predictions)\n",
    "\n",
    "training_summary.roc.show()\n",
    "print(\"area Under ROC: \" + str(training_summary.areaUnderROC))\n",
    "print(\"F1-Score: \" + str(lr_f1))"
   ]
  },
  {
   "cell_type": "code",
   "execution_count": 38,
   "metadata": {},
   "outputs": [
    {
     "name": "stdout",
     "output_type": "stream",
     "text": [
      "Area under PR = 0.2565421948102993\n",
      "Area under ROC = 0.9028850443268313\n"
     ]
    }
   ],
   "source": [
    "prediction_labels = lr_predictions.rdd.map(lambda x: (float(x.prediction), float(x.label)))\n",
    "\n",
    "metrics = BinaryClassificationMetrics(prediction_labels)\n",
    "\n",
    "print(\"Area under PR = %s\" % metrics.areaUnderPR)\n",
    "print(\"Area under ROC = %s\" % metrics.areaUnderROC)"
   ]
  },
  {
   "cell_type": "markdown",
   "metadata": {},
   "source": [
    "### Save model"
   ]
  },
  {
   "cell_type": "markdown",
   "metadata": {},
   "source": [
    "commented code for saving LogisticRegressionModel on the disk for future use"
   ]
  },
  {
   "cell_type": "code",
   "execution_count": 39,
   "metadata": {},
   "outputs": [
    {
     "data": {
      "text/plain": [
       "'from pyspark.ml.classification import LogisticRegressionModel\\n\\nlrModel.write().save(\"./LRModelSpark2\")'"
      ]
     },
     "execution_count": 39,
     "metadata": {},
     "output_type": "execute_result"
    }
   ],
   "source": [
    "'''from pyspark.ml.classification import LogisticRegressionModel\n",
    "\n",
    "lrModel.write().save(\"./LRModelSpark2\")'''"
   ]
  }
 ],
 "metadata": {
  "kernelspec": {
   "display_name": "Python 3",
   "language": "python",
   "name": "python3"
  },
  "language_info": {
   "codemirror_mode": {
    "name": "ipython",
    "version": 3
   },
   "file_extension": ".py",
   "mimetype": "text/x-python",
   "name": "python",
   "nbconvert_exporter": "python",
   "pygments_lexer": "ipython3",
   "version": "3.7.4"
  }
 },
 "nbformat": 4,
 "nbformat_minor": 2
}
