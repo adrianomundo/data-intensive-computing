{
 "cells": [
  {
   "cell_type": "markdown",
   "metadata": {},
   "source": [
    "# Introduction\n",
    "\n",
    "In this notebook it is presented a way to detect fraud transactions. \n",
    "\n",
    "The dataset consists of CC transactions whose features are the product of a PCA analysis and thus we don't know what they represent expect from the Amount, Time and Class. Amount is the price of each transaction, Time is the \"seconds elapsed between each transaction and the first transaction\" and ‘Class’ represents a fraud transaction when its value equals 1 and a valid transaction when its value equals 0"
   ]
  },
  {
   "cell_type": "markdown",
   "metadata": {},
   "source": [
    "## Exploratory Data Analysis"
   ]
  },
  {
   "cell_type": "markdown",
   "metadata": {},
   "source": [
    "The data set has 31 features, 28 of which have been anonymized and are labeled V1 through V28. The remaining three features are the time and the amount of the transaction as well as whether that transaction was fraudulent or not. Before it was uploaded to Kaggle, the anonymized variables had been modified in the form of a PCA (Principal Component Analysis). Furthermore, there were no missing values in the data set. Equipped with this basic description of the data, let’s jump into some exploratory data analysis."
   ]
  },
  {
   "cell_type": "code",
   "execution_count": 2,
   "metadata": {},
   "outputs": [],
   "source": [
    "import pandas as pd\n",
    "import numpy as np\n",
    "import seaborn as sns\n",
    "import matplotlib.pyplot as plt\n",
    "import sklearn\n",
    "from sklearn.preprocessing import StandardScaler\n",
    "from sklearn.metrics import confusion_matrix, classification_report, accuracy_score, roc_auc_score, roc_curve\n",
    "from sklearn.model_selection import train_test_split\n",
    "from sklearn.linear_model import LogisticRegression\n",
    "from imblearn.under_sampling import RandomUnderSampler\n",
    "import pickle\n"
   ]
  },
  {
   "cell_type": "code",
   "execution_count": 3,
   "metadata": {},
   "outputs": [
    {
     "name": "stdout",
     "output_type": "stream",
     "text": [
      "missing values:  False\n"
     ]
    }
   ],
   "source": [
    "df = pd.read_csv(\"./creditcard.csv\")\n",
    "print(\"missing values: \", df.isnull().values.any())"
   ]
  },
  {
   "cell_type": "code",
   "execution_count": 4,
   "metadata": {},
   "outputs": [
    {
     "data": {
      "text/html": [
       "<div>\n",
       "<style scoped>\n",
       "    .dataframe tbody tr th:only-of-type {\n",
       "        vertical-align: middle;\n",
       "    }\n",
       "\n",
       "    .dataframe tbody tr th {\n",
       "        vertical-align: top;\n",
       "    }\n",
       "\n",
       "    .dataframe thead th {\n",
       "        text-align: right;\n",
       "    }\n",
       "</style>\n",
       "<table border=\"1\" class=\"dataframe\">\n",
       "  <thead>\n",
       "    <tr style=\"text-align: right;\">\n",
       "      <th></th>\n",
       "      <th>Time</th>\n",
       "      <th>V1</th>\n",
       "      <th>V2</th>\n",
       "      <th>V3</th>\n",
       "      <th>V4</th>\n",
       "      <th>V5</th>\n",
       "      <th>V6</th>\n",
       "      <th>V7</th>\n",
       "      <th>V8</th>\n",
       "      <th>V9</th>\n",
       "      <th>...</th>\n",
       "      <th>V21</th>\n",
       "      <th>V22</th>\n",
       "      <th>V23</th>\n",
       "      <th>V24</th>\n",
       "      <th>V25</th>\n",
       "      <th>V26</th>\n",
       "      <th>V27</th>\n",
       "      <th>V28</th>\n",
       "      <th>Amount</th>\n",
       "      <th>Class</th>\n",
       "    </tr>\n",
       "  </thead>\n",
       "  <tbody>\n",
       "    <tr>\n",
       "      <td>0</td>\n",
       "      <td>0.0</td>\n",
       "      <td>-1.359807</td>\n",
       "      <td>-0.072781</td>\n",
       "      <td>2.536347</td>\n",
       "      <td>1.378155</td>\n",
       "      <td>-0.338321</td>\n",
       "      <td>0.462388</td>\n",
       "      <td>0.239599</td>\n",
       "      <td>0.098698</td>\n",
       "      <td>0.363787</td>\n",
       "      <td>...</td>\n",
       "      <td>-0.018307</td>\n",
       "      <td>0.277838</td>\n",
       "      <td>-0.110474</td>\n",
       "      <td>0.066928</td>\n",
       "      <td>0.128539</td>\n",
       "      <td>-0.189115</td>\n",
       "      <td>0.133558</td>\n",
       "      <td>-0.021053</td>\n",
       "      <td>149.62</td>\n",
       "      <td>0</td>\n",
       "    </tr>\n",
       "    <tr>\n",
       "      <td>1</td>\n",
       "      <td>0.0</td>\n",
       "      <td>1.191857</td>\n",
       "      <td>0.266151</td>\n",
       "      <td>0.166480</td>\n",
       "      <td>0.448154</td>\n",
       "      <td>0.060018</td>\n",
       "      <td>-0.082361</td>\n",
       "      <td>-0.078803</td>\n",
       "      <td>0.085102</td>\n",
       "      <td>-0.255425</td>\n",
       "      <td>...</td>\n",
       "      <td>-0.225775</td>\n",
       "      <td>-0.638672</td>\n",
       "      <td>0.101288</td>\n",
       "      <td>-0.339846</td>\n",
       "      <td>0.167170</td>\n",
       "      <td>0.125895</td>\n",
       "      <td>-0.008983</td>\n",
       "      <td>0.014724</td>\n",
       "      <td>2.69</td>\n",
       "      <td>0</td>\n",
       "    </tr>\n",
       "    <tr>\n",
       "      <td>2</td>\n",
       "      <td>1.0</td>\n",
       "      <td>-1.358354</td>\n",
       "      <td>-1.340163</td>\n",
       "      <td>1.773209</td>\n",
       "      <td>0.379780</td>\n",
       "      <td>-0.503198</td>\n",
       "      <td>1.800499</td>\n",
       "      <td>0.791461</td>\n",
       "      <td>0.247676</td>\n",
       "      <td>-1.514654</td>\n",
       "      <td>...</td>\n",
       "      <td>0.247998</td>\n",
       "      <td>0.771679</td>\n",
       "      <td>0.909412</td>\n",
       "      <td>-0.689281</td>\n",
       "      <td>-0.327642</td>\n",
       "      <td>-0.139097</td>\n",
       "      <td>-0.055353</td>\n",
       "      <td>-0.059752</td>\n",
       "      <td>378.66</td>\n",
       "      <td>0</td>\n",
       "    </tr>\n",
       "    <tr>\n",
       "      <td>3</td>\n",
       "      <td>1.0</td>\n",
       "      <td>-0.966272</td>\n",
       "      <td>-0.185226</td>\n",
       "      <td>1.792993</td>\n",
       "      <td>-0.863291</td>\n",
       "      <td>-0.010309</td>\n",
       "      <td>1.247203</td>\n",
       "      <td>0.237609</td>\n",
       "      <td>0.377436</td>\n",
       "      <td>-1.387024</td>\n",
       "      <td>...</td>\n",
       "      <td>-0.108300</td>\n",
       "      <td>0.005274</td>\n",
       "      <td>-0.190321</td>\n",
       "      <td>-1.175575</td>\n",
       "      <td>0.647376</td>\n",
       "      <td>-0.221929</td>\n",
       "      <td>0.062723</td>\n",
       "      <td>0.061458</td>\n",
       "      <td>123.50</td>\n",
       "      <td>0</td>\n",
       "    </tr>\n",
       "    <tr>\n",
       "      <td>4</td>\n",
       "      <td>2.0</td>\n",
       "      <td>-1.158233</td>\n",
       "      <td>0.877737</td>\n",
       "      <td>1.548718</td>\n",
       "      <td>0.403034</td>\n",
       "      <td>-0.407193</td>\n",
       "      <td>0.095921</td>\n",
       "      <td>0.592941</td>\n",
       "      <td>-0.270533</td>\n",
       "      <td>0.817739</td>\n",
       "      <td>...</td>\n",
       "      <td>-0.009431</td>\n",
       "      <td>0.798278</td>\n",
       "      <td>-0.137458</td>\n",
       "      <td>0.141267</td>\n",
       "      <td>-0.206010</td>\n",
       "      <td>0.502292</td>\n",
       "      <td>0.219422</td>\n",
       "      <td>0.215153</td>\n",
       "      <td>69.99</td>\n",
       "      <td>0</td>\n",
       "    </tr>\n",
       "  </tbody>\n",
       "</table>\n",
       "<p>5 rows × 31 columns</p>\n",
       "</div>"
      ],
      "text/plain": [
       "   Time        V1        V2        V3        V4        V5        V6        V7  \\\n",
       "0   0.0 -1.359807 -0.072781  2.536347  1.378155 -0.338321  0.462388  0.239599   \n",
       "1   0.0  1.191857  0.266151  0.166480  0.448154  0.060018 -0.082361 -0.078803   \n",
       "2   1.0 -1.358354 -1.340163  1.773209  0.379780 -0.503198  1.800499  0.791461   \n",
       "3   1.0 -0.966272 -0.185226  1.792993 -0.863291 -0.010309  1.247203  0.237609   \n",
       "4   2.0 -1.158233  0.877737  1.548718  0.403034 -0.407193  0.095921  0.592941   \n",
       "\n",
       "         V8        V9  ...       V21       V22       V23       V24       V25  \\\n",
       "0  0.098698  0.363787  ... -0.018307  0.277838 -0.110474  0.066928  0.128539   \n",
       "1  0.085102 -0.255425  ... -0.225775 -0.638672  0.101288 -0.339846  0.167170   \n",
       "2  0.247676 -1.514654  ...  0.247998  0.771679  0.909412 -0.689281 -0.327642   \n",
       "3  0.377436 -1.387024  ... -0.108300  0.005274 -0.190321 -1.175575  0.647376   \n",
       "4 -0.270533  0.817739  ... -0.009431  0.798278 -0.137458  0.141267 -0.206010   \n",
       "\n",
       "        V26       V27       V28  Amount  Class  \n",
       "0 -0.189115  0.133558 -0.021053  149.62      0  \n",
       "1  0.125895 -0.008983  0.014724    2.69      0  \n",
       "2 -0.139097 -0.055353 -0.059752  378.66      0  \n",
       "3 -0.221929  0.062723  0.061458  123.50      0  \n",
       "4  0.502292  0.219422  0.215153   69.99      0  \n",
       "\n",
       "[5 rows x 31 columns]"
      ]
     },
     "execution_count": 4,
     "metadata": {},
     "output_type": "execute_result"
    }
   ],
   "source": [
    "df.head()\n",
    "#28 normalized and anonymized features"
   ]
  },
  {
   "cell_type": "code",
   "execution_count": 5,
   "metadata": {},
   "outputs": [
    {
     "data": {
      "text/html": [
       "<div>\n",
       "<style scoped>\n",
       "    .dataframe tbody tr th:only-of-type {\n",
       "        vertical-align: middle;\n",
       "    }\n",
       "\n",
       "    .dataframe tbody tr th {\n",
       "        vertical-align: top;\n",
       "    }\n",
       "\n",
       "    .dataframe thead th {\n",
       "        text-align: right;\n",
       "    }\n",
       "</style>\n",
       "<table border=\"1\" class=\"dataframe\">\n",
       "  <thead>\n",
       "    <tr style=\"text-align: right;\">\n",
       "      <th></th>\n",
       "      <th>Time</th>\n",
       "      <th>V1</th>\n",
       "      <th>V2</th>\n",
       "      <th>V3</th>\n",
       "      <th>V4</th>\n",
       "      <th>V5</th>\n",
       "      <th>V6</th>\n",
       "      <th>V7</th>\n",
       "      <th>V8</th>\n",
       "      <th>V9</th>\n",
       "      <th>...</th>\n",
       "      <th>V21</th>\n",
       "      <th>V22</th>\n",
       "      <th>V23</th>\n",
       "      <th>V24</th>\n",
       "      <th>V25</th>\n",
       "      <th>V26</th>\n",
       "      <th>V27</th>\n",
       "      <th>V28</th>\n",
       "      <th>Amount</th>\n",
       "      <th>Class</th>\n",
       "    </tr>\n",
       "  </thead>\n",
       "  <tbody>\n",
       "    <tr>\n",
       "      <td>count</td>\n",
       "      <td>284807.000000</td>\n",
       "      <td>2.848070e+05</td>\n",
       "      <td>2.848070e+05</td>\n",
       "      <td>2.848070e+05</td>\n",
       "      <td>2.848070e+05</td>\n",
       "      <td>2.848070e+05</td>\n",
       "      <td>2.848070e+05</td>\n",
       "      <td>2.848070e+05</td>\n",
       "      <td>2.848070e+05</td>\n",
       "      <td>2.848070e+05</td>\n",
       "      <td>...</td>\n",
       "      <td>2.848070e+05</td>\n",
       "      <td>2.848070e+05</td>\n",
       "      <td>2.848070e+05</td>\n",
       "      <td>2.848070e+05</td>\n",
       "      <td>2.848070e+05</td>\n",
       "      <td>2.848070e+05</td>\n",
       "      <td>2.848070e+05</td>\n",
       "      <td>2.848070e+05</td>\n",
       "      <td>284807.000000</td>\n",
       "      <td>284807.000000</td>\n",
       "    </tr>\n",
       "    <tr>\n",
       "      <td>mean</td>\n",
       "      <td>94813.859575</td>\n",
       "      <td>3.919560e-15</td>\n",
       "      <td>5.688174e-16</td>\n",
       "      <td>-8.769071e-15</td>\n",
       "      <td>2.782312e-15</td>\n",
       "      <td>-1.552563e-15</td>\n",
       "      <td>2.010663e-15</td>\n",
       "      <td>-1.694249e-15</td>\n",
       "      <td>-1.927028e-16</td>\n",
       "      <td>-3.137024e-15</td>\n",
       "      <td>...</td>\n",
       "      <td>1.537294e-16</td>\n",
       "      <td>7.959909e-16</td>\n",
       "      <td>5.367590e-16</td>\n",
       "      <td>4.458112e-15</td>\n",
       "      <td>1.453003e-15</td>\n",
       "      <td>1.699104e-15</td>\n",
       "      <td>-3.660161e-16</td>\n",
       "      <td>-1.206049e-16</td>\n",
       "      <td>88.349619</td>\n",
       "      <td>0.001727</td>\n",
       "    </tr>\n",
       "    <tr>\n",
       "      <td>std</td>\n",
       "      <td>47488.145955</td>\n",
       "      <td>1.958696e+00</td>\n",
       "      <td>1.651309e+00</td>\n",
       "      <td>1.516255e+00</td>\n",
       "      <td>1.415869e+00</td>\n",
       "      <td>1.380247e+00</td>\n",
       "      <td>1.332271e+00</td>\n",
       "      <td>1.237094e+00</td>\n",
       "      <td>1.194353e+00</td>\n",
       "      <td>1.098632e+00</td>\n",
       "      <td>...</td>\n",
       "      <td>7.345240e-01</td>\n",
       "      <td>7.257016e-01</td>\n",
       "      <td>6.244603e-01</td>\n",
       "      <td>6.056471e-01</td>\n",
       "      <td>5.212781e-01</td>\n",
       "      <td>4.822270e-01</td>\n",
       "      <td>4.036325e-01</td>\n",
       "      <td>3.300833e-01</td>\n",
       "      <td>250.120109</td>\n",
       "      <td>0.041527</td>\n",
       "    </tr>\n",
       "    <tr>\n",
       "      <td>min</td>\n",
       "      <td>0.000000</td>\n",
       "      <td>-5.640751e+01</td>\n",
       "      <td>-7.271573e+01</td>\n",
       "      <td>-4.832559e+01</td>\n",
       "      <td>-5.683171e+00</td>\n",
       "      <td>-1.137433e+02</td>\n",
       "      <td>-2.616051e+01</td>\n",
       "      <td>-4.355724e+01</td>\n",
       "      <td>-7.321672e+01</td>\n",
       "      <td>-1.343407e+01</td>\n",
       "      <td>...</td>\n",
       "      <td>-3.483038e+01</td>\n",
       "      <td>-1.093314e+01</td>\n",
       "      <td>-4.480774e+01</td>\n",
       "      <td>-2.836627e+00</td>\n",
       "      <td>-1.029540e+01</td>\n",
       "      <td>-2.604551e+00</td>\n",
       "      <td>-2.256568e+01</td>\n",
       "      <td>-1.543008e+01</td>\n",
       "      <td>0.000000</td>\n",
       "      <td>0.000000</td>\n",
       "    </tr>\n",
       "    <tr>\n",
       "      <td>25%</td>\n",
       "      <td>54201.500000</td>\n",
       "      <td>-9.203734e-01</td>\n",
       "      <td>-5.985499e-01</td>\n",
       "      <td>-8.903648e-01</td>\n",
       "      <td>-8.486401e-01</td>\n",
       "      <td>-6.915971e-01</td>\n",
       "      <td>-7.682956e-01</td>\n",
       "      <td>-5.540759e-01</td>\n",
       "      <td>-2.086297e-01</td>\n",
       "      <td>-6.430976e-01</td>\n",
       "      <td>...</td>\n",
       "      <td>-2.283949e-01</td>\n",
       "      <td>-5.423504e-01</td>\n",
       "      <td>-1.618463e-01</td>\n",
       "      <td>-3.545861e-01</td>\n",
       "      <td>-3.171451e-01</td>\n",
       "      <td>-3.269839e-01</td>\n",
       "      <td>-7.083953e-02</td>\n",
       "      <td>-5.295979e-02</td>\n",
       "      <td>5.600000</td>\n",
       "      <td>0.000000</td>\n",
       "    </tr>\n",
       "    <tr>\n",
       "      <td>50%</td>\n",
       "      <td>84692.000000</td>\n",
       "      <td>1.810880e-02</td>\n",
       "      <td>6.548556e-02</td>\n",
       "      <td>1.798463e-01</td>\n",
       "      <td>-1.984653e-02</td>\n",
       "      <td>-5.433583e-02</td>\n",
       "      <td>-2.741871e-01</td>\n",
       "      <td>4.010308e-02</td>\n",
       "      <td>2.235804e-02</td>\n",
       "      <td>-5.142873e-02</td>\n",
       "      <td>...</td>\n",
       "      <td>-2.945017e-02</td>\n",
       "      <td>6.781943e-03</td>\n",
       "      <td>-1.119293e-02</td>\n",
       "      <td>4.097606e-02</td>\n",
       "      <td>1.659350e-02</td>\n",
       "      <td>-5.213911e-02</td>\n",
       "      <td>1.342146e-03</td>\n",
       "      <td>1.124383e-02</td>\n",
       "      <td>22.000000</td>\n",
       "      <td>0.000000</td>\n",
       "    </tr>\n",
       "    <tr>\n",
       "      <td>75%</td>\n",
       "      <td>139320.500000</td>\n",
       "      <td>1.315642e+00</td>\n",
       "      <td>8.037239e-01</td>\n",
       "      <td>1.027196e+00</td>\n",
       "      <td>7.433413e-01</td>\n",
       "      <td>6.119264e-01</td>\n",
       "      <td>3.985649e-01</td>\n",
       "      <td>5.704361e-01</td>\n",
       "      <td>3.273459e-01</td>\n",
       "      <td>5.971390e-01</td>\n",
       "      <td>...</td>\n",
       "      <td>1.863772e-01</td>\n",
       "      <td>5.285536e-01</td>\n",
       "      <td>1.476421e-01</td>\n",
       "      <td>4.395266e-01</td>\n",
       "      <td>3.507156e-01</td>\n",
       "      <td>2.409522e-01</td>\n",
       "      <td>9.104512e-02</td>\n",
       "      <td>7.827995e-02</td>\n",
       "      <td>77.165000</td>\n",
       "      <td>0.000000</td>\n",
       "    </tr>\n",
       "    <tr>\n",
       "      <td>max</td>\n",
       "      <td>172792.000000</td>\n",
       "      <td>2.454930e+00</td>\n",
       "      <td>2.205773e+01</td>\n",
       "      <td>9.382558e+00</td>\n",
       "      <td>1.687534e+01</td>\n",
       "      <td>3.480167e+01</td>\n",
       "      <td>7.330163e+01</td>\n",
       "      <td>1.205895e+02</td>\n",
       "      <td>2.000721e+01</td>\n",
       "      <td>1.559499e+01</td>\n",
       "      <td>...</td>\n",
       "      <td>2.720284e+01</td>\n",
       "      <td>1.050309e+01</td>\n",
       "      <td>2.252841e+01</td>\n",
       "      <td>4.584549e+00</td>\n",
       "      <td>7.519589e+00</td>\n",
       "      <td>3.517346e+00</td>\n",
       "      <td>3.161220e+01</td>\n",
       "      <td>3.384781e+01</td>\n",
       "      <td>25691.160000</td>\n",
       "      <td>1.000000</td>\n",
       "    </tr>\n",
       "  </tbody>\n",
       "</table>\n",
       "<p>8 rows × 31 columns</p>\n",
       "</div>"
      ],
      "text/plain": [
       "                Time            V1            V2            V3            V4  \\\n",
       "count  284807.000000  2.848070e+05  2.848070e+05  2.848070e+05  2.848070e+05   \n",
       "mean    94813.859575  3.919560e-15  5.688174e-16 -8.769071e-15  2.782312e-15   \n",
       "std     47488.145955  1.958696e+00  1.651309e+00  1.516255e+00  1.415869e+00   \n",
       "min         0.000000 -5.640751e+01 -7.271573e+01 -4.832559e+01 -5.683171e+00   \n",
       "25%     54201.500000 -9.203734e-01 -5.985499e-01 -8.903648e-01 -8.486401e-01   \n",
       "50%     84692.000000  1.810880e-02  6.548556e-02  1.798463e-01 -1.984653e-02   \n",
       "75%    139320.500000  1.315642e+00  8.037239e-01  1.027196e+00  7.433413e-01   \n",
       "max    172792.000000  2.454930e+00  2.205773e+01  9.382558e+00  1.687534e+01   \n",
       "\n",
       "                 V5            V6            V7            V8            V9  \\\n",
       "count  2.848070e+05  2.848070e+05  2.848070e+05  2.848070e+05  2.848070e+05   \n",
       "mean  -1.552563e-15  2.010663e-15 -1.694249e-15 -1.927028e-16 -3.137024e-15   \n",
       "std    1.380247e+00  1.332271e+00  1.237094e+00  1.194353e+00  1.098632e+00   \n",
       "min   -1.137433e+02 -2.616051e+01 -4.355724e+01 -7.321672e+01 -1.343407e+01   \n",
       "25%   -6.915971e-01 -7.682956e-01 -5.540759e-01 -2.086297e-01 -6.430976e-01   \n",
       "50%   -5.433583e-02 -2.741871e-01  4.010308e-02  2.235804e-02 -5.142873e-02   \n",
       "75%    6.119264e-01  3.985649e-01  5.704361e-01  3.273459e-01  5.971390e-01   \n",
       "max    3.480167e+01  7.330163e+01  1.205895e+02  2.000721e+01  1.559499e+01   \n",
       "\n",
       "       ...           V21           V22           V23           V24  \\\n",
       "count  ...  2.848070e+05  2.848070e+05  2.848070e+05  2.848070e+05   \n",
       "mean   ...  1.537294e-16  7.959909e-16  5.367590e-16  4.458112e-15   \n",
       "std    ...  7.345240e-01  7.257016e-01  6.244603e-01  6.056471e-01   \n",
       "min    ... -3.483038e+01 -1.093314e+01 -4.480774e+01 -2.836627e+00   \n",
       "25%    ... -2.283949e-01 -5.423504e-01 -1.618463e-01 -3.545861e-01   \n",
       "50%    ... -2.945017e-02  6.781943e-03 -1.119293e-02  4.097606e-02   \n",
       "75%    ...  1.863772e-01  5.285536e-01  1.476421e-01  4.395266e-01   \n",
       "max    ...  2.720284e+01  1.050309e+01  2.252841e+01  4.584549e+00   \n",
       "\n",
       "                V25           V26           V27           V28         Amount  \\\n",
       "count  2.848070e+05  2.848070e+05  2.848070e+05  2.848070e+05  284807.000000   \n",
       "mean   1.453003e-15  1.699104e-15 -3.660161e-16 -1.206049e-16      88.349619   \n",
       "std    5.212781e-01  4.822270e-01  4.036325e-01  3.300833e-01     250.120109   \n",
       "min   -1.029540e+01 -2.604551e+00 -2.256568e+01 -1.543008e+01       0.000000   \n",
       "25%   -3.171451e-01 -3.269839e-01 -7.083953e-02 -5.295979e-02       5.600000   \n",
       "50%    1.659350e-02 -5.213911e-02  1.342146e-03  1.124383e-02      22.000000   \n",
       "75%    3.507156e-01  2.409522e-01  9.104512e-02  7.827995e-02      77.165000   \n",
       "max    7.519589e+00  3.517346e+00  3.161220e+01  3.384781e+01   25691.160000   \n",
       "\n",
       "               Class  \n",
       "count  284807.000000  \n",
       "mean        0.001727  \n",
       "std         0.041527  \n",
       "min         0.000000  \n",
       "25%         0.000000  \n",
       "50%         0.000000  \n",
       "75%         0.000000  \n",
       "max         1.000000  \n",
       "\n",
       "[8 rows x 31 columns]"
      ]
     },
     "execution_count": 5,
     "metadata": {},
     "output_type": "execute_result"
    }
   ],
   "source": [
    "# data description\n",
    "df.describe()"
   ]
  },
  {
   "cell_type": "code",
   "execution_count": 6,
   "metadata": {},
   "outputs": [
    {
     "data": {
      "text/html": [
       "<div>\n",
       "<style scoped>\n",
       "    .dataframe tbody tr th:only-of-type {\n",
       "        vertical-align: middle;\n",
       "    }\n",
       "\n",
       "    .dataframe tbody tr th {\n",
       "        vertical-align: top;\n",
       "    }\n",
       "\n",
       "    .dataframe thead th {\n",
       "        text-align: right;\n",
       "    }\n",
       "</style>\n",
       "<table border=\"1\" class=\"dataframe\">\n",
       "  <thead>\n",
       "    <tr style=\"text-align: right;\">\n",
       "      <th></th>\n",
       "      <th>Time</th>\n",
       "      <th>Amount</th>\n",
       "    </tr>\n",
       "  </thead>\n",
       "  <tbody>\n",
       "    <tr>\n",
       "      <td>count</td>\n",
       "      <td>284807.000000</td>\n",
       "      <td>284807.000000</td>\n",
       "    </tr>\n",
       "    <tr>\n",
       "      <td>mean</td>\n",
       "      <td>94813.859575</td>\n",
       "      <td>88.349619</td>\n",
       "    </tr>\n",
       "    <tr>\n",
       "      <td>std</td>\n",
       "      <td>47488.145955</td>\n",
       "      <td>250.120109</td>\n",
       "    </tr>\n",
       "    <tr>\n",
       "      <td>min</td>\n",
       "      <td>0.000000</td>\n",
       "      <td>0.000000</td>\n",
       "    </tr>\n",
       "    <tr>\n",
       "      <td>25%</td>\n",
       "      <td>54201.500000</td>\n",
       "      <td>5.600000</td>\n",
       "    </tr>\n",
       "    <tr>\n",
       "      <td>50%</td>\n",
       "      <td>84692.000000</td>\n",
       "      <td>22.000000</td>\n",
       "    </tr>\n",
       "    <tr>\n",
       "      <td>75%</td>\n",
       "      <td>139320.500000</td>\n",
       "      <td>77.165000</td>\n",
       "    </tr>\n",
       "    <tr>\n",
       "      <td>max</td>\n",
       "      <td>172792.000000</td>\n",
       "      <td>25691.160000</td>\n",
       "    </tr>\n",
       "  </tbody>\n",
       "</table>\n",
       "</div>"
      ],
      "text/plain": [
       "                Time         Amount\n",
       "count  284807.000000  284807.000000\n",
       "mean    94813.859575      88.349619\n",
       "std     47488.145955     250.120109\n",
       "min         0.000000       0.000000\n",
       "25%     54201.500000       5.600000\n",
       "50%     84692.000000      22.000000\n",
       "75%    139320.500000      77.165000\n",
       "max    172792.000000   25691.160000"
      ]
     },
     "execution_count": 6,
     "metadata": {},
     "output_type": "execute_result"
    }
   ],
   "source": [
    "df.loc[:, ['Time', 'Amount']].describe()"
   ]
  },
  {
   "cell_type": "code",
   "execution_count": 7,
   "metadata": {},
   "outputs": [
    {
     "data": {
      "text/plain": [
       "<matplotlib.axes._subplots.AxesSubplot at 0x1a2441c9d0>"
      ]
     },
     "execution_count": 7,
     "metadata": {},
     "output_type": "execute_result"
    },
    {
     "data": {
      "image/png": "[encoded data removed]",
      "text/plain": [
       "<Figure size 720x576 with 1 Axes>"
      ]
     },
     "metadata": {
      "needs_background": "light"
     },
     "output_type": "display_data"
    }
   ],
   "source": [
    "plt.figure(figsize=(10,8))\n",
    "plt.title('Distribution of Time Feature')\n",
    "sns.distplot(df.Time)"
   ]
  },
  {
   "cell_type": "markdown",
   "metadata": {},
   "source": [
    "it is bimodal. This indicates that approximately 28 hours after the first transaction there was a significant drop in the volume of transactions. While the time of the first transaction is not provided, it would be reasonable to assume that the drop in volume occurred during the night."
   ]
  },
  {
   "cell_type": "code",
   "execution_count": 8,
   "metadata": {},
   "outputs": [
    {
     "data": {
      "text/plain": [
       "<matplotlib.axes._subplots.AxesSubplot at 0x1a24d80bd0>"
      ]
     },
     "execution_count": 8,
     "metadata": {},
     "output_type": "execute_result"
    },
    {
     "data": {
      "image/png": "[encoded data removed]",
      "text/plain": [
       "<Figure size 720x576 with 1 Axes>"
      ]
     },
     "metadata": {
      "needs_background": "light"
     },
     "output_type": "display_data"
    }
   ],
   "source": [
    "plt.figure(figsize=(10,8))\n",
    "plt.title('Distribution of Amount Feature')\n",
    "sns.distplot(df.Amount)"
   ]
  },
  {
   "cell_type": "code",
   "execution_count": 9,
   "metadata": {},
   "outputs": [
    {
     "name": "stdout",
     "output_type": "stream",
     "text": [
      "fraudelent transactions are 492\n",
      "non fraudelent transaction are 284315\n",
      "0.173%\n"
     ]
    }
   ],
   "source": [
    "frauds_df = df[df['Class'] == 1]\n",
    "non_fraud_df = df[df['Class'] == 0]\n",
    "frauds_number = len(frauds_df)\n",
    "non_fraud_number = len(non_fraud_df)\n",
    "print(\"fraudelent transactions are \" + str(frauds_number))\n",
    "print(\"non fraudelent transaction are \" + str(non_fraud_number))\n",
    "ratio = (float(frauds_number) / float(non_fraud_number)) * 100\n",
    "print(str(ratio)[:5] + \"%\")\n",
    "#this shows that the dataset is highly unbalanced"
   ]
  },
  {
   "cell_type": "code",
   "execution_count": 10,
   "metadata": {
    "scrolled": true
   },
   "outputs": [
    {
     "name": "stdout",
     "output_type": "stream",
     "text": [
      "0    284315\n",
      "1       492\n",
      "Name: Class, dtype: int64\n"
     ]
    },
    {
     "data": {
      "image/png": "[encoded data removed]",
      "text/plain": [
       "<Figure size 432x288 with 1 Axes>"
      ]
     },
     "metadata": {
      "needs_background": "light"
     },
     "output_type": "display_data"
    }
   ],
   "source": [
    "count_classes = pd.value_counts(df['Class'], sort=True)\n",
    "print(count_classes)\n",
    "count_classes.plot(kind='bar', rot=0)\n",
    "plt.title(\"Distributed Transactions\")\n",
    "plt.xticks(range(2), ['Normal', 'Fraud'])\n",
    "plt.xlabel(\"Class\")\n",
    "plt.ylabel(\"Frequency\")\n",
    "plt.show()"
   ]
  },
  {
   "cell_type": "markdown",
   "metadata": {},
   "source": [
    "Highly unbalanced dataset. Therefore, it is not possible to use any supervised learning algorithm direclty because it will overfit based on the 'Normal' examples.\n",
    "\n",
    "Machine Learning algorithms usually work best when the different classes contained in the dataset are more or less equally present. If there are few cases of fraud, then there’s little data to learn how to identify them. This is known as class imbalance, and it’s one of the main challenges of fraud detection."
   ]
  },
  {
   "cell_type": "code",
   "execution_count": 11,
   "metadata": {},
   "outputs": [
    {
     "data": {
      "image/png": "[encoded data removed]",
      "text/plain": [
       "<Figure size 720x504 with 2 Axes>"
      ]
     },
     "metadata": {
      "needs_background": "light"
     },
     "output_type": "display_data"
    }
   ],
   "source": [
    "df = pd.read_csv(\"./creditcard.csv\")\n",
    "\n",
    "fig, ax = plt.subplots(nrows=2, ncols=1, figsize=(10, 7))\n",
    "\n",
    "ax[0].hist(df['Time'][df['Class'] == 0], bins=40)\n",
    "ax[0].set_title('Regular Transactions', fontsize=14)\n",
    "ax[0].set_ylabel('Transactions')\n",
    "\n",
    "ax[1].hist(df['Time'][df['Class'] == 1], bins=40)\n",
    "ax[1].set_title('Fraudulent Transactions', fontsize=14)\n",
    "ax[1].set_ylabel('Transactions')\n",
    "ax[1].set_xlabel('Time (seconds)')\n",
    "\n",
    "plt.tight_layout(pad=4.0)"
   ]
  },
  {
   "cell_type": "markdown",
   "metadata": {},
   "source": [
    "Notice that the number of regular transactions drops sharply around the 90,000th second mark, to surge again around the 110,000th second mark. It wouldn't be absurd to assume that this period is during the night when individuals naturally perform fewer purchases and transactions than during the daytime. On the other hand, a great number of fraudulent transactions occurred around the 100,000 mark, which could confirm the previous assumption, considering that criminals should prefer to commit fraud late at night, assuming there would be less surveillance."
   ]
  },
  {
   "cell_type": "code",
   "execution_count": 12,
   "metadata": {},
   "outputs": [
    {
     "data": {
      "image/png": "[encoded data removed]",
      "text/plain": [
       "<Figure size 720x504 with 2 Axes>"
      ]
     },
     "metadata": {
      "needs_background": "light"
     },
     "output_type": "display_data"
    }
   ],
   "source": [
    "fig, ax = plt.subplots(nrows=2, ncols=1, figsize=(10, 7))\n",
    "\n",
    "ax[0].hist(df['Amount'][df['Class'] == 0], bins=20)\n",
    "ax[0].set_title('Regular Transactions', fontsize=14)\n",
    "ax[0].set_ylabel('Transactions')\n",
    "\n",
    "ax[1].hist(df['Amount'][df['Class'] == 1], bins=20)\n",
    "ax[1].set_title('Fraudulent Transactions', fontsize=14)\n",
    "ax[1].set_ylabel('Transactions')\n",
    "ax[1].set_xlabel('Amount')\n",
    "\n",
    "plt.tight_layout(pad=4.0)"
   ]
  },
  {
   "cell_type": "markdown",
   "metadata": {},
   "source": [
    "As for the transactions' amount, apparently there is no significant insight we can gather from them. Most transactions, both regular and fraudulent, were of \"small\" values."
   ]
  },
  {
   "cell_type": "code",
   "execution_count": 13,
   "metadata": {},
   "outputs": [
    {
     "data": {
      "image/png": "[encoded data removed]",
      "text/plain": [
       "<Figure size 648x504 with 2 Axes>"
      ]
     },
     "metadata": {
      "needs_background": "light"
     },
     "output_type": "display_data"
    }
   ],
   "source": [
    "# heatmap correlation \n",
    "lol = pd.read_csv(\"./creditcard.csv\")\n",
    "\n",
    "corr = lol.corr()\n",
    "fig, ax = plt.subplots(figsize=(9, 7))\n",
    "\n",
    "sns.heatmap(corr, xticklabels=corr.columns, yticklabels=corr.columns,\n",
    "            linewidths=.1, cmap=\"RdBu\", ax=ax)\n",
    "plt.tight_layout()"
   ]
  },
  {
   "cell_type": "markdown",
   "metadata": {},
   "source": [
    "There are no highly correlated features. There's a slighjly negative correlation between V2 and Amount. The Amount feature is slightly correlated with the other features ase well hence it can be partially calculated by them, we can drop it (test shows an improvement to the final score). A little correlation between Time and other features.\n",
    "\n",
    "As you can see, some of our predictors do seem to be correlated with the class variable. Nonetheless, there seem to be relatively little significant correlations for such a big number of variables. This can probably be attributed to two factors:\n",
    "The data was prepared using a PCA, therefore our predictors are principal components.\n",
    "The huge class imbalance might distort the importance of certain correlations with regards to our class variable."
   ]
  },
  {
   "cell_type": "code",
   "execution_count": 14,
   "metadata": {},
   "outputs": [
    {
     "data": {
      "image/png": "[encoded data removed]",
      "text/plain": [
       "<Figure size 432x288 with 30 Axes>"
      ]
     },
     "metadata": {
      "needs_background": "light"
     },
     "output_type": "display_data"
    }
   ],
   "source": [
    "from scipy.stats import norm\n",
    "\n",
    "\n",
    "fig, axs = plt.subplots(6, 5, squeeze=False)\n",
    "for i, ax in enumerate(axs.flatten()):\n",
    "    ax.set_facecolor('xkcd:charcoal')\n",
    "    ax.set_title(df.columns[i])\n",
    "    sns.distplot(df.iloc[:, i], ax=ax, fit=norm,\n",
    "                 color=\"#DC143C\", fit_kws={\"color\": \"#4e8ef5\"})\n",
    "    ax.set_xlabel('')\n",
    "    \n",
    "fig.tight_layout(h_pad=-1.5, w_pad=-1.5)\n",
    "plt.show()"
   ]
  },
  {
   "cell_type": "markdown",
   "metadata": {},
   "source": [
    "Almost every features comes from the normal distribution except from Time. (A valid alternative is to use Multivariate Gaussian distribution for fraud detection). Time comes from the bimodal distribution which can't be transofmed to gaussian hence discard it. Also because it does not seem to contain extreme values"
   ]
  },
  {
   "cell_type": "code",
   "execution_count": 15,
   "metadata": {},
   "outputs": [],
   "source": [
    "non_fraud = df[df['Class'] == 0].sample(2000)\n",
    "len(non_fraud)\n",
    "fraud = df[df['Class'] == 1]\n",
    "len(fraud)\n",
    "\n",
    "#frac=1 retains the 100% of the fraud dataframe\n",
    "df_tsne = non_fraud.append(fraud).sample(frac=1)\n",
    "\n",
    "#drop the index columns \n",
    "df_tsne = df_tsne.reset_index(drop=True)\n",
    "df.head()\n",
    "\n",
    "x = df_tsne.drop(['Class'], axis=1).values\n",
    "y = df_tsne['Class'].values"
   ]
  },
  {
   "cell_type": "code",
   "execution_count": 16,
   "metadata": {},
   "outputs": [
    {
     "data": {
      "text/plain": [
       "(array([[ 1.37435000e+05, -6.03535762e-01,  1.11006034e+00, ...,\n",
       "          3.01353179e-01,  2.67284067e-01,  5.68900000e+01],\n",
       "        [ 8.88930000e+04, -9.21721184e-01,  5.30970483e-02, ...,\n",
       "          2.13188309e-01,  1.23765604e-01,  7.58700000e+01],\n",
       "        [ 1.48871000e+05, -1.39986135e-01,  1.07159241e+00, ...,\n",
       "         -2.86079955e-01, -2.05609256e-01,  4.00000000e+01],\n",
       "        ...,\n",
       "        [ 4.88610000e+04, -6.58406704e-01,  1.05838837e+00, ...,\n",
       "         -1.58194056e-01, -1.19418427e-01,  2.68000000e+00],\n",
       "        [ 6.69240000e+04,  1.25037650e+00, -1.44622038e+00, ...,\n",
       "          1.44482064e-02,  5.12605686e-02,  1.43570000e+02],\n",
       "        [ 4.89000000e+04, -1.40983090e+00,  3.16355711e-01, ...,\n",
       "          8.98647944e-02, -1.12095181e-01,  1.19000000e+02]]),\n",
       " array([0, 0, 0, ..., 0, 0, 0]))"
      ]
     },
     "execution_count": 16,
     "metadata": {},
     "output_type": "execute_result"
    }
   ],
   "source": [
    "x,y"
   ]
  },
  {
   "cell_type": "code",
   "execution_count": 17,
   "metadata": {},
   "outputs": [
    {
     "data": {
      "text/plain": [
       "array([[ 42.144516 ,  -3.7398956],\n",
       "       [ 33.209496 , -23.305376 ],\n",
       "       [ 35.92536  ,  22.456112 ],\n",
       "       ...,\n",
       "       [-19.346973 , -49.79454  ],\n",
       "       [-56.80632  ,   4.928524 ],\n",
       "       [-19.553373 , -50.06389  ]], dtype=float32)"
      ]
     },
     "execution_count": 17,
     "metadata": {},
     "output_type": "execute_result"
    }
   ],
   "source": [
    "from sklearn.manifold import TSNE\n",
    "from sklearn import preprocessing \n",
    "\n",
    "p = TSNE(n_components=2, random_state=24).fit_transform(x)\n",
    "p"
   ]
  },
  {
   "cell_type": "code",
   "execution_count": 18,
   "metadata": {},
   "outputs": [
    {
     "data": {
      "image/png": "[encoded data removed]",
      "text/plain": [
       "<Figure size 864x576 with 1 Axes>"
      ]
     },
     "metadata": {
      "needs_background": "light"
     },
     "output_type": "display_data"
    }
   ],
   "source": [
    "plt.figure(figsize=(12, 8))\n",
    "plt.scatter(p[np.where(y == 0), 0], p[np.where(y == 0), 1], marker='o', color='g', linewidth='1', alpha=0.8, label='Non Fraud')\n",
    "plt.scatter(p[np.where(y == 1), 0], p[np.where(y == 1), 1], marker='o', color='r', linewidth='1', alpha=0.8, label='Fraud')\n",
    "\n",
    "plt.legend(loc='best');\n",
    "plt.show();"
   ]
  },
  {
   "cell_type": "markdown",
   "metadata": {},
   "source": [
    "To visualize our distribution of data, we use T-SNE. T-SNE or T -Distributed Stochastic Neighbor Embedding is a data decomposition technique that reduces the data into specific dimensions and displays the top n dimensions with maximum information, a technique similar to Principal Component Analysis. \n",
    "\n",
    "From the above figure, we can observe that many non-fraud transactions overlap with the fraud transactions in this spiral like shape and thus are difficult to classify using a decision boundary. (The man used a NN to solve this problem, it makes sense) "
   ]
  },
  {
   "cell_type": "markdown",
   "metadata": {},
   "source": [
    "## Data Preparation\n"
   ]
  },
  {
   "cell_type": "markdown",
   "metadata": {},
   "source": [
    "Anonymized features have been scaled and centered around zero. Time and Amount have been not and not scaling them as well would result in certain ML algo that give weights fo features such LogR and KNN performing much worse. We need to standardize both time and amount features. \n",
    "\n",
    "Before setting up the machine learning model, we need to follow three steps:\n",
    "Preprocess the features Time and Amount with StandardScaler\n",
    "Split the dataset into train and test data\n",
    "Deal with the unbalanced dataset"
   ]
  },
  {
   "cell_type": "markdown",
   "metadata": {},
   "source": [
    "The StandardScaler will transform the data so that its distribution will have a mean value 0 and a standard deviation of 1. This is a crucial step in that the data is transformed to be easily interpreted by the machine learning algorithm."
   ]
  },
  {
   "cell_type": "code",
   "execution_count": 19,
   "metadata": {},
   "outputs": [
    {
     "name": "stdout",
     "output_type": "stream",
     "text": [
      "0        -1.996583\n",
      "1        -1.996583\n",
      "2        -1.996562\n",
      "3        -1.996562\n",
      "4        -1.996541\n",
      "            ...   \n",
      "284802    1.641931\n",
      "284803    1.641952\n",
      "284804    1.641974\n",
      "284805    1.641974\n",
      "284806    1.642058\n",
      "Length: 284807, dtype: float64\n"
     ]
    }
   ],
   "source": [
    "# scaling TIME to be centered around zero \n",
    "scaler_time = StandardScaler()\n",
    "\n",
    "# diffent functions, same thing \n",
    "scaled_time = scaler_time.fit_transform(df[['Time']])\n",
    "scaled_prova = scaler_time.transform(df[['Time']])\n",
    "#print(scaled_time == scaled_prova)\n",
    "\n",
    "scaled_time_list = scaled_time.tolist()\n",
    "flat_time= [item for sublist in scaled_time_list for item in sublist]\n",
    "scaled_time = pd.Series(flat_time)\n",
    "\n",
    "print(scaled_time)"
   ]
  },
  {
   "cell_type": "code",
   "execution_count": 20,
   "metadata": {},
   "outputs": [
    {
     "name": "stdout",
     "output_type": "stream",
     "text": [
      "0         0.244964\n",
      "1        -0.342475\n",
      "2         1.160686\n",
      "3         0.140534\n",
      "4        -0.073403\n",
      "            ...   \n",
      "284802   -0.350151\n",
      "284803   -0.254117\n",
      "284804   -0.081839\n",
      "284805   -0.313249\n",
      "284806    0.514355\n",
      "Length: 284807, dtype: float64\n"
     ]
    }
   ],
   "source": [
    "# scaling AMOUNT to be centered around zero \n",
    "scaler_amount = StandardScaler()\n",
    "\n",
    "# diffent functions, same thing \n",
    "scaled_amount = scaler_amount.fit_transform(df[['Amount']])\n",
    "scaled_prova2 = scaler_amount.transform(df[['Amount']])\n",
    "#print(scaled_time == scaled_prova2)\n",
    "\n",
    "scaled_amount_list = scaled_amount.tolist()\n",
    "flat_amount= [item for sublist in scaled_amount_list for item in sublist]\n",
    "scaled_amount = pd.Series(flat_amount)\n",
    "\n",
    "print(scaled_amount)"
   ]
  },
  {
   "cell_type": "code",
   "execution_count": 21,
   "metadata": {},
   "outputs": [
    {
     "data": {
      "text/html": [
       "<div>\n",
       "<style scoped>\n",
       "    .dataframe tbody tr th:only-of-type {\n",
       "        vertical-align: middle;\n",
       "    }\n",
       "\n",
       "    .dataframe tbody tr th {\n",
       "        vertical-align: top;\n",
       "    }\n",
       "\n",
       "    .dataframe thead th {\n",
       "        text-align: right;\n",
       "    }\n",
       "</style>\n",
       "<table border=\"1\" class=\"dataframe\">\n",
       "  <thead>\n",
       "    <tr style=\"text-align: right;\">\n",
       "      <th></th>\n",
       "      <th>Time</th>\n",
       "      <th>V1</th>\n",
       "      <th>V2</th>\n",
       "      <th>V3</th>\n",
       "      <th>V4</th>\n",
       "      <th>V5</th>\n",
       "      <th>V6</th>\n",
       "      <th>V7</th>\n",
       "      <th>V8</th>\n",
       "      <th>V9</th>\n",
       "      <th>...</th>\n",
       "      <th>V23</th>\n",
       "      <th>V24</th>\n",
       "      <th>V25</th>\n",
       "      <th>V26</th>\n",
       "      <th>V27</th>\n",
       "      <th>V28</th>\n",
       "      <th>Amount</th>\n",
       "      <th>Class</th>\n",
       "      <th>Amount_Scaled</th>\n",
       "      <th>Time_Scaled</th>\n",
       "    </tr>\n",
       "  </thead>\n",
       "  <tbody>\n",
       "    <tr>\n",
       "      <td>113733</td>\n",
       "      <td>73181.0</td>\n",
       "      <td>-0.365158</td>\n",
       "      <td>0.892026</td>\n",
       "      <td>1.326713</td>\n",
       "      <td>1.041011</td>\n",
       "      <td>0.219624</td>\n",
       "      <td>-0.210720</td>\n",
       "      <td>0.775271</td>\n",
       "      <td>-0.023587</td>\n",
       "      <td>-0.730717</td>\n",
       "      <td>...</td>\n",
       "      <td>-0.080196</td>\n",
       "      <td>0.087732</td>\n",
       "      <td>-0.190253</td>\n",
       "      <td>-0.228567</td>\n",
       "      <td>0.161887</td>\n",
       "      <td>0.147709</td>\n",
       "      <td>42.81</td>\n",
       "      <td>0</td>\n",
       "      <td>-0.182071</td>\n",
       "      <td>-0.455543</td>\n",
       "    </tr>\n",
       "    <tr>\n",
       "      <td>284671</td>\n",
       "      <td>172663.0</td>\n",
       "      <td>0.350357</td>\n",
       "      <td>0.294278</td>\n",
       "      <td>1.098545</td>\n",
       "      <td>-0.025816</td>\n",
       "      <td>-0.561684</td>\n",
       "      <td>-0.191017</td>\n",
       "      <td>-0.405302</td>\n",
       "      <td>-0.803629</td>\n",
       "      <td>0.868563</td>\n",
       "      <td>...</td>\n",
       "      <td>-0.295465</td>\n",
       "      <td>0.011079</td>\n",
       "      <td>0.769839</td>\n",
       "      <td>-0.002060</td>\n",
       "      <td>0.235520</td>\n",
       "      <td>0.253860</td>\n",
       "      <td>7.71</td>\n",
       "      <td>0</td>\n",
       "      <td>-0.322404</td>\n",
       "      <td>1.639341</td>\n",
       "    </tr>\n",
       "    <tr>\n",
       "      <td>77406</td>\n",
       "      <td>57033.0</td>\n",
       "      <td>-0.820204</td>\n",
       "      <td>0.692453</td>\n",
       "      <td>1.425621</td>\n",
       "      <td>-0.865833</td>\n",
       "      <td>0.552386</td>\n",
       "      <td>-1.232133</td>\n",
       "      <td>1.398546</td>\n",
       "      <td>-0.528811</td>\n",
       "      <td>-0.425883</td>\n",
       "      <td>...</td>\n",
       "      <td>-0.125054</td>\n",
       "      <td>0.437028</td>\n",
       "      <td>0.272883</td>\n",
       "      <td>0.407804</td>\n",
       "      <td>-0.280413</td>\n",
       "      <td>-0.166498</td>\n",
       "      <td>27.83</td>\n",
       "      <td>0</td>\n",
       "      <td>-0.241963</td>\n",
       "      <td>-0.795586</td>\n",
       "    </tr>\n",
       "    <tr>\n",
       "      <td>61922</td>\n",
       "      <td>50049.0</td>\n",
       "      <td>1.039868</td>\n",
       "      <td>0.037406</td>\n",
       "      <td>0.483390</td>\n",
       "      <td>1.515949</td>\n",
       "      <td>-0.377177</td>\n",
       "      <td>-0.359726</td>\n",
       "      <td>0.135222</td>\n",
       "      <td>-0.042468</td>\n",
       "      <td>0.286555</td>\n",
       "      <td>...</td>\n",
       "      <td>-0.066680</td>\n",
       "      <td>0.406628</td>\n",
       "      <td>0.594595</td>\n",
       "      <td>-0.337512</td>\n",
       "      <td>0.029425</td>\n",
       "      <td>0.028039</td>\n",
       "      <td>60.98</td>\n",
       "      <td>0</td>\n",
       "      <td>-0.109426</td>\n",
       "      <td>-0.942655</td>\n",
       "    </tr>\n",
       "    <tr>\n",
       "      <td>224207</td>\n",
       "      <td>143696.0</td>\n",
       "      <td>-1.112078</td>\n",
       "      <td>1.685156</td>\n",
       "      <td>1.192703</td>\n",
       "      <td>4.618954</td>\n",
       "      <td>-0.606477</td>\n",
       "      <td>1.001561</td>\n",
       "      <td>-0.642609</td>\n",
       "      <td>0.969706</td>\n",
       "      <td>-1.842665</td>\n",
       "      <td>...</td>\n",
       "      <td>-0.028217</td>\n",
       "      <td>1.202293</td>\n",
       "      <td>-0.713668</td>\n",
       "      <td>0.397623</td>\n",
       "      <td>-0.252036</td>\n",
       "      <td>0.079608</td>\n",
       "      <td>37.82</td>\n",
       "      <td>0</td>\n",
       "      <td>-0.202022</td>\n",
       "      <td>1.029356</td>\n",
       "    </tr>\n",
       "  </tbody>\n",
       "</table>\n",
       "<p>5 rows × 33 columns</p>\n",
       "</div>"
      ],
      "text/plain": [
       "            Time        V1        V2        V3        V4        V5        V6  \\\n",
       "113733   73181.0 -0.365158  0.892026  1.326713  1.041011  0.219624 -0.210720   \n",
       "284671  172663.0  0.350357  0.294278  1.098545 -0.025816 -0.561684 -0.191017   \n",
       "77406    57033.0 -0.820204  0.692453  1.425621 -0.865833  0.552386 -1.232133   \n",
       "61922    50049.0  1.039868  0.037406  0.483390  1.515949 -0.377177 -0.359726   \n",
       "224207  143696.0 -1.112078  1.685156  1.192703  4.618954 -0.606477  1.001561   \n",
       "\n",
       "              V7        V8        V9  ...       V23       V24       V25  \\\n",
       "113733  0.775271 -0.023587 -0.730717  ... -0.080196  0.087732 -0.190253   \n",
       "284671 -0.405302 -0.803629  0.868563  ... -0.295465  0.011079  0.769839   \n",
       "77406   1.398546 -0.528811 -0.425883  ... -0.125054  0.437028  0.272883   \n",
       "61922   0.135222 -0.042468  0.286555  ... -0.066680  0.406628  0.594595   \n",
       "224207 -0.642609  0.969706 -1.842665  ... -0.028217  1.202293 -0.713668   \n",
       "\n",
       "             V26       V27       V28  Amount  Class  Amount_Scaled  \\\n",
       "113733 -0.228567  0.161887  0.147709   42.81      0      -0.182071   \n",
       "284671 -0.002060  0.235520  0.253860    7.71      0      -0.322404   \n",
       "77406   0.407804 -0.280413 -0.166498   27.83      0      -0.241963   \n",
       "61922  -0.337512  0.029425  0.028039   60.98      0      -0.109426   \n",
       "224207  0.397623 -0.252036  0.079608   37.82      0      -0.202022   \n",
       "\n",
       "        Time_Scaled  \n",
       "113733    -0.455543  \n",
       "284671     1.639341  \n",
       "77406     -0.795586  \n",
       "61922     -0.942655  \n",
       "224207     1.029356  \n",
       "\n",
       "[5 rows x 33 columns]"
      ]
     },
     "execution_count": 21,
     "metadata": {},
     "output_type": "execute_result"
    }
   ],
   "source": [
    "# aggiunto le colonne di amount and time scaled / normalize\n",
    "df_scaled = pd.concat([df, scaled_amount.rename('Amount_Scaled'), scaled_time.rename('Time_Scaled')], axis=1)\n",
    "df_scaled.sample(5)"
   ]
  },
  {
   "cell_type": "code",
   "execution_count": 22,
   "metadata": {},
   "outputs": [
    {
     "data": {
      "text/html": [
       "<div>\n",
       "<style scoped>\n",
       "    .dataframe tbody tr th:only-of-type {\n",
       "        vertical-align: middle;\n",
       "    }\n",
       "\n",
       "    .dataframe tbody tr th {\n",
       "        vertical-align: top;\n",
       "    }\n",
       "\n",
       "    .dataframe thead th {\n",
       "        text-align: right;\n",
       "    }\n",
       "</style>\n",
       "<table border=\"1\" class=\"dataframe\">\n",
       "  <thead>\n",
       "    <tr style=\"text-align: right;\">\n",
       "      <th></th>\n",
       "      <th>V1</th>\n",
       "      <th>V2</th>\n",
       "      <th>V3</th>\n",
       "      <th>V4</th>\n",
       "      <th>V5</th>\n",
       "      <th>V6</th>\n",
       "      <th>V7</th>\n",
       "      <th>V8</th>\n",
       "      <th>V9</th>\n",
       "      <th>V10</th>\n",
       "      <th>...</th>\n",
       "      <th>V22</th>\n",
       "      <th>V23</th>\n",
       "      <th>V24</th>\n",
       "      <th>V25</th>\n",
       "      <th>V26</th>\n",
       "      <th>V27</th>\n",
       "      <th>V28</th>\n",
       "      <th>Class</th>\n",
       "      <th>Amount_Scaled</th>\n",
       "      <th>Time_Scaled</th>\n",
       "    </tr>\n",
       "  </thead>\n",
       "  <tbody>\n",
       "    <tr>\n",
       "      <td>200425</td>\n",
       "      <td>-1.181545</td>\n",
       "      <td>1.272427</td>\n",
       "      <td>0.106058</td>\n",
       "      <td>-0.056722</td>\n",
       "      <td>0.099801</td>\n",
       "      <td>-0.879156</td>\n",
       "      <td>0.940066</td>\n",
       "      <td>-0.421024</td>\n",
       "      <td>0.566100</td>\n",
       "      <td>0.821750</td>\n",
       "      <td>...</td>\n",
       "      <td>-0.334062</td>\n",
       "      <td>0.054516</td>\n",
       "      <td>0.030359</td>\n",
       "      <td>-0.774644</td>\n",
       "      <td>0.250637</td>\n",
       "      <td>-1.043047</td>\n",
       "      <td>-0.205298</td>\n",
       "      <td>0</td>\n",
       "      <td>-0.286541</td>\n",
       "      <td>0.813197</td>\n",
       "    </tr>\n",
       "    <tr>\n",
       "      <td>13210</td>\n",
       "      <td>1.293776</td>\n",
       "      <td>0.369203</td>\n",
       "      <td>0.309448</td>\n",
       "      <td>0.629771</td>\n",
       "      <td>0.082478</td>\n",
       "      <td>-0.435560</td>\n",
       "      <td>0.043778</td>\n",
       "      <td>-0.296999</td>\n",
       "      <td>1.224240</td>\n",
       "      <td>-0.473447</td>\n",
       "      <td>...</td>\n",
       "      <td>-1.005703</td>\n",
       "      <td>0.018465</td>\n",
       "      <td>-0.491389</td>\n",
       "      <td>0.336661</td>\n",
       "      <td>0.102775</td>\n",
       "      <td>-0.052791</td>\n",
       "      <td>0.009043</td>\n",
       "      <td>0</td>\n",
       "      <td>-0.285302</td>\n",
       "      <td>-1.506944</td>\n",
       "    </tr>\n",
       "    <tr>\n",
       "      <td>263044</td>\n",
       "      <td>-0.354473</td>\n",
       "      <td>0.725834</td>\n",
       "      <td>0.032945</td>\n",
       "      <td>-0.668285</td>\n",
       "      <td>1.126088</td>\n",
       "      <td>-0.908587</td>\n",
       "      <td>1.597318</td>\n",
       "      <td>-1.149819</td>\n",
       "      <td>0.795756</td>\n",
       "      <td>0.986959</td>\n",
       "      <td>...</td>\n",
       "      <td>0.075627</td>\n",
       "      <td>0.375067</td>\n",
       "      <td>1.187238</td>\n",
       "      <td>-1.265312</td>\n",
       "      <td>-0.140436</td>\n",
       "      <td>-0.930693</td>\n",
       "      <td>-0.368682</td>\n",
       "      <td>0</td>\n",
       "      <td>-0.349231</td>\n",
       "      <td>1.388941</td>\n",
       "    </tr>\n",
       "    <tr>\n",
       "      <td>255014</td>\n",
       "      <td>-1.134254</td>\n",
       "      <td>-0.037609</td>\n",
       "      <td>-0.564439</td>\n",
       "      <td>-0.299660</td>\n",
       "      <td>2.540096</td>\n",
       "      <td>0.050911</td>\n",
       "      <td>-0.035370</td>\n",
       "      <td>0.246930</td>\n",
       "      <td>-0.121685</td>\n",
       "      <td>-0.642697</td>\n",
       "      <td>...</td>\n",
       "      <td>1.419470</td>\n",
       "      <td>-0.462822</td>\n",
       "      <td>-1.452819</td>\n",
       "      <td>-0.802479</td>\n",
       "      <td>-0.074958</td>\n",
       "      <td>0.186658</td>\n",
       "      <td>0.211985</td>\n",
       "      <td>0</td>\n",
       "      <td>-0.340675</td>\n",
       "      <td>1.310016</td>\n",
       "    </tr>\n",
       "    <tr>\n",
       "      <td>14579</td>\n",
       "      <td>1.400253</td>\n",
       "      <td>-1.097515</td>\n",
       "      <td>0.792487</td>\n",
       "      <td>-1.452769</td>\n",
       "      <td>-1.587838</td>\n",
       "      <td>-0.240834</td>\n",
       "      <td>-1.266878</td>\n",
       "      <td>0.108509</td>\n",
       "      <td>-1.985971</td>\n",
       "      <td>1.544224</td>\n",
       "      <td>...</td>\n",
       "      <td>-0.463843</td>\n",
       "      <td>0.223695</td>\n",
       "      <td>0.172924</td>\n",
       "      <td>-0.005743</td>\n",
       "      <td>-0.410135</td>\n",
       "      <td>0.054450</td>\n",
       "      <td>0.018071</td>\n",
       "      <td>0</td>\n",
       "      <td>-0.297256</td>\n",
       "      <td>-1.453310</td>\n",
       "    </tr>\n",
       "  </tbody>\n",
       "</table>\n",
       "<p>5 rows × 31 columns</p>\n",
       "</div>"
      ],
      "text/plain": [
       "              V1        V2        V3        V4        V5        V6        V7  \\\n",
       "200425 -1.181545  1.272427  0.106058 -0.056722  0.099801 -0.879156  0.940066   \n",
       "13210   1.293776  0.369203  0.309448  0.629771  0.082478 -0.435560  0.043778   \n",
       "263044 -0.354473  0.725834  0.032945 -0.668285  1.126088 -0.908587  1.597318   \n",
       "255014 -1.134254 -0.037609 -0.564439 -0.299660  2.540096  0.050911 -0.035370   \n",
       "14579   1.400253 -1.097515  0.792487 -1.452769 -1.587838 -0.240834 -1.266878   \n",
       "\n",
       "              V8        V9       V10  ...       V22       V23       V24  \\\n",
       "200425 -0.421024  0.566100  0.821750  ... -0.334062  0.054516  0.030359   \n",
       "13210  -0.296999  1.224240 -0.473447  ... -1.005703  0.018465 -0.491389   \n",
       "263044 -1.149819  0.795756  0.986959  ...  0.075627  0.375067  1.187238   \n",
       "255014  0.246930 -0.121685 -0.642697  ...  1.419470 -0.462822 -1.452819   \n",
       "14579   0.108509 -1.985971  1.544224  ... -0.463843  0.223695  0.172924   \n",
       "\n",
       "             V25       V26       V27       V28  Class  Amount_Scaled  \\\n",
       "200425 -0.774644  0.250637 -1.043047 -0.205298      0      -0.286541   \n",
       "13210   0.336661  0.102775 -0.052791  0.009043      0      -0.285302   \n",
       "263044 -1.265312 -0.140436 -0.930693 -0.368682      0      -0.349231   \n",
       "255014 -0.802479 -0.074958  0.186658  0.211985      0      -0.340675   \n",
       "14579  -0.005743 -0.410135  0.054450  0.018071      0      -0.297256   \n",
       "\n",
       "        Time_Scaled  \n",
       "200425     0.813197  \n",
       "13210     -1.506944  \n",
       "263044     1.388941  \n",
       "255014     1.310016  \n",
       "14579     -1.453310  \n",
       "\n",
       "[5 rows x 31 columns]"
      ]
     },
     "execution_count": 22,
     "metadata": {},
     "output_type": "execute_result"
    }
   ],
   "source": [
    "# drop columns with no normalized values\n",
    "df_scaled.drop(['Amount', 'Time'], axis=1, inplace=True)\n",
    "df_scaled.sample(5)"
   ]
  },
  {
   "cell_type": "code",
   "execution_count": 23,
   "metadata": {},
   "outputs": [
    {
     "data": {
      "text/html": [
       "<div>\n",
       "<style scoped>\n",
       "    .dataframe tbody tr th:only-of-type {\n",
       "        vertical-align: middle;\n",
       "    }\n",
       "\n",
       "    .dataframe tbody tr th {\n",
       "        vertical-align: top;\n",
       "    }\n",
       "\n",
       "    .dataframe thead th {\n",
       "        text-align: right;\n",
       "    }\n",
       "</style>\n",
       "<table border=\"1\" class=\"dataframe\">\n",
       "  <thead>\n",
       "    <tr style=\"text-align: right;\">\n",
       "      <th></th>\n",
       "      <th>V1</th>\n",
       "      <th>V2</th>\n",
       "      <th>V3</th>\n",
       "      <th>V4</th>\n",
       "      <th>V5</th>\n",
       "      <th>V6</th>\n",
       "      <th>V7</th>\n",
       "      <th>V8</th>\n",
       "      <th>V9</th>\n",
       "      <th>V10</th>\n",
       "      <th>...</th>\n",
       "      <th>V22</th>\n",
       "      <th>V23</th>\n",
       "      <th>V24</th>\n",
       "      <th>V25</th>\n",
       "      <th>V26</th>\n",
       "      <th>V27</th>\n",
       "      <th>V28</th>\n",
       "      <th>Amount_Scaled</th>\n",
       "      <th>Time_Scaled</th>\n",
       "      <th>Class</th>\n",
       "    </tr>\n",
       "  </thead>\n",
       "  <tbody>\n",
       "    <tr>\n",
       "      <td>56961</td>\n",
       "      <td>1.138149</td>\n",
       "      <td>-0.698637</td>\n",
       "      <td>0.332976</td>\n",
       "      <td>0.272394</td>\n",
       "      <td>-0.629432</td>\n",
       "      <td>0.463714</td>\n",
       "      <td>-0.628447</td>\n",
       "      <td>0.096643</td>\n",
       "      <td>-1.013536</td>\n",
       "      <td>0.952361</td>\n",
       "      <td>...</td>\n",
       "      <td>-0.328477</td>\n",
       "      <td>-0.240835</td>\n",
       "      <td>-0.868956</td>\n",
       "      <td>0.483849</td>\n",
       "      <td>-0.256578</td>\n",
       "      <td>0.045728</td>\n",
       "      <td>0.034950</td>\n",
       "      <td>0.110549</td>\n",
       "      <td>-0.992246</td>\n",
       "      <td>0</td>\n",
       "    </tr>\n",
       "    <tr>\n",
       "      <td>139422</td>\n",
       "      <td>1.313900</td>\n",
       "      <td>-1.468180</td>\n",
       "      <td>1.209908</td>\n",
       "      <td>-1.445244</td>\n",
       "      <td>-2.032784</td>\n",
       "      <td>0.081465</td>\n",
       "      <td>-1.697065</td>\n",
       "      <td>0.122717</td>\n",
       "      <td>-1.608616</td>\n",
       "      <td>1.503065</td>\n",
       "      <td>...</td>\n",
       "      <td>0.737540</td>\n",
       "      <td>-0.122417</td>\n",
       "      <td>0.044406</td>\n",
       "      <td>0.224102</td>\n",
       "      <td>-0.048610</td>\n",
       "      <td>0.072791</td>\n",
       "      <td>0.038226</td>\n",
       "      <td>-0.037381</td>\n",
       "      <td>-0.245701</td>\n",
       "      <td>0</td>\n",
       "    </tr>\n",
       "    <tr>\n",
       "      <td>249503</td>\n",
       "      <td>2.085393</td>\n",
       "      <td>0.132566</td>\n",
       "      <td>-1.774748</td>\n",
       "      <td>0.383927</td>\n",
       "      <td>0.465360</td>\n",
       "      <td>-0.798624</td>\n",
       "      <td>0.162808</td>\n",
       "      <td>-0.210115</td>\n",
       "      <td>0.548698</td>\n",
       "      <td>-0.369505</td>\n",
       "      <td>...</td>\n",
       "      <td>-0.997362</td>\n",
       "      <td>0.323782</td>\n",
       "      <td>0.370970</td>\n",
       "      <td>-0.247164</td>\n",
       "      <td>0.182298</td>\n",
       "      <td>-0.064843</td>\n",
       "      <td>-0.032623</td>\n",
       "      <td>-0.345313</td>\n",
       "      <td>1.255645</td>\n",
       "      <td>0</td>\n",
       "    </tr>\n",
       "    <tr>\n",
       "      <td>77471</td>\n",
       "      <td>-2.621990</td>\n",
       "      <td>-0.994447</td>\n",
       "      <td>0.765774</td>\n",
       "      <td>0.612093</td>\n",
       "      <td>0.598757</td>\n",
       "      <td>-1.554723</td>\n",
       "      <td>-0.080235</td>\n",
       "      <td>0.502338</td>\n",
       "      <td>-0.482992</td>\n",
       "      <td>-0.365051</td>\n",
       "      <td>...</td>\n",
       "      <td>-0.459059</td>\n",
       "      <td>1.891581</td>\n",
       "      <td>0.421207</td>\n",
       "      <td>0.220218</td>\n",
       "      <td>0.113597</td>\n",
       "      <td>0.264531</td>\n",
       "      <td>-0.198008</td>\n",
       "      <td>-0.137093</td>\n",
       "      <td>-0.794955</td>\n",
       "      <td>0</td>\n",
       "    </tr>\n",
       "    <tr>\n",
       "      <td>133897</td>\n",
       "      <td>-0.503184</td>\n",
       "      <td>1.175222</td>\n",
       "      <td>2.338370</td>\n",
       "      <td>2.444162</td>\n",
       "      <td>-0.201466</td>\n",
       "      <td>0.344444</td>\n",
       "      <td>0.365533</td>\n",
       "      <td>0.033285</td>\n",
       "      <td>-0.831976</td>\n",
       "      <td>0.313424</td>\n",
       "      <td>...</td>\n",
       "      <td>0.822813</td>\n",
       "      <td>-0.220596</td>\n",
       "      <td>0.464731</td>\n",
       "      <td>-0.217444</td>\n",
       "      <td>0.154281</td>\n",
       "      <td>0.054157</td>\n",
       "      <td>0.147599</td>\n",
       "      <td>-0.257675</td>\n",
       "      <td>-0.300009</td>\n",
       "      <td>0</td>\n",
       "    </tr>\n",
       "  </tbody>\n",
       "</table>\n",
       "<p>5 rows × 31 columns</p>\n",
       "</div>"
      ],
      "text/plain": [
       "              V1        V2        V3        V4        V5        V6        V7  \\\n",
       "56961   1.138149 -0.698637  0.332976  0.272394 -0.629432  0.463714 -0.628447   \n",
       "139422  1.313900 -1.468180  1.209908 -1.445244 -2.032784  0.081465 -1.697065   \n",
       "249503  2.085393  0.132566 -1.774748  0.383927  0.465360 -0.798624  0.162808   \n",
       "77471  -2.621990 -0.994447  0.765774  0.612093  0.598757 -1.554723 -0.080235   \n",
       "133897 -0.503184  1.175222  2.338370  2.444162 -0.201466  0.344444  0.365533   \n",
       "\n",
       "              V8        V9       V10  ...       V22       V23       V24  \\\n",
       "56961   0.096643 -1.013536  0.952361  ... -0.328477 -0.240835 -0.868956   \n",
       "139422  0.122717 -1.608616  1.503065  ...  0.737540 -0.122417  0.044406   \n",
       "249503 -0.210115  0.548698 -0.369505  ... -0.997362  0.323782  0.370970   \n",
       "77471   0.502338 -0.482992 -0.365051  ... -0.459059  1.891581  0.421207   \n",
       "133897  0.033285 -0.831976  0.313424  ...  0.822813 -0.220596  0.464731   \n",
       "\n",
       "             V25       V26       V27       V28  Amount_Scaled  Time_Scaled  \\\n",
       "56961   0.483849 -0.256578  0.045728  0.034950       0.110549    -0.992246   \n",
       "139422  0.224102 -0.048610  0.072791  0.038226      -0.037381    -0.245701   \n",
       "249503 -0.247164  0.182298 -0.064843 -0.032623      -0.345313     1.255645   \n",
       "77471   0.220218  0.113597  0.264531 -0.198008      -0.137093    -0.794955   \n",
       "133897 -0.217444  0.154281  0.054157  0.147599      -0.257675    -0.300009   \n",
       "\n",
       "        Class  \n",
       "56961       0  \n",
       "139422      0  \n",
       "249503      0  \n",
       "77471       0  \n",
       "133897      0  \n",
       "\n",
       "[5 rows x 31 columns]"
      ]
     },
     "execution_count": 23,
     "metadata": {},
     "output_type": "execute_result"
    }
   ],
   "source": [
    "columns_titles = ['V1','V2','V3','V4', 'V5', 'V6', 'V7', 'V8', 'V9', 'V10', 'V11', 'V12', 'V13', 'V14', 'V15', 'V16', 'V17', 'V18', 'V19', 'V20', 'V21', 'V22', 'V23', 'V24', 'V25', 'V26', 'V27', 'V28', 'Amount_Scaled', 'Time_Scaled', 'Class']\n",
    "\n",
    "df_scaled = df_scaled.reindex(columns = columns_titles)\n",
    "\n",
    "df_scaled.sample(5)"
   ]
  },
  {
   "cell_type": "markdown",
   "metadata": {},
   "source": [
    "## PYSPARK ------ start-------------------"
   ]
  },
  {
   "cell_type": "code",
   "execution_count": 24,
   "metadata": {},
   "outputs": [],
   "source": [
    "# pyspark\n",
    "import findspark\n",
    "findspark.init()\n",
    "import pyspark\n",
    "from pyspark.sql.functions import *\n",
    "from pyspark.context import SparkContext\n",
    "from pyspark.sql.session import SparkSession\n",
    "from pyspark.sql.types import DoubleType, IntegerType"
   ]
  },
  {
   "cell_type": "code",
   "execution_count": 25,
   "metadata": {},
   "outputs": [],
   "source": [
    "sc = pyspark.SparkContext(appName=\"credit_card_fraud\")\n",
    "spark = SparkSession(sc)"
   ]
  },
  {
   "cell_type": "code",
   "execution_count": 26,
   "metadata": {},
   "outputs": [
    {
     "name": "stdout",
     "output_type": "stream",
     "text": [
      "root\n",
      " |-- V1: double (nullable = true)\n",
      " |-- V2: double (nullable = true)\n",
      " |-- V3: double (nullable = true)\n",
      " |-- V4: double (nullable = true)\n",
      " |-- V5: double (nullable = true)\n",
      " |-- V6: double (nullable = true)\n",
      " |-- V7: double (nullable = true)\n",
      " |-- V8: double (nullable = true)\n",
      " |-- V9: double (nullable = true)\n",
      " |-- V10: double (nullable = true)\n",
      " |-- V11: double (nullable = true)\n",
      " |-- V12: double (nullable = true)\n",
      " |-- V13: double (nullable = true)\n",
      " |-- V14: double (nullable = true)\n",
      " |-- V15: double (nullable = true)\n",
      " |-- V16: double (nullable = true)\n",
      " |-- V17: double (nullable = true)\n",
      " |-- V18: double (nullable = true)\n",
      " |-- V19: double (nullable = true)\n",
      " |-- V20: double (nullable = true)\n",
      " |-- V21: double (nullable = true)\n",
      " |-- V22: double (nullable = true)\n",
      " |-- V23: double (nullable = true)\n",
      " |-- V24: double (nullable = true)\n",
      " |-- V25: double (nullable = true)\n",
      " |-- V26: double (nullable = true)\n",
      " |-- V27: double (nullable = true)\n",
      " |-- V28: double (nullable = true)\n",
      " |-- Amount_Scaled: double (nullable = true)\n",
      " |-- Time_Scaled: double (nullable = true)\n",
      " |-- Class: double (nullable = true)\n",
      "\n"
     ]
    }
   ],
   "source": [
    "df_spark = spark.createDataFrame(df_scaled)\n",
    "df_spark = df_spark.withColumn('Class', df_spark['Class'].cast('double'))\n",
    "df_spark.printSchema()"
   ]
  },
  {
   "cell_type": "code",
   "execution_count": 28,
   "metadata": {},
   "outputs": [
    {
     "data": {
      "text/plain": [
       "Row(V1=-1.3598071336738, V2=-0.0727811733098497, V3=2.53634673796914, V4=1.37815522427443, V5=-0.33832076994251803, V6=0.462387777762292, V7=0.239598554061257, V8=0.0986979012610507, V9=0.363786969611213, V10=0.0907941719789316, V11=-0.551599533260813, V12=-0.617800855762348, V13=-0.991389847235408, V14=-0.31116935369987897, V15=1.46817697209427, V16=-0.47040052525947795, V17=0.20797124192924202, V18=0.0257905801985591, V19=0.403992960255733, V20=0.251412098239705, V21=-0.018306777944153, V22=0.277837575558899, V23=-0.110473910188767, V24=0.0669280749146731, V25=0.12853935827352803, V26=-0.189114843888824, V27=0.13355837674038698, V28=-0.0210530534538215, Amount_Scaled=0.24496426337017338, Time_Scaled=-1.996583023457193, Class=0.0)"
      ]
     },
     "execution_count": 28,
     "metadata": {},
     "output_type": "execute_result"
    }
   ],
   "source": [
    "df_spark.head()"
   ]
  },
  {
   "cell_type": "code",
   "execution_count": 28,
   "metadata": {},
   "outputs": [
    {
     "data": {
      "text/plain": [
       "Row(features=DenseVector([-1.3598, -0.0728, 2.5363, 1.3782, -0.3383, 0.4624, 0.2396, 0.0987, 0.3638, 0.0908, -0.5516, -0.6178, -0.9914, -0.3112, 1.4682, -0.4704, 0.208, 0.0258, 0.404, 0.2514, -0.0183, 0.2778, -0.1105, 0.0669, 0.1285, -0.1891, 0.1336, -0.0211, 0.245, -1.9966]), label=0.0)"
      ]
     },
     "execution_count": 28,
     "metadata": {},
     "output_type": "execute_result"
    }
   ],
   "source": [
    "from pyspark.ml import Pipeline\n",
    "from pyspark.ml.linalg import DenseVector\n",
    "\n",
    "training_df = df_spark.rdd.map(lambda x: (DenseVector(x[0:30]), x[30]))\n",
    "training_df = spark.createDataFrame(training_df, [\"features\", \"label\"])\n",
    "training_df.head()\n",
    "#training_df.select(\"features\").show()\n",
    "#training_df.groupBy(\"label\").count().show()"
   ]
  },
  {
   "cell_type": "code",
   "execution_count": 29,
   "metadata": {},
   "outputs": [],
   "source": [
    "training_df = training_df.select(\"features\",\"label\")\n",
    "train_data, test_data = training_df.randomSplit([.8,.2],seed=1234)"
   ]
  },
  {
   "cell_type": "code",
   "execution_count": 30,
   "metadata": {},
   "outputs": [
    {
     "name": "stdout",
     "output_type": "stream",
     "text": [
      "+-----+------+\n",
      "|label| count|\n",
      "+-----+------+\n",
      "|  0.0|227770|\n",
      "|  1.0|   403|\n",
      "+-----+------+\n",
      "\n"
     ]
    }
   ],
   "source": [
    "train_data.groupBy(\"label\").count().show()"
   ]
  },
  {
   "cell_type": "code",
   "execution_count": 31,
   "metadata": {},
   "outputs": [
    {
     "name": "stdout",
     "output_type": "stream",
     "text": [
      "+-----+-----+\n",
      "|label|count|\n",
      "+-----+-----+\n",
      "|  0.0|56545|\n",
      "|  1.0|   89|\n",
      "+-----+-----+\n",
      "\n"
     ]
    }
   ],
   "source": [
    "test_data.groupBy(\"label\").count().show()"
   ]
  },
  {
   "cell_type": "code",
   "execution_count": 32,
   "metadata": {},
   "outputs": [
    {
     "data": {
      "text/html": [
       "<div>\n",
       "<style scoped>\n",
       "    .dataframe tbody tr th:only-of-type {\n",
       "        vertical-align: middle;\n",
       "    }\n",
       "\n",
       "    .dataframe tbody tr th {\n",
       "        vertical-align: top;\n",
       "    }\n",
       "\n",
       "    .dataframe thead th {\n",
       "        text-align: right;\n",
       "    }\n",
       "</style>\n",
       "<table border=\"1\" class=\"dataframe\">\n",
       "  <thead>\n",
       "    <tr style=\"text-align: right;\">\n",
       "      <th></th>\n",
       "      <th>features</th>\n",
       "      <th>label</th>\n",
       "    </tr>\n",
       "  </thead>\n",
       "  <tbody>\n",
       "    <tr>\n",
       "      <td>0</td>\n",
       "      <td>[-29.876365513976303, 16.4345245512223, -30.55...</td>\n",
       "      <td>1.0</td>\n",
       "    </tr>\n",
       "    <tr>\n",
       "      <td>1</td>\n",
       "      <td>[-28.344757250015803, -40.978852228328705, 0.4...</td>\n",
       "      <td>0.0</td>\n",
       "    </tr>\n",
       "    <tr>\n",
       "      <td>2</td>\n",
       "      <td>[-22.382092095390394, -7.57560397839336, -10.5...</td>\n",
       "      <td>0.0</td>\n",
       "    </tr>\n",
       "    <tr>\n",
       "      <td>3</td>\n",
       "      <td>[-21.567419280019198, -20.2839584375064, -6.18...</td>\n",
       "      <td>0.0</td>\n",
       "    </tr>\n",
       "    <tr>\n",
       "      <td>4</td>\n",
       "      <td>[-21.353056221829696, -8.55335126541014, -9.75...</td>\n",
       "      <td>0.0</td>\n",
       "    </tr>\n",
       "  </tbody>\n",
       "</table>\n",
       "</div>"
      ],
      "text/plain": [
       "                                            features  label\n",
       "0  [-29.876365513976303, 16.4345245512223, -30.55...    1.0\n",
       "1  [-28.344757250015803, -40.978852228328705, 0.4...    0.0\n",
       "2  [-22.382092095390394, -7.57560397839336, -10.5...    0.0\n",
       "3  [-21.567419280019198, -20.2839584375064, -6.18...    0.0\n",
       "4  [-21.353056221829696, -8.55335126541014, -9.75...    0.0"
      ]
     },
     "execution_count": 32,
     "metadata": {},
     "output_type": "execute_result"
    }
   ],
   "source": [
    "dajesu = test_data.toPandas()\n",
    "dajesu.head()"
   ]
  },
  {
   "cell_type": "code",
   "execution_count": 33,
   "metadata": {},
   "outputs": [
    {
     "data": {
      "text/plain": [
       "features    56634\n",
       "label       56634\n",
       "dtype: int64"
      ]
     },
     "execution_count": 33,
     "metadata": {},
     "output_type": "execute_result"
    }
   ],
   "source": [
    "dajesu.count()"
   ]
  },
  {
   "cell_type": "code",
   "execution_count": 34,
   "metadata": {},
   "outputs": [
    {
     "data": {
      "text/html": [
       "<div>\n",
       "<style scoped>\n",
       "    .dataframe tbody tr th:only-of-type {\n",
       "        vertical-align: middle;\n",
       "    }\n",
       "\n",
       "    .dataframe tbody tr th {\n",
       "        vertical-align: top;\n",
       "    }\n",
       "\n",
       "    .dataframe thead th {\n",
       "        text-align: right;\n",
       "    }\n",
       "</style>\n",
       "<table border=\"1\" class=\"dataframe\">\n",
       "  <thead>\n",
       "    <tr style=\"text-align: right;\">\n",
       "      <th></th>\n",
       "      <th>V1</th>\n",
       "      <th>V2</th>\n",
       "      <th>V3</th>\n",
       "      <th>V4</th>\n",
       "      <th>V5</th>\n",
       "      <th>V6</th>\n",
       "      <th>V7</th>\n",
       "      <th>V8</th>\n",
       "      <th>V9</th>\n",
       "      <th>V10</th>\n",
       "      <th>...</th>\n",
       "      <th>V21</th>\n",
       "      <th>V22</th>\n",
       "      <th>V23</th>\n",
       "      <th>V24</th>\n",
       "      <th>V25</th>\n",
       "      <th>V26</th>\n",
       "      <th>V27</th>\n",
       "      <th>V28</th>\n",
       "      <th>Amount_Scaled</th>\n",
       "      <th>Time_Scaled</th>\n",
       "    </tr>\n",
       "  </thead>\n",
       "  <tbody>\n",
       "    <tr>\n",
       "      <td>0</td>\n",
       "      <td>-29.876366</td>\n",
       "      <td>16.434525</td>\n",
       "      <td>-30.558697</td>\n",
       "      <td>6.505862</td>\n",
       "      <td>-21.665654</td>\n",
       "      <td>-4.940356</td>\n",
       "      <td>-20.081391</td>\n",
       "      <td>19.587773</td>\n",
       "      <td>-3.591491</td>\n",
       "      <td>-7.800598</td>\n",
       "      <td>...</td>\n",
       "      <td>1.812954</td>\n",
       "      <td>-2.232252</td>\n",
       "      <td>-1.412803</td>\n",
       "      <td>0.178731</td>\n",
       "      <td>2.156042</td>\n",
       "      <td>-0.209385</td>\n",
       "      <td>1.255649</td>\n",
       "      <td>0.364530</td>\n",
       "      <td>0.046539</td>\n",
       "      <td>-1.391673</td>\n",
       "    </tr>\n",
       "    <tr>\n",
       "      <td>1</td>\n",
       "      <td>-28.344757</td>\n",
       "      <td>-40.978852</td>\n",
       "      <td>0.422090</td>\n",
       "      <td>9.264321</td>\n",
       "      <td>23.589804</td>\n",
       "      <td>-17.118592</td>\n",
       "      <td>-14.112878</td>\n",
       "      <td>2.529437</td>\n",
       "      <td>2.104495</td>\n",
       "      <td>-0.544937</td>\n",
       "      <td>...</td>\n",
       "      <td>4.411922</td>\n",
       "      <td>-1.574948</td>\n",
       "      <td>12.045536</td>\n",
       "      <td>-0.327676</td>\n",
       "      <td>2.732898</td>\n",
       "      <td>0.303325</td>\n",
       "      <td>-2.053336</td>\n",
       "      <td>0.897846</td>\n",
       "      <td>9.721948</td>\n",
       "      <td>-1.433241</td>\n",
       "    </tr>\n",
       "  </tbody>\n",
       "</table>\n",
       "<p>2 rows × 30 columns</p>\n",
       "</div>"
      ],
      "text/plain": [
       "          V1         V2         V3        V4         V5         V6         V7  \\\n",
       "0 -29.876366  16.434525 -30.558697  6.505862 -21.665654  -4.940356 -20.081391   \n",
       "1 -28.344757 -40.978852   0.422090  9.264321  23.589804 -17.118592 -14.112878   \n",
       "\n",
       "          V8        V9       V10  ...       V21       V22        V23  \\\n",
       "0  19.587773 -3.591491 -7.800598  ...  1.812954 -2.232252  -1.412803   \n",
       "1   2.529437  2.104495 -0.544937  ...  4.411922 -1.574948  12.045536   \n",
       "\n",
       "        V24       V25       V26       V27       V28  Amount_Scaled  \\\n",
       "0  0.178731  2.156042 -0.209385  1.255649  0.364530       0.046539   \n",
       "1 -0.327676  2.732898  0.303325 -2.053336  0.897846       9.721948   \n",
       "\n",
       "   Time_Scaled  \n",
       "0    -1.391673  \n",
       "1    -1.433241  \n",
       "\n",
       "[2 rows x 30 columns]"
      ]
     },
     "execution_count": 34,
     "metadata": {},
     "output_type": "execute_result"
    }
   ],
   "source": [
    "columns_titles = ['V1','V2','V3','V4', 'V5', 'V6', 'V7', 'V8', 'V9', 'V10', 'V11', 'V12', 'V13', 'V14', 'V15', 'V16', 'V17', 'V18', 'V19', 'V20', 'V21', 'V22', 'V23', 'V24', 'V25', 'V26', 'V27', 'V28', 'Amount_Scaled', 'Time_Scaled']\n",
    "pololo = pd.DataFrame(columns=columns_titles)\n",
    "\n",
    "for i in range(2):\n",
    "    features_value_list = dajesu['features'].iloc[i].tolist()\n",
    "    features_value_array = np.asarray(features_value_list)\n",
    "    temp = pd.DataFrame([features_value_array], columns=columns_titles)\n",
    "    pololo = pololo.append(temp, ignore_index=True)\n",
    "\n",
    "pololo.head()\n",
    "\n",
    "    #temp = pd.DataFrame(None)\n",
    "#pololo.head()\n",
    "#features_list = []"
   ]
  },
  {
   "cell_type": "code",
   "execution_count": 35,
   "metadata": {},
   "outputs": [
    {
     "data": {
      "text/plain": [
       "'columns_titles = [\\'V1\\',\\'V2\\',\\'V3\\',\\'V4\\', \\'V5\\', \\'V6\\', \\'V7\\', \\'V8\\', \\'V9\\', \\'V10\\', \\'V11\\', \\'V12\\', \\'V13\\', \\'V14\\', \\'V15\\', \\'V16\\', \\'V17\\', \\'V18\\', \\'V19\\', \\'V20\\', \\'V21\\', \\'V22\\', \\'V23\\', \\'V24\\', \\'V25\\', \\'V26\\', \\'V27\\', \\'V28\\', \\'Amount_Scaled\\', \\'Time_Scaled\\', \\'Label\\']\\ncsv_df = pd.DataFrame(columns=columns_titles)\\n\\nfor i in range(56634):\\n    \\n    features_value_list = dajesu[\\'features\\'].iloc[i].tolist()\\n    label = dajesu[\\'label\\'].iloc[i]\\n    features_value_list.append(label)\\n    features_value_array = np.asarray(features_value_list)\\n    temp = pd.DataFrame([features_value_array], columns=columns_titles)\\n    csv_df = csv_df.append(temp, ignore_index=True)\\n\\ncsv_df.head()\\n\\ncsv_df.to_csv(\"./def.csv\")'"
      ]
     },
     "execution_count": 35,
     "metadata": {},
     "output_type": "execute_result"
    }
   ],
   "source": [
    "'''columns_titles = ['V1','V2','V3','V4', 'V5', 'V6', 'V7', 'V8', 'V9', 'V10', 'V11', 'V12', 'V13', 'V14', 'V15', 'V16', 'V17', 'V18', 'V19', 'V20', 'V21', 'V22', 'V23', 'V24', 'V25', 'V26', 'V27', 'V28', 'Amount_Scaled', 'Time_Scaled', 'Label']\n",
    "csv_df = pd.DataFrame(columns=columns_titles)\n",
    "\n",
    "for i in range(56634):\n",
    "    \n",
    "    features_value_list = dajesu['features'].iloc[i].tolist()\n",
    "    label = dajesu['label'].iloc[i]\n",
    "    features_value_list.append(label)\n",
    "    features_value_array = np.asarray(features_value_list)\n",
    "    temp = pd.DataFrame([features_value_array], columns=columns_titles)\n",
    "    csv_df = csv_df.append(temp, ignore_index=True)\n",
    "\n",
    "csv_df.head()\n",
    "\n",
    "csv_df.to_csv(\"./def.csv\")'''\n"
   ]
  },
  {
   "cell_type": "code",
   "execution_count": 36,
   "metadata": {},
   "outputs": [
    {
     "data": {
      "text/plain": [
       "Row(features=DenseVector([-30.5524, 16.7134, -31.1037, 6.535, -22.1055, -4.9777, -20.3715, 20.0072, -3.5657, -7.7311, 3.8294, -5.3143, 1.4469, -4.5793, -0.1423, -4.9978, -10.9614, -4.6415, 0.5671, 1.7336, 1.8165, -2.2887, -1.4605, 0.1832, 2.2082, -0.2088, 1.2326, 0.3567, 0.0465, -1.3911]), label=1.0)"
      ]
     },
     "execution_count": 36,
     "metadata": {},
     "output_type": "execute_result"
    }
   ],
   "source": [
    "train_data.head()"
   ]
  },
  {
   "cell_type": "code",
   "execution_count": 37,
   "metadata": {},
   "outputs": [
    {
     "name": "stdout",
     "output_type": "stream",
     "text": [
      "403\n",
      "227770\n"
     ]
    }
   ],
   "source": [
    "#from decimal import Decimal \n",
    "\n",
    "fraud_df_spark = train_data.filter(\"label=1.0\")\n",
    "non_fraud_df_spark = train_data.filter(\"label=0.0\")\n",
    "print(fraud_df_spark.count())\n",
    "print(non_fraud_df_spark.count())\n",
    "ratio = fraud_df_spark.count() / non_fraud_df_spark.count()\n",
    "non_fraud_sample_df_spark = non_fraud_df_spark.sample(False, ratio)\n",
    "prova_df = fraud_df_spark.unionAll(non_fraud_sample_df_spark)\n",
    "\n",
    "#prova_df.count()"
   ]
  },
  {
   "cell_type": "code",
   "execution_count": 38,
   "metadata": {},
   "outputs": [
    {
     "data": {
      "text/plain": [
       "Row(label=1.0, features=DenseVector([0.0, 1.1, 0.1]))"
      ]
     },
     "execution_count": 38,
     "metadata": {},
     "output_type": "execute_result"
    }
   ],
   "source": [
    "from pyspark.ml.linalg import Vectors\n",
    "\n",
    "zio = spark.createDataFrame([\n",
    "    (1.0, Vectors.dense([0.0, 1.1, 0.1])),\n",
    "    (0.0, Vectors.dense([2.0, 1.0, -1.0])),\n",
    "    (0.0, Vectors.dense([2.0, 1.3, 1.0])),\n",
    "    (1.0, Vectors.dense([0.0, 1.2, -0.5]))], [\"label\", \"features\"])\n",
    "\n",
    "zio.head()"
   ]
  },
  {
   "cell_type": "code",
   "execution_count": 39,
   "metadata": {},
   "outputs": [],
   "source": [
    "from pyspark.ml.classification import LogisticRegression\n",
    "from pyspark.ml.evaluation import MulticlassClassificationEvaluator\n",
    "\n",
    "lr = LogisticRegression().setLabelCol(\"label\").setFeaturesCol(\"features\").setMaxIter(30).setRegParam(0.3).setElasticNetParam(0.8)\n",
    "\n",
    "lrModel = lr.fit(prova_df)"
   ]
  },
  {
   "cell_type": "code",
   "execution_count": 41,
   "metadata": {},
   "outputs": [
    {
     "name": "stdout",
     "output_type": "stream",
     "text": [
      "<pyspark.ml.classification.BinaryLogisticRegressionTrainingSummary object at 0x1a34ac49d0>\n",
      "+--------------------+-----+--------------------+--------------------+----------+\n",
      "|            features|label|       rawPrediction|         probability|prediction|\n",
      "+--------------------+-----+--------------------+--------------------+----------+\n",
      "|[-29.876365513976...|  1.0|[-0.2882538515854...|[0.42843140675099...|       1.0|\n",
      "|[-28.344757250015...|  0.0|[0.12212514909302...|[0.53049339707770...|       0.0|\n",
      "|[-22.382092095390...|  0.0|[0.55810235792037...|[0.63601334892919...|       0.0|\n",
      "|[-21.567419280019...|  0.0|[0.28369902698980...|[0.57045285541917...|       0.0|\n",
      "|[-21.353056221829...|  0.0|[0.50637071570845...|[0.62395530089698...|       0.0|\n",
      "|[-21.209119592791...|  1.0|[-0.5383114240475...|[0.36858047542132...|       1.0|\n",
      "|[-20.532751076435...|  1.0|[-0.5574256750105...|[0.36414331782737...|       1.0|\n",
      "|[-18.018561187677...|  1.0|[-1.1619486839746...|[0.23831337946225...|       1.0|\n",
      "|[-16.367923010796...|  1.0|[-1.2240066092760...|[0.22723213045111...|       1.0|\n",
      "|[-16.255642319917...|  0.0|[0.19630788274355...|[0.54891996996682...|       0.0|\n",
      "|[-15.370872264849...|  0.0|[0.39490575995661...|[0.59746310121581...|       0.0|\n",
      "|[-14.724627011925...|  1.0|[-1.2860574951364...|[0.21652086820077...|       1.0|\n",
      "|[-14.665963714958...|  0.0|[0.37556214281538...|[0.59280230140953...|       0.0|\n",
      "|[-14.575409584507...|  0.0|[-0.6334723117525...|[0.34672361911655...|       1.0|\n",
      "|[-14.198075576864...|  0.0|[0.30277611125525...|[0.57512101962655...|       0.0|\n",
      "|[-14.163808303229...|  0.0|[0.18897277265428...|[0.54710310275558...|       0.0|\n",
      "|[-13.703360067912...|  0.0|[0.55387665847438...|[0.63503453683129...|       0.0|\n",
      "|[-13.583082802692...|  0.0|[0.46733159378517...|[0.61475198628547...|       0.0|\n",
      "|[-13.247210071986...|  0.0|[-0.6720192776397...|[0.33804483831236...|       1.0|\n",
      "|[-12.444897187536...|  0.0|[0.87916267329970...|[0.70664867638515...|       0.0|\n",
      "+--------------------+-----+--------------------+--------------------+----------+\n",
      "only showing top 20 rows\n",
      "\n",
      "+----------+--------------------+-----+--------------------+\n",
      "|prediction|       rawPrediction|label|            features|\n",
      "+----------+--------------------+-----+--------------------+\n",
      "|       1.0|[-0.2882538515854...|  1.0|[-29.876365513976...|\n",
      "|       0.0|[0.12212514909302...|  0.0|[-28.344757250015...|\n",
      "|       0.0|[0.55810235792037...|  0.0|[-22.382092095390...|\n",
      "|       0.0|[0.28369902698980...|  0.0|[-21.567419280019...|\n",
      "|       0.0|[0.50637071570845...|  0.0|[-21.353056221829...|\n",
      "+----------+--------------------+-----+--------------------+\n",
      "only showing top 5 rows\n",
      "\n",
      "+---+--------------------+\n",
      "|FPR|                 TPR|\n",
      "+---+--------------------+\n",
      "|0.0|                 0.0|\n",
      "|0.0|0.017369727047146403|\n",
      "|0.0|0.034739454094292806|\n",
      "|0.0| 0.05707196029776675|\n",
      "|0.0|  0.0794044665012407|\n",
      "|0.0|  0.0967741935483871|\n",
      "|0.0| 0.11662531017369727|\n",
      "|0.0| 0.13647642679900746|\n",
      "|0.0| 0.15632754342431762|\n",
      "|0.0| 0.17369727047146402|\n",
      "|0.0| 0.19602977667493796|\n",
      "|0.0| 0.21339950372208435|\n",
      "|0.0| 0.23076923076923078|\n",
      "|0.0| 0.24813895781637718|\n",
      "|0.0|  0.2655086848635236|\n",
      "|0.0|  0.2679900744416873|\n",
      "|0.0|  0.2853598014888337|\n",
      "|0.0|  0.3027295285359802|\n",
      "|0.0|  0.3200992555831266|\n",
      "|0.0|   0.337468982630273|\n",
      "+---+--------------------+\n",
      "only showing top 20 rows\n",
      "\n",
      "areaUnderROC: 0.9733963488991488\n"
     ]
    }
   ],
   "source": [
    "lrPredictions = lrModel.transform(test_data)\n",
    "\n",
    "trainingSummary = lrModel.summary\n",
    "\n",
    "print(trainingSummary)\n",
    "\n",
    "lrPredictions.show()\n",
    "\n",
    "lrPredictions.select(\"prediction\", \"rawPrediction\", \"label\", \"features\").show(5)\n",
    "\n",
    "#print(\"Coefficients: \" + str(lrModel.coefficients))\n",
    "#print(\"Intercept: \" + str(lrModel.intercept))\n",
    "\n",
    "trainingSummary.roc.show()\n",
    "print(\"areaUnderROC: \" + str(trainingSummary.areaUnderROC))"
   ]
  },
  {
   "cell_type": "code",
   "execution_count": 38,
   "metadata": {},
   "outputs": [],
   "source": [
    "'''from pyspark.ml.classification import LogisticRegressionModel\n",
    "\n",
    "lrModel.write().save(\"./LRModelSpark2\")'''"
   ]
  },
  {
   "cell_type": "markdown",
   "metadata": {},
   "source": [
    "## PYSPARK ------ end-------------------"
   ]
  },
  {
   "cell_type": "markdown",
   "metadata": {},
   "source": [
    "## Data Splitting and Balancing"
   ]
  },
  {
   "cell_type": "markdown",
   "metadata": {},
   "source": [
    "Now we need a training data that will allow the algorithms to pick up the specific characterstics that make a transaction more or less likely to be fraudulent. \n",
    "- Random under-sampling to create a training dataset with a balanced class distribution forcing the algo to detect fraudulent transaction\n",
    "\n",
    "Performance Evaluation on ROC-AUC. It outputs a value between zero and one. If it is above 0.5 it is better than random guessing. "
   ]
  },
  {
   "cell_type": "markdown",
   "metadata": {},
   "source": [
    "#### Split into Train and Test"
   ]
  },
  {
   "cell_type": "code",
   "execution_count": null,
   "metadata": {},
   "outputs": [],
   "source": [
    "# Splitting Data into Train and Test\n",
    "\n",
    "# Feature Matrix\n",
    "X = df_scaled.drop('Class', axis=1)\n",
    "\n",
    "# Target Vector\n",
    "y = df_scaled['Class']\n",
    "\n",
    "print(type(X))\n",
    "print(type(y))\n",
    "\n",
    "X_train, X_test, y_train, y_test = train_test_split(X,y,random_state=42)"
   ]
  },
  {
   "cell_type": "code",
   "execution_count": null,
   "metadata": {},
   "outputs": [],
   "source": [
    "#X_TSNE = X.values\n",
    "#y_TSNE = y.values\n",
    "\n",
    "#z = TSNE(n_components=2, random_state=24).fit_transform(X_TSNE)\n",
    "\n",
    "#plt.figure(figsize=(12, 8))\n",
    "#plt.scatter(z[np.where(y_TSNE == 0), 0], z[np.where(y_TSNE == 0), 1], marker='o', color='g', linewidth='1', alpha=0.8, label='Non Fraud')\n",
    "#plt.scatter(z[np.where(y_TSNE == 1), 0], z[np.where(y_TSNE == 1), 1], marker='o', color='r', linewidth='1', alpha=0.8, label='Fraud')\n",
    "\n",
    "#plt.legend(loc='best');\n",
    "#plt.show();"
   ]
  },
  {
   "cell_type": "markdown",
   "metadata": {},
   "source": [
    "#### Balancing the Dataset \n",
    "\n",
    "The dataset is unbalanced. There's a skwe in the class distribution, our training dataset could be biased and influence the ML algorithm to display results. To address this problem we randomly balance the data with RandomUnderSampler. \n",
    "All the fraudelent transaction + the same number of non-fraudulent transactions and concatenated the two."
   ]
  },
  {
   "cell_type": "code",
   "execution_count": null,
   "metadata": {},
   "outputs": [],
   "source": [
    "rus = RandomUnderSampler()\n",
    "X_rus, y_rus = rus.fit_sample(X_train, y_train)\n",
    "\n",
    "# check the balanced data\n",
    "print(pd.Series(y_rus).value_counts())\n",
    "\n",
    "# plot the new distribution\n",
    "fig, ax = plt.subplots(figsize=(7, 4))\n",
    "ax = sns.countplot(y_rus)\n",
    "plt.tight_layout()"
   ]
  },
  {
   "cell_type": "code",
   "execution_count": null,
   "metadata": {},
   "outputs": [],
   "source": [
    "corr_rus = pd.DataFrame(X_rus).corr()\n",
    "\n",
    "fig, ax = plt.subplots(figsize=(9, 7))\n",
    "\n",
    "sns.heatmap(corr_rus, xticklabels=corr_rus.columns, yticklabels=corr_rus.columns,\n",
    "            linewidths=.1, cmap=\"RdBu\", ax=ax)\n",
    "plt.tight_layout()"
   ]
  },
  {
   "cell_type": "markdown",
   "metadata": {},
   "source": [
    "Now that we have a balanced dataset, the correlation matrix shows meaningful correlation between some features, differently from the correlation matrix displayed before"
   ]
  },
  {
   "cell_type": "markdown",
   "metadata": {},
   "source": [
    "## Modeling - Logistic Regression"
   ]
  },
  {
   "cell_type": "markdown",
   "metadata": {},
   "source": [
    "We are going to utilize a ML classification method. it is the logistic regression. Logistic regression models are used to determine the odds of a certain class or event existing. In our case, it will establish the probability of a transaction belonging to Class 0 or 1, which is regular or fraudulent."
   ]
  },
  {
   "cell_type": "code",
   "execution_count": null,
   "metadata": {},
   "outputs": [],
   "source": [
    "model_log = LogisticRegression()\n",
    "model_log.fit(X_rus, y_rus)\n",
    "y_pred_log = model_log.predict(X_test)"
   ]
  },
  {
   "cell_type": "code",
   "execution_count": null,
   "metadata": {},
   "outputs": [],
   "source": [
    "# classification report\n",
    "print(classification_report(y_test, y_pred_log))\n",
    "\n",
    "# ROC AUC score\n",
    "print(\"AUC: {:.2f}\\n\".format(roc_auc_score(y_test, y_pred_log)))\n",
    "\n",
    "# confusion matrix\n",
    "fig, ax = plt.subplots()\n",
    "sns.heatmap(confusion_matrix(y_test, y_pred_log, normalize='true'), annot=True, ax=ax)\n",
    "\n",
    "ax.set_title(\"Confusion Matrix\")\n",
    "ax.set_ylabel(\"Real Value\")\n",
    "ax.set_xlabel(\"Predicted\")\n",
    "\n",
    "plt.show()\n",
    "\n",
    "# aggiungere i true positive ed i false positivi scritti bene come valori numerici "
   ]
  },
  {
   "cell_type": "markdown",
   "metadata": {},
   "source": [
    "Notice that the model has an accuracy of 96% and a ROC AUC score of 94%, meaning that our logistic regression performed really well.\n",
    "\n",
    "From the confusion matrix, we can conclude that 97% of the regular transactions were correctly classified as regular (True Negatives) and 91% of the fraudulent transactions were accurately classified as frauds (True Positives)."
   ]
  },
  {
   "cell_type": "code",
   "execution_count": null,
   "metadata": {},
   "outputs": [],
   "source": [
    "filename = 'LogRegression.sav'\n",
    "#pickle.dump(model_log, open(filename, 'wb'))"
   ]
  },
  {
   "cell_type": "code",
   "execution_count": null,
   "metadata": {},
   "outputs": [],
   "source": []
  }
 ],
 "metadata": {
  "kernelspec": {
   "display_name": "Python 3",
   "language": "python",
   "name": "python3"
  },
  "language_info": {
   "codemirror_mode": {
    "name": "ipython",
    "version": 3
   },
   "file_extension": ".py",
   "mimetype": "text/x-python",
   "name": "python",
   "nbconvert_exporter": "python",
   "pygments_lexer": "ipython3",
   "version": "3.7.4"
  }
 },
 "nbformat": 4,
 "nbformat_minor": 2
}
