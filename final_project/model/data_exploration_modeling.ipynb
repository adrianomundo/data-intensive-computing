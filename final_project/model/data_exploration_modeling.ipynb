{
 "cells": [
  {
   "cell_type": "markdown",
   "metadata": {},
   "source": [
    "# Introduction\n",
    "\n",
    "In this jupyter notebook, we will present the way we analysed, processed the dataset and the modeling of the machine learning algorithm to detect the fraudulent transactions. "
   ]
  },
  {
   "cell_type": "markdown",
   "metadata": {},
   "source": [
    "![alt text](fraud.jpg \"Title\")"
   ]
  },
  {
   "cell_type": "markdown",
   "metadata": {},
   "source": [
    "## Data Exploration"
   ]
  },
  {
   "cell_type": "markdown",
   "metadata": {},
   "source": [
    "The dataset [ https://www.kaggle.com/mlg-ulb/creditcardfraud ] consists of transactions done with credit cards in September 2013 by European cardholders. It contains only numerical input variables which are the product of a Principal Component Analysus (PCA). Thus, due to privacy issues the original features are not availablle and we don't know what the V1...V28 features represent expect from the Amount, Time and Class. Totally, there are 31 features. \n",
    "\n",
    "The feature 'Amount' is the amount of a transaction, 'Time' is the seconds elapsed between each transaction and the first transaction and 'Class' represents a fraud transaction when its value equals to 1 and a valid transaction when its value equals to 0.\n",
    "\n",
    "Starting from this assumption, let's start with our data exploration."
   ]
  },
  {
   "cell_type": "code",
   "execution_count": 2,
   "metadata": {},
   "outputs": [],
   "source": [
    "import pandas as pd\n",
    "import numpy as np\n",
    "import seaborn as sns\n",
    "import matplotlib.pyplot as plt\n",
    "import sklearn\n",
    "from sklearn import preprocessing\n",
    "from sklearn.manifold import TSNE\n",
    "from sklearn.preprocessing import StandardScaler\n",
    "from sklearn.metrics import confusion_matrix, classification_report, accuracy_score, roc_auc_score, roc_curve\n",
    "from sklearn.model_selection import train_test_split\n",
    "from sklearn.linear_model import LogisticRegression\n",
    "import pickle"
   ]
  },
  {
   "cell_type": "code",
   "execution_count": 3,
   "metadata": {},
   "outputs": [],
   "source": [
    "import findspark\n",
    "findspark.init()\n",
    "import pyspark\n",
    "from pyspark.sql.functions import *\n",
    "from pyspark.context import SparkContext\n",
    "from pyspark.sql.session import SparkSession\n",
    "from pyspark.sql.types import DoubleType, IntegerType\n",
    "from pyspark.ml import Pipeline\n",
    "from pyspark.ml.linalg import DenseVector\n",
    "from pyspark.ml.classification import LogisticRegression\n",
    "from pyspark.ml.evaluation import MulticlassClassificationEvaluator\n",
    "from pyspark.mllib.evaluation import BinaryClassificationMetrics\n",
    "\n",
    "sc = pyspark.SparkContext(appName = \"credit_card_fraud\")\n",
    "spark = SparkSession(sc)"
   ]
  },
  {
   "cell_type": "markdown",
   "metadata": {},
   "source": [
    "Here, we read the dataset from the csv file using pandas and then we checked if there are missing values before going on with other analysis. Then, we just call the head() and describe() functions to have an overall idea of our dataset. Since there will be no missing values we can proceed with other visualizations."
   ]
  },
  {
   "cell_type": "code",
   "execution_count": 4,
   "metadata": {},
   "outputs": [
    {
     "name": "stdout",
     "output_type": "stream",
     "text": [
      "missing values:  False\n"
     ]
    }
   ],
   "source": [
    "df = pd.read_csv(\"./creditcard.csv\")\n",
    "print(\"missing values: \", df.isnull().values.any())"
   ]
  },
  {
   "cell_type": "code",
   "execution_count": 5,
   "metadata": {},
   "outputs": [
    {
     "data": {
      "text/html": [
       "<div>\n",
       "<style scoped>\n",
       "    .dataframe tbody tr th:only-of-type {\n",
       "        vertical-align: middle;\n",
       "    }\n",
       "\n",
       "    .dataframe tbody tr th {\n",
       "        vertical-align: top;\n",
       "    }\n",
       "\n",
       "    .dataframe thead th {\n",
       "        text-align: right;\n",
       "    }\n",
       "</style>\n",
       "<table border=\"1\" class=\"dataframe\">\n",
       "  <thead>\n",
       "    <tr style=\"text-align: right;\">\n",
       "      <th></th>\n",
       "      <th>Time</th>\n",
       "      <th>V1</th>\n",
       "      <th>V2</th>\n",
       "      <th>V3</th>\n",
       "      <th>V4</th>\n",
       "      <th>V5</th>\n",
       "      <th>V6</th>\n",
       "      <th>V7</th>\n",
       "      <th>V8</th>\n",
       "      <th>V9</th>\n",
       "      <th>...</th>\n",
       "      <th>V21</th>\n",
       "      <th>V22</th>\n",
       "      <th>V23</th>\n",
       "      <th>V24</th>\n",
       "      <th>V25</th>\n",
       "      <th>V26</th>\n",
       "      <th>V27</th>\n",
       "      <th>V28</th>\n",
       "      <th>Amount</th>\n",
       "      <th>Class</th>\n",
       "    </tr>\n",
       "  </thead>\n",
       "  <tbody>\n",
       "    <tr>\n",
       "      <td>0</td>\n",
       "      <td>0.0</td>\n",
       "      <td>-1.359807</td>\n",
       "      <td>-0.072781</td>\n",
       "      <td>2.536347</td>\n",
       "      <td>1.378155</td>\n",
       "      <td>-0.338321</td>\n",
       "      <td>0.462388</td>\n",
       "      <td>0.239599</td>\n",
       "      <td>0.098698</td>\n",
       "      <td>0.363787</td>\n",
       "      <td>...</td>\n",
       "      <td>-0.018307</td>\n",
       "      <td>0.277838</td>\n",
       "      <td>-0.110474</td>\n",
       "      <td>0.066928</td>\n",
       "      <td>0.128539</td>\n",
       "      <td>-0.189115</td>\n",
       "      <td>0.133558</td>\n",
       "      <td>-0.021053</td>\n",
       "      <td>149.62</td>\n",
       "      <td>0</td>\n",
       "    </tr>\n",
       "    <tr>\n",
       "      <td>1</td>\n",
       "      <td>0.0</td>\n",
       "      <td>1.191857</td>\n",
       "      <td>0.266151</td>\n",
       "      <td>0.166480</td>\n",
       "      <td>0.448154</td>\n",
       "      <td>0.060018</td>\n",
       "      <td>-0.082361</td>\n",
       "      <td>-0.078803</td>\n",
       "      <td>0.085102</td>\n",
       "      <td>-0.255425</td>\n",
       "      <td>...</td>\n",
       "      <td>-0.225775</td>\n",
       "      <td>-0.638672</td>\n",
       "      <td>0.101288</td>\n",
       "      <td>-0.339846</td>\n",
       "      <td>0.167170</td>\n",
       "      <td>0.125895</td>\n",
       "      <td>-0.008983</td>\n",
       "      <td>0.014724</td>\n",
       "      <td>2.69</td>\n",
       "      <td>0</td>\n",
       "    </tr>\n",
       "    <tr>\n",
       "      <td>2</td>\n",
       "      <td>1.0</td>\n",
       "      <td>-1.358354</td>\n",
       "      <td>-1.340163</td>\n",
       "      <td>1.773209</td>\n",
       "      <td>0.379780</td>\n",
       "      <td>-0.503198</td>\n",
       "      <td>1.800499</td>\n",
       "      <td>0.791461</td>\n",
       "      <td>0.247676</td>\n",
       "      <td>-1.514654</td>\n",
       "      <td>...</td>\n",
       "      <td>0.247998</td>\n",
       "      <td>0.771679</td>\n",
       "      <td>0.909412</td>\n",
       "      <td>-0.689281</td>\n",
       "      <td>-0.327642</td>\n",
       "      <td>-0.139097</td>\n",
       "      <td>-0.055353</td>\n",
       "      <td>-0.059752</td>\n",
       "      <td>378.66</td>\n",
       "      <td>0</td>\n",
       "    </tr>\n",
       "    <tr>\n",
       "      <td>3</td>\n",
       "      <td>1.0</td>\n",
       "      <td>-0.966272</td>\n",
       "      <td>-0.185226</td>\n",
       "      <td>1.792993</td>\n",
       "      <td>-0.863291</td>\n",
       "      <td>-0.010309</td>\n",
       "      <td>1.247203</td>\n",
       "      <td>0.237609</td>\n",
       "      <td>0.377436</td>\n",
       "      <td>-1.387024</td>\n",
       "      <td>...</td>\n",
       "      <td>-0.108300</td>\n",
       "      <td>0.005274</td>\n",
       "      <td>-0.190321</td>\n",
       "      <td>-1.175575</td>\n",
       "      <td>0.647376</td>\n",
       "      <td>-0.221929</td>\n",
       "      <td>0.062723</td>\n",
       "      <td>0.061458</td>\n",
       "      <td>123.50</td>\n",
       "      <td>0</td>\n",
       "    </tr>\n",
       "    <tr>\n",
       "      <td>4</td>\n",
       "      <td>2.0</td>\n",
       "      <td>-1.158233</td>\n",
       "      <td>0.877737</td>\n",
       "      <td>1.548718</td>\n",
       "      <td>0.403034</td>\n",
       "      <td>-0.407193</td>\n",
       "      <td>0.095921</td>\n",
       "      <td>0.592941</td>\n",
       "      <td>-0.270533</td>\n",
       "      <td>0.817739</td>\n",
       "      <td>...</td>\n",
       "      <td>-0.009431</td>\n",
       "      <td>0.798278</td>\n",
       "      <td>-0.137458</td>\n",
       "      <td>0.141267</td>\n",
       "      <td>-0.206010</td>\n",
       "      <td>0.502292</td>\n",
       "      <td>0.219422</td>\n",
       "      <td>0.215153</td>\n",
       "      <td>69.99</td>\n",
       "      <td>0</td>\n",
       "    </tr>\n",
       "  </tbody>\n",
       "</table>\n",
       "<p>5 rows × 31 columns</p>\n",
       "</div>"
      ],
      "text/plain": [
       "   Time        V1        V2        V3        V4        V5        V6        V7  \\\n",
       "0   0.0 -1.359807 -0.072781  2.536347  1.378155 -0.338321  0.462388  0.239599   \n",
       "1   0.0  1.191857  0.266151  0.166480  0.448154  0.060018 -0.082361 -0.078803   \n",
       "2   1.0 -1.358354 -1.340163  1.773209  0.379780 -0.503198  1.800499  0.791461   \n",
       "3   1.0 -0.966272 -0.185226  1.792993 -0.863291 -0.010309  1.247203  0.237609   \n",
       "4   2.0 -1.158233  0.877737  1.548718  0.403034 -0.407193  0.095921  0.592941   \n",
       "\n",
       "         V8        V9  ...       V21       V22       V23       V24       V25  \\\n",
       "0  0.098698  0.363787  ... -0.018307  0.277838 -0.110474  0.066928  0.128539   \n",
       "1  0.085102 -0.255425  ... -0.225775 -0.638672  0.101288 -0.339846  0.167170   \n",
       "2  0.247676 -1.514654  ...  0.247998  0.771679  0.909412 -0.689281 -0.327642   \n",
       "3  0.377436 -1.387024  ... -0.108300  0.005274 -0.190321 -1.175575  0.647376   \n",
       "4 -0.270533  0.817739  ... -0.009431  0.798278 -0.137458  0.141267 -0.206010   \n",
       "\n",
       "        V26       V27       V28  Amount  Class  \n",
       "0 -0.189115  0.133558 -0.021053  149.62      0  \n",
       "1  0.125895 -0.008983  0.014724    2.69      0  \n",
       "2 -0.139097 -0.055353 -0.059752  378.66      0  \n",
       "3 -0.221929  0.062723  0.061458  123.50      0  \n",
       "4  0.502292  0.219422  0.215153   69.99      0  \n",
       "\n",
       "[5 rows x 31 columns]"
      ]
     },
     "execution_count": 5,
     "metadata": {},
     "output_type": "execute_result"
    }
   ],
   "source": [
    "df.head()"
   ]
  },
  {
   "cell_type": "code",
   "execution_count": 6,
   "metadata": {},
   "outputs": [
    {
     "data": {
      "text/html": [
       "<div>\n",
       "<style scoped>\n",
       "    .dataframe tbody tr th:only-of-type {\n",
       "        vertical-align: middle;\n",
       "    }\n",
       "\n",
       "    .dataframe tbody tr th {\n",
       "        vertical-align: top;\n",
       "    }\n",
       "\n",
       "    .dataframe thead th {\n",
       "        text-align: right;\n",
       "    }\n",
       "</style>\n",
       "<table border=\"1\" class=\"dataframe\">\n",
       "  <thead>\n",
       "    <tr style=\"text-align: right;\">\n",
       "      <th></th>\n",
       "      <th>Time</th>\n",
       "      <th>V1</th>\n",
       "      <th>V2</th>\n",
       "      <th>V3</th>\n",
       "      <th>V4</th>\n",
       "      <th>V5</th>\n",
       "      <th>V6</th>\n",
       "      <th>V7</th>\n",
       "      <th>V8</th>\n",
       "      <th>V9</th>\n",
       "      <th>...</th>\n",
       "      <th>V21</th>\n",
       "      <th>V22</th>\n",
       "      <th>V23</th>\n",
       "      <th>V24</th>\n",
       "      <th>V25</th>\n",
       "      <th>V26</th>\n",
       "      <th>V27</th>\n",
       "      <th>V28</th>\n",
       "      <th>Amount</th>\n",
       "      <th>Class</th>\n",
       "    </tr>\n",
       "  </thead>\n",
       "  <tbody>\n",
       "    <tr>\n",
       "      <td>count</td>\n",
       "      <td>284807.000000</td>\n",
       "      <td>2.848070e+05</td>\n",
       "      <td>2.848070e+05</td>\n",
       "      <td>2.848070e+05</td>\n",
       "      <td>2.848070e+05</td>\n",
       "      <td>2.848070e+05</td>\n",
       "      <td>2.848070e+05</td>\n",
       "      <td>2.848070e+05</td>\n",
       "      <td>2.848070e+05</td>\n",
       "      <td>2.848070e+05</td>\n",
       "      <td>...</td>\n",
       "      <td>2.848070e+05</td>\n",
       "      <td>2.848070e+05</td>\n",
       "      <td>2.848070e+05</td>\n",
       "      <td>2.848070e+05</td>\n",
       "      <td>2.848070e+05</td>\n",
       "      <td>2.848070e+05</td>\n",
       "      <td>2.848070e+05</td>\n",
       "      <td>2.848070e+05</td>\n",
       "      <td>284807.000000</td>\n",
       "      <td>284807.000000</td>\n",
       "    </tr>\n",
       "    <tr>\n",
       "      <td>mean</td>\n",
       "      <td>94813.859575</td>\n",
       "      <td>3.919560e-15</td>\n",
       "      <td>5.688174e-16</td>\n",
       "      <td>-8.769071e-15</td>\n",
       "      <td>2.782312e-15</td>\n",
       "      <td>-1.552563e-15</td>\n",
       "      <td>2.010663e-15</td>\n",
       "      <td>-1.694249e-15</td>\n",
       "      <td>-1.927028e-16</td>\n",
       "      <td>-3.137024e-15</td>\n",
       "      <td>...</td>\n",
       "      <td>1.537294e-16</td>\n",
       "      <td>7.959909e-16</td>\n",
       "      <td>5.367590e-16</td>\n",
       "      <td>4.458112e-15</td>\n",
       "      <td>1.453003e-15</td>\n",
       "      <td>1.699104e-15</td>\n",
       "      <td>-3.660161e-16</td>\n",
       "      <td>-1.206049e-16</td>\n",
       "      <td>88.349619</td>\n",
       "      <td>0.001727</td>\n",
       "    </tr>\n",
       "    <tr>\n",
       "      <td>std</td>\n",
       "      <td>47488.145955</td>\n",
       "      <td>1.958696e+00</td>\n",
       "      <td>1.651309e+00</td>\n",
       "      <td>1.516255e+00</td>\n",
       "      <td>1.415869e+00</td>\n",
       "      <td>1.380247e+00</td>\n",
       "      <td>1.332271e+00</td>\n",
       "      <td>1.237094e+00</td>\n",
       "      <td>1.194353e+00</td>\n",
       "      <td>1.098632e+00</td>\n",
       "      <td>...</td>\n",
       "      <td>7.345240e-01</td>\n",
       "      <td>7.257016e-01</td>\n",
       "      <td>6.244603e-01</td>\n",
       "      <td>6.056471e-01</td>\n",
       "      <td>5.212781e-01</td>\n",
       "      <td>4.822270e-01</td>\n",
       "      <td>4.036325e-01</td>\n",
       "      <td>3.300833e-01</td>\n",
       "      <td>250.120109</td>\n",
       "      <td>0.041527</td>\n",
       "    </tr>\n",
       "    <tr>\n",
       "      <td>min</td>\n",
       "      <td>0.000000</td>\n",
       "      <td>-5.640751e+01</td>\n",
       "      <td>-7.271573e+01</td>\n",
       "      <td>-4.832559e+01</td>\n",
       "      <td>-5.683171e+00</td>\n",
       "      <td>-1.137433e+02</td>\n",
       "      <td>-2.616051e+01</td>\n",
       "      <td>-4.355724e+01</td>\n",
       "      <td>-7.321672e+01</td>\n",
       "      <td>-1.343407e+01</td>\n",
       "      <td>...</td>\n",
       "      <td>-3.483038e+01</td>\n",
       "      <td>-1.093314e+01</td>\n",
       "      <td>-4.480774e+01</td>\n",
       "      <td>-2.836627e+00</td>\n",
       "      <td>-1.029540e+01</td>\n",
       "      <td>-2.604551e+00</td>\n",
       "      <td>-2.256568e+01</td>\n",
       "      <td>-1.543008e+01</td>\n",
       "      <td>0.000000</td>\n",
       "      <td>0.000000</td>\n",
       "    </tr>\n",
       "    <tr>\n",
       "      <td>25%</td>\n",
       "      <td>54201.500000</td>\n",
       "      <td>-9.203734e-01</td>\n",
       "      <td>-5.985499e-01</td>\n",
       "      <td>-8.903648e-01</td>\n",
       "      <td>-8.486401e-01</td>\n",
       "      <td>-6.915971e-01</td>\n",
       "      <td>-7.682956e-01</td>\n",
       "      <td>-5.540759e-01</td>\n",
       "      <td>-2.086297e-01</td>\n",
       "      <td>-6.430976e-01</td>\n",
       "      <td>...</td>\n",
       "      <td>-2.283949e-01</td>\n",
       "      <td>-5.423504e-01</td>\n",
       "      <td>-1.618463e-01</td>\n",
       "      <td>-3.545861e-01</td>\n",
       "      <td>-3.171451e-01</td>\n",
       "      <td>-3.269839e-01</td>\n",
       "      <td>-7.083953e-02</td>\n",
       "      <td>-5.295979e-02</td>\n",
       "      <td>5.600000</td>\n",
       "      <td>0.000000</td>\n",
       "    </tr>\n",
       "    <tr>\n",
       "      <td>50%</td>\n",
       "      <td>84692.000000</td>\n",
       "      <td>1.810880e-02</td>\n",
       "      <td>6.548556e-02</td>\n",
       "      <td>1.798463e-01</td>\n",
       "      <td>-1.984653e-02</td>\n",
       "      <td>-5.433583e-02</td>\n",
       "      <td>-2.741871e-01</td>\n",
       "      <td>4.010308e-02</td>\n",
       "      <td>2.235804e-02</td>\n",
       "      <td>-5.142873e-02</td>\n",
       "      <td>...</td>\n",
       "      <td>-2.945017e-02</td>\n",
       "      <td>6.781943e-03</td>\n",
       "      <td>-1.119293e-02</td>\n",
       "      <td>4.097606e-02</td>\n",
       "      <td>1.659350e-02</td>\n",
       "      <td>-5.213911e-02</td>\n",
       "      <td>1.342146e-03</td>\n",
       "      <td>1.124383e-02</td>\n",
       "      <td>22.000000</td>\n",
       "      <td>0.000000</td>\n",
       "    </tr>\n",
       "    <tr>\n",
       "      <td>75%</td>\n",
       "      <td>139320.500000</td>\n",
       "      <td>1.315642e+00</td>\n",
       "      <td>8.037239e-01</td>\n",
       "      <td>1.027196e+00</td>\n",
       "      <td>7.433413e-01</td>\n",
       "      <td>6.119264e-01</td>\n",
       "      <td>3.985649e-01</td>\n",
       "      <td>5.704361e-01</td>\n",
       "      <td>3.273459e-01</td>\n",
       "      <td>5.971390e-01</td>\n",
       "      <td>...</td>\n",
       "      <td>1.863772e-01</td>\n",
       "      <td>5.285536e-01</td>\n",
       "      <td>1.476421e-01</td>\n",
       "      <td>4.395266e-01</td>\n",
       "      <td>3.507156e-01</td>\n",
       "      <td>2.409522e-01</td>\n",
       "      <td>9.104512e-02</td>\n",
       "      <td>7.827995e-02</td>\n",
       "      <td>77.165000</td>\n",
       "      <td>0.000000</td>\n",
       "    </tr>\n",
       "    <tr>\n",
       "      <td>max</td>\n",
       "      <td>172792.000000</td>\n",
       "      <td>2.454930e+00</td>\n",
       "      <td>2.205773e+01</td>\n",
       "      <td>9.382558e+00</td>\n",
       "      <td>1.687534e+01</td>\n",
       "      <td>3.480167e+01</td>\n",
       "      <td>7.330163e+01</td>\n",
       "      <td>1.205895e+02</td>\n",
       "      <td>2.000721e+01</td>\n",
       "      <td>1.559499e+01</td>\n",
       "      <td>...</td>\n",
       "      <td>2.720284e+01</td>\n",
       "      <td>1.050309e+01</td>\n",
       "      <td>2.252841e+01</td>\n",
       "      <td>4.584549e+00</td>\n",
       "      <td>7.519589e+00</td>\n",
       "      <td>3.517346e+00</td>\n",
       "      <td>3.161220e+01</td>\n",
       "      <td>3.384781e+01</td>\n",
       "      <td>25691.160000</td>\n",
       "      <td>1.000000</td>\n",
       "    </tr>\n",
       "  </tbody>\n",
       "</table>\n",
       "<p>8 rows × 31 columns</p>\n",
       "</div>"
      ],
      "text/plain": [
       "                Time            V1            V2            V3            V4  \\\n",
       "count  284807.000000  2.848070e+05  2.848070e+05  2.848070e+05  2.848070e+05   \n",
       "mean    94813.859575  3.919560e-15  5.688174e-16 -8.769071e-15  2.782312e-15   \n",
       "std     47488.145955  1.958696e+00  1.651309e+00  1.516255e+00  1.415869e+00   \n",
       "min         0.000000 -5.640751e+01 -7.271573e+01 -4.832559e+01 -5.683171e+00   \n",
       "25%     54201.500000 -9.203734e-01 -5.985499e-01 -8.903648e-01 -8.486401e-01   \n",
       "50%     84692.000000  1.810880e-02  6.548556e-02  1.798463e-01 -1.984653e-02   \n",
       "75%    139320.500000  1.315642e+00  8.037239e-01  1.027196e+00  7.433413e-01   \n",
       "max    172792.000000  2.454930e+00  2.205773e+01  9.382558e+00  1.687534e+01   \n",
       "\n",
       "                 V5            V6            V7            V8            V9  \\\n",
       "count  2.848070e+05  2.848070e+05  2.848070e+05  2.848070e+05  2.848070e+05   \n",
       "mean  -1.552563e-15  2.010663e-15 -1.694249e-15 -1.927028e-16 -3.137024e-15   \n",
       "std    1.380247e+00  1.332271e+00  1.237094e+00  1.194353e+00  1.098632e+00   \n",
       "min   -1.137433e+02 -2.616051e+01 -4.355724e+01 -7.321672e+01 -1.343407e+01   \n",
       "25%   -6.915971e-01 -7.682956e-01 -5.540759e-01 -2.086297e-01 -6.430976e-01   \n",
       "50%   -5.433583e-02 -2.741871e-01  4.010308e-02  2.235804e-02 -5.142873e-02   \n",
       "75%    6.119264e-01  3.985649e-01  5.704361e-01  3.273459e-01  5.971390e-01   \n",
       "max    3.480167e+01  7.330163e+01  1.205895e+02  2.000721e+01  1.559499e+01   \n",
       "\n",
       "       ...           V21           V22           V23           V24  \\\n",
       "count  ...  2.848070e+05  2.848070e+05  2.848070e+05  2.848070e+05   \n",
       "mean   ...  1.537294e-16  7.959909e-16  5.367590e-16  4.458112e-15   \n",
       "std    ...  7.345240e-01  7.257016e-01  6.244603e-01  6.056471e-01   \n",
       "min    ... -3.483038e+01 -1.093314e+01 -4.480774e+01 -2.836627e+00   \n",
       "25%    ... -2.283949e-01 -5.423504e-01 -1.618463e-01 -3.545861e-01   \n",
       "50%    ... -2.945017e-02  6.781943e-03 -1.119293e-02  4.097606e-02   \n",
       "75%    ...  1.863772e-01  5.285536e-01  1.476421e-01  4.395266e-01   \n",
       "max    ...  2.720284e+01  1.050309e+01  2.252841e+01  4.584549e+00   \n",
       "\n",
       "                V25           V26           V27           V28         Amount  \\\n",
       "count  2.848070e+05  2.848070e+05  2.848070e+05  2.848070e+05  284807.000000   \n",
       "mean   1.453003e-15  1.699104e-15 -3.660161e-16 -1.206049e-16      88.349619   \n",
       "std    5.212781e-01  4.822270e-01  4.036325e-01  3.300833e-01     250.120109   \n",
       "min   -1.029540e+01 -2.604551e+00 -2.256568e+01 -1.543008e+01       0.000000   \n",
       "25%   -3.171451e-01 -3.269839e-01 -7.083953e-02 -5.295979e-02       5.600000   \n",
       "50%    1.659350e-02 -5.213911e-02  1.342146e-03  1.124383e-02      22.000000   \n",
       "75%    3.507156e-01  2.409522e-01  9.104512e-02  7.827995e-02      77.165000   \n",
       "max    7.519589e+00  3.517346e+00  3.161220e+01  3.384781e+01   25691.160000   \n",
       "\n",
       "               Class  \n",
       "count  284807.000000  \n",
       "mean        0.001727  \n",
       "std         0.041527  \n",
       "min         0.000000  \n",
       "25%         0.000000  \n",
       "50%         0.000000  \n",
       "75%         0.000000  \n",
       "max         1.000000  \n",
       "\n",
       "[8 rows x 31 columns]"
      ]
     },
     "execution_count": 6,
     "metadata": {},
     "output_type": "execute_result"
    }
   ],
   "source": [
    "df.describe()"
   ]
  },
  {
   "cell_type": "markdown",
   "metadata": {},
   "source": [
    "### Plotting"
   ]
  },
  {
   "cell_type": "markdown",
   "metadata": {},
   "source": [
    "We tried to plot the two not anonymized features, that as we said are 'Time' and 'Amount'. \n",
    "\n",
    "From the Time Distribution we can understand it is bimodal. This indicates that approximately 28 hours after the first transaction there was a drop in the volume. The timestamp is not provided but as hypothesis it would be reasonable to assume that the drop is caused by a drop in the number of transactions during night. We can infer this by the fact that time is provided in seconds hence should be about two days of transactions. \n",
    "\n",
    "From the Amount Distribution we can derive it is skewed. Most of the transactions are small and a little percentage are higher. \n",
    "\n",
    "Finally, we plotted the Non Fraud and Fraud transactions over time but there are no meaningful things we can derive. "
   ]
  },
  {
   "cell_type": "code",
   "execution_count": 7,
   "metadata": {},
   "outputs": [
    {
     "data": {
      "text/plain": [
       "<matplotlib.axes._subplots.AxesSubplot at 0x1a1e9981d0>"
      ]
     },
     "execution_count": 7,
     "metadata": {},
     "output_type": "execute_result"
    },
    {
     "data": {
      "image/png": "[encoded data removed]",
      "text/plain": [
       "<Figure size 432x288 with 1 Axes>"
      ]
     },
     "metadata": {
      "needs_background": "light"
     },
     "output_type": "display_data"
    }
   ],
   "source": [
    "plt.figure(figsize = (6,4))\n",
    "plt.title('Time Distribution')\n",
    "sns.distplot(df['Time'])"
   ]
  },
  {
   "cell_type": "code",
   "execution_count": 8,
   "metadata": {},
   "outputs": [
    {
     "data": {
      "text/plain": [
       "<matplotlib.axes._subplots.AxesSubplot at 0x1a1f121a10>"
      ]
     },
     "execution_count": 8,
     "metadata": {},
     "output_type": "execute_result"
    },
    {
     "data": {
      "image/png": "[encoded data removed]",
      "text/plain": [
       "<Figure size 432x288 with 1 Axes>"
      ]
     },
     "metadata": {
      "needs_background": "light"
     },
     "output_type": "display_data"
    }
   ],
   "source": [
    "plt.figure(figsize = (6,4))\n",
    "plt.title('Amount Distribution')\n",
    "sns.distplot(df['Amount'])"
   ]
  },
  {
   "cell_type": "code",
   "execution_count": 9,
   "metadata": {},
   "outputs": [
    {
     "data": {
      "text/plain": [
       "<matplotlib.axes._subplots.AxesSubplot at 0x1a1ef3ed90>"
      ]
     },
     "execution_count": 9,
     "metadata": {},
     "output_type": "execute_result"
    },
    {
     "data": {
      "image/png": "[encoded data removed]",
      "text/plain": [
       "<Figure size 432x288 with 1 Axes>"
      ]
     },
     "metadata": {
      "needs_background": "light"
     },
     "output_type": "display_data"
    }
   ],
   "source": [
    "plt.figure(figsize = (6,4))\n",
    "plt.title('Non Fraud Distribution')\n",
    "sns.distplot(df['Time'][df['Class'] == 0])"
   ]
  },
  {
   "cell_type": "code",
   "execution_count": 10,
   "metadata": {},
   "outputs": [
    {
     "data": {
      "text/plain": [
       "<matplotlib.axes._subplots.AxesSubplot at 0x1a1e998950>"
      ]
     },
     "execution_count": 10,
     "metadata": {},
     "output_type": "execute_result"
    },
    {
     "data": {
      "image/png": "[encoded data removed]",
      "text/plain": [
       "<Figure size 432x288 with 1 Axes>"
      ]
     },
     "metadata": {
      "needs_background": "light"
     },
     "output_type": "display_data"
    }
   ],
   "source": [
    "plt.figure(figsize = (6,4))\n",
    "plt.title('Fraud Distribution')\n",
    "sns.distplot(df['Time'][df['Class'] == 1])"
   ]
  },
  {
   "cell_type": "markdown",
   "metadata": {},
   "source": [
    "At this point, we tried to understand how the transactions are distributed among the two classes of 'Fraud' and 'Non Fraud'. We derived the data and plotted a bar chart to explain it. Thus, we understood that the dataset has just few fraudulent transactions, which are 0.173% of the total. \n",
    "\n",
    "Therefore, we are dealing with a highly unbalanced dataset and with a class of problems known as class imbalance. By studying the problem we discovered that it is very common in fraud detection problems to have this issue.  \n",
    "\n",
    "Stated that, it is not possible to use directly a machine learning algorithm otherwise it will overfit the data on the 'Non Fraud' samples. A good idea to have a not biased result is to reduce classes samples to be more or less equal.\n",
    "The main problem is that if there are few 'Fraud' samples, there is too few data to infer patterns from them. "
   ]
  },
  {
   "cell_type": "code",
   "execution_count": 11,
   "metadata": {},
   "outputs": [
    {
     "name": "stdout",
     "output_type": "stream",
     "text": [
      "fraudelent transactions are 492\n",
      "non fraudelent transaction are 284315\n",
      "frauds are 0.173% of the total\n"
     ]
    }
   ],
   "source": [
    "frauds_df = df[df['Class'] == 1]\n",
    "non_frauds_df = df[df['Class'] == 0]\n",
    "\n",
    "frauds_number = len(frauds_df)\n",
    "non_frauds_number = len(non_frauds_df)\n",
    "\n",
    "print(\"fraudelent transactions are \" + str(frauds_number))\n",
    "print(\"non fraudelent transaction are \" + str(non_frauds_number))\n",
    "\n",
    "ratio = (float(frauds_number) / float(non_frauds_number)) * 100\n",
    "print(\"frauds are \" + str(ratio)[:5] + \"% of the total\")"
   ]
  },
  {
   "cell_type": "code",
   "execution_count": 12,
   "metadata": {
    "scrolled": true
   },
   "outputs": [
    {
     "data": {
      "image/png": "[encoded data removed]",
      "text/plain": [
       "<Figure size 432x288 with 1 Axes>"
      ]
     },
     "metadata": {
      "needs_background": "light"
     },
     "output_type": "display_data"
    }
   ],
   "source": [
    "classes = pd.value_counts(df['Class'], sort=True)\n",
    "classes.plot(kind = 'bar', rot=0)\n",
    "\n",
    "plt.title(\"Class Transactions\")\n",
    "plt.xticks(range(2), ['Non Fraud', 'Fraud'])\n",
    "plt.xlabel(\"Class\")\n",
    "plt.ylabel(\"Frequency - #Transactions\")\n",
    "plt.show()"
   ]
  },
  {
   "cell_type": "markdown",
   "metadata": {},
   "source": [
    "We don't know the features but we can understand if there is a correlation between them, hence we plotted an heatmap with correlations. We infered that there are no highly correlated features. There's a just a slightly negative correlation between V2 and Amount. And some features seem to have little correlations with the label 'Class' maybe due to the PCA. "
   ]
  },
  {
   "cell_type": "code",
   "execution_count": 13,
   "metadata": {},
   "outputs": [
    {
     "data": {
      "text/plain": [
       "<matplotlib.axes._subplots.AxesSubplot at 0x1a1fe3ec50>"
      ]
     },
     "execution_count": 13,
     "metadata": {},
     "output_type": "execute_result"
    },
    {
     "data": {
      "image/png": "[encoded data removed]",
      "text/plain": [
       "<Figure size 576x432 with 2 Axes>"
      ]
     },
     "metadata": {
      "needs_background": "light"
     },
     "output_type": "display_data"
    }
   ],
   "source": [
    "correlations = df.corr()\n",
    "\n",
    "fig, ax = plt.subplots(figsize=(8, 6))\n",
    "sns.heatmap(correlations, \n",
    "            xticklabels=correlations.columns, \n",
    "            yticklabels=correlations.columns,\n",
    "            linewidths=.1, cmap=\"RdBu\", ax=ax)"
   ]
  },
  {
   "cell_type": "markdown",
   "metadata": {},
   "source": [
    "To visualize differently the distribution of data, we used T-SNE, which is a data decomposition technique that reduces data into specific dimensions and displays the top n dimensions with maximum information, a technique similar to PCA. A lot of Non Fraud transactions overlap with the Fraud transactions hence they are difficult to divide with a linear boundary. "
   ]
  },
  {
   "cell_type": "code",
   "execution_count": 14,
   "metadata": {},
   "outputs": [
    {
     "data": {
      "image/png": "[encoded data removed]",
      "text/plain": [
       "<Figure size 576x432 with 1 Axes>"
      ]
     },
     "metadata": {
      "needs_background": "light"
     },
     "output_type": "display_data"
    }
   ],
   "source": [
    "non_fraud_tsne = df[df['Class'] == 0].sample(2000)\n",
    "fraud_tsne = df[df['Class'] == 1]\n",
    "\n",
    "#frac = 1 retains the 100% of the fraud dataframe\n",
    "df_tsne = non_fraud_tsne.append(fraud_tsne).sample(frac = 1)\n",
    "#drop the index columns \n",
    "df_tsne = df_tsne.reset_index(drop = True)\n",
    "\n",
    "x = df_tsne.drop(['Class'], axis = 1).values\n",
    "y = df_tsne['Class'].values\n",
    "\n",
    "p = TSNE(n_components=2, random_state=24).fit_transform(x)\n",
    "\n",
    "plt.figure(figsize=(8, 6))\n",
    "plt.scatter(p[np.where(y == 0), 0], p[np.where(y == 0), 1], marker='o', color='g', linewidth='1', alpha=0.8, label='Non Fraud')\n",
    "plt.scatter(p[np.where(y == 1), 0], p[np.where(y == 1), 1], marker='o', color='r', linewidth='1', alpha=0.8, label='Fraud')\n",
    "plt.legend(loc='best')\n",
    "plt.show()"
   ]
  },
  {
   "cell_type": "markdown",
   "metadata": {},
   "source": [
    "## Data Preparation\n"
   ]
  },
  {
   "cell_type": "markdown",
   "metadata": {},
   "source": [
    "All the anonymized features have been scaled and centered around zero while 'Time' and 'Amount' have been not. To have a better performance with the Logistic Regression, the ML algorithm that we will use later, is necessary to scale them as weel. \n",
    "\n",
    "To prepare our data as input to the ML we need to:\n",
    "- preprocess time and amount witn StandardScaler\n",
    "- split dataset into train and test set\n",
    "- deal with the highly unbalanced dataset"
   ]
  },
  {
   "cell_type": "markdown",
   "metadata": {},
   "source": [
    "The StandardScaler will transform the data to have a distribution will with mean value 0 and a standard deviation of 1. Transform the data is crucial to be correctly interpreted by the algorithm."
   ]
  },
  {
   "cell_type": "code",
   "execution_count": 15,
   "metadata": {},
   "outputs": [],
   "source": [
    "# scaling TIME to be centered around zero \n",
    "scaler_time = StandardScaler()\n",
    "\n",
    "scaled_time = scaler_time.fit_transform(df[['Time']])\n",
    "scaled_time_list = scaled_time.tolist()\n",
    "\n",
    "flat_time = [item for sublist in scaled_time_list for item in sublist]\n",
    "scaled_time = pd.Series(flat_time)\n",
    "\n",
    "#print(scaled_time)"
   ]
  },
  {
   "cell_type": "code",
   "execution_count": 16,
   "metadata": {},
   "outputs": [],
   "source": [
    "# scaling AMOUNT to be centered around zero \n",
    "scaler_amount = StandardScaler()\n",
    "\n",
    "scaled_amount = scaler_amount.fit_transform(df[['Amount']])\n",
    "scaled_amount_list = scaled_amount.tolist()\n",
    "\n",
    "flat_amount= [item for sublist in scaled_amount_list for item in sublist]\n",
    "scaled_amount = pd.Series(flat_amount)\n",
    "\n",
    "#print(scaled_amount)"
   ]
  },
  {
   "cell_type": "code",
   "execution_count": 17,
   "metadata": {},
   "outputs": [
    {
     "data": {
      "text/html": [
       "<div>\n",
       "<style scoped>\n",
       "    .dataframe tbody tr th:only-of-type {\n",
       "        vertical-align: middle;\n",
       "    }\n",
       "\n",
       "    .dataframe tbody tr th {\n",
       "        vertical-align: top;\n",
       "    }\n",
       "\n",
       "    .dataframe thead th {\n",
       "        text-align: right;\n",
       "    }\n",
       "</style>\n",
       "<table border=\"1\" class=\"dataframe\">\n",
       "  <thead>\n",
       "    <tr style=\"text-align: right;\">\n",
       "      <th></th>\n",
       "      <th>Time</th>\n",
       "      <th>V1</th>\n",
       "      <th>V2</th>\n",
       "      <th>V3</th>\n",
       "      <th>V4</th>\n",
       "      <th>V5</th>\n",
       "      <th>V6</th>\n",
       "      <th>V7</th>\n",
       "      <th>V8</th>\n",
       "      <th>V9</th>\n",
       "      <th>...</th>\n",
       "      <th>V23</th>\n",
       "      <th>V24</th>\n",
       "      <th>V25</th>\n",
       "      <th>V26</th>\n",
       "      <th>V27</th>\n",
       "      <th>V28</th>\n",
       "      <th>Amount</th>\n",
       "      <th>Class</th>\n",
       "      <th>Amount_Scaled</th>\n",
       "      <th>Time_Scaled</th>\n",
       "    </tr>\n",
       "  </thead>\n",
       "  <tbody>\n",
       "    <tr>\n",
       "      <td>177715</td>\n",
       "      <td>123309.0</td>\n",
       "      <td>2.001435</td>\n",
       "      <td>-0.463092</td>\n",
       "      <td>-0.373777</td>\n",
       "      <td>0.042659</td>\n",
       "      <td>-0.226940</td>\n",
       "      <td>0.750496</td>\n",
       "      <td>-0.965146</td>\n",
       "      <td>0.286173</td>\n",
       "      <td>1.261615</td>\n",
       "      <td>...</td>\n",
       "      <td>0.183853</td>\n",
       "      <td>-0.144827</td>\n",
       "      <td>-0.258365</td>\n",
       "      <td>-0.415058</td>\n",
       "      <td>0.053372</td>\n",
       "      <td>-0.037595</td>\n",
       "      <td>1.18</td>\n",
       "      <td>0</td>\n",
       "      <td>-0.348512</td>\n",
       "      <td>0.600048</td>\n",
       "    </tr>\n",
       "    <tr>\n",
       "      <td>145361</td>\n",
       "      <td>86863.0</td>\n",
       "      <td>-0.795500</td>\n",
       "      <td>0.005482</td>\n",
       "      <td>0.466845</td>\n",
       "      <td>0.310287</td>\n",
       "      <td>1.083794</td>\n",
       "      <td>-0.163181</td>\n",
       "      <td>0.663677</td>\n",
       "      <td>0.123929</td>\n",
       "      <td>0.777537</td>\n",
       "      <td>...</td>\n",
       "      <td>0.559602</td>\n",
       "      <td>0.510068</td>\n",
       "      <td>-0.596535</td>\n",
       "      <td>-1.080868</td>\n",
       "      <td>0.183640</td>\n",
       "      <td>0.194137</td>\n",
       "      <td>12.00</td>\n",
       "      <td>0</td>\n",
       "      <td>-0.305252</td>\n",
       "      <td>-0.167429</td>\n",
       "    </tr>\n",
       "    <tr>\n",
       "      <td>177941</td>\n",
       "      <td>123410.0</td>\n",
       "      <td>-1.622295</td>\n",
       "      <td>-0.442112</td>\n",
       "      <td>-0.913447</td>\n",
       "      <td>-0.520491</td>\n",
       "      <td>-4.766858</td>\n",
       "      <td>3.413582</td>\n",
       "      <td>2.481812</td>\n",
       "      <td>-4.325750</td>\n",
       "      <td>-0.593062</td>\n",
       "      <td>...</td>\n",
       "      <td>-4.635745</td>\n",
       "      <td>0.886986</td>\n",
       "      <td>0.273621</td>\n",
       "      <td>-0.482686</td>\n",
       "      <td>1.604979</td>\n",
       "      <td>-0.255003</td>\n",
       "      <td>1495.68</td>\n",
       "      <td>0</td>\n",
       "      <td>5.626628</td>\n",
       "      <td>0.602175</td>\n",
       "    </tr>\n",
       "    <tr>\n",
       "      <td>84939</td>\n",
       "      <td>60530.0</td>\n",
       "      <td>1.496612</td>\n",
       "      <td>-1.450776</td>\n",
       "      <td>0.511173</td>\n",
       "      <td>-1.612566</td>\n",
       "      <td>-1.265303</td>\n",
       "      <td>0.956041</td>\n",
       "      <td>-1.693659</td>\n",
       "      <td>0.287020</td>\n",
       "      <td>-1.150133</td>\n",
       "      <td>...</td>\n",
       "      <td>-0.172903</td>\n",
       "      <td>-1.402114</td>\n",
       "      <td>0.436249</td>\n",
       "      <td>-0.107190</td>\n",
       "      <td>0.068504</td>\n",
       "      <td>0.007694</td>\n",
       "      <td>30.97</td>\n",
       "      <td>0</td>\n",
       "      <td>-0.229409</td>\n",
       "      <td>-0.721947</td>\n",
       "    </tr>\n",
       "    <tr>\n",
       "      <td>4049</td>\n",
       "      <td>3702.0</td>\n",
       "      <td>-0.669241</td>\n",
       "      <td>0.932807</td>\n",
       "      <td>1.764215</td>\n",
       "      <td>2.882186</td>\n",
       "      <td>0.604556</td>\n",
       "      <td>0.893758</td>\n",
       "      <td>0.663482</td>\n",
       "      <td>0.107583</td>\n",
       "      <td>-0.756332</td>\n",
       "      <td>...</td>\n",
       "      <td>0.230235</td>\n",
       "      <td>-0.373776</td>\n",
       "      <td>-0.349782</td>\n",
       "      <td>0.001754</td>\n",
       "      <td>0.071010</td>\n",
       "      <td>0.126624</td>\n",
       "      <td>117.65</td>\n",
       "      <td>0</td>\n",
       "      <td>0.117145</td>\n",
       "      <td>-1.918627</td>\n",
       "    </tr>\n",
       "  </tbody>\n",
       "</table>\n",
       "<p>5 rows × 33 columns</p>\n",
       "</div>"
      ],
      "text/plain": [
       "            Time        V1        V2        V3        V4        V5        V6  \\\n",
       "177715  123309.0  2.001435 -0.463092 -0.373777  0.042659 -0.226940  0.750496   \n",
       "145361   86863.0 -0.795500  0.005482  0.466845  0.310287  1.083794 -0.163181   \n",
       "177941  123410.0 -1.622295 -0.442112 -0.913447 -0.520491 -4.766858  3.413582   \n",
       "84939    60530.0  1.496612 -1.450776  0.511173 -1.612566 -1.265303  0.956041   \n",
       "4049      3702.0 -0.669241  0.932807  1.764215  2.882186  0.604556  0.893758   \n",
       "\n",
       "              V7        V8        V9  ...       V23       V24       V25  \\\n",
       "177715 -0.965146  0.286173  1.261615  ...  0.183853 -0.144827 -0.258365   \n",
       "145361  0.663677  0.123929  0.777537  ...  0.559602  0.510068 -0.596535   \n",
       "177941  2.481812 -4.325750 -0.593062  ... -4.635745  0.886986  0.273621   \n",
       "84939  -1.693659  0.287020 -1.150133  ... -0.172903 -1.402114  0.436249   \n",
       "4049    0.663482  0.107583 -0.756332  ...  0.230235 -0.373776 -0.349782   \n",
       "\n",
       "             V26       V27       V28   Amount  Class  Amount_Scaled  \\\n",
       "177715 -0.415058  0.053372 -0.037595     1.18      0      -0.348512   \n",
       "145361 -1.080868  0.183640  0.194137    12.00      0      -0.305252   \n",
       "177941 -0.482686  1.604979 -0.255003  1495.68      0       5.626628   \n",
       "84939  -0.107190  0.068504  0.007694    30.97      0      -0.229409   \n",
       "4049    0.001754  0.071010  0.126624   117.65      0       0.117145   \n",
       "\n",
       "        Time_Scaled  \n",
       "177715     0.600048  \n",
       "145361    -0.167429  \n",
       "177941     0.602175  \n",
       "84939     -0.721947  \n",
       "4049      -1.918627  \n",
       "\n",
       "[5 rows x 33 columns]"
      ]
     },
     "execution_count": 17,
     "metadata": {},
     "output_type": "execute_result"
    }
   ],
   "source": [
    "# Add the new two columns to the dataframe and check it is everything ok\n",
    "\n",
    "df_scaled = pd.concat([df, scaled_amount.rename('Amount_Scaled'), scaled_time.rename('Time_Scaled')], axis=1)\n",
    "df_scaled.sample(5)"
   ]
  },
  {
   "cell_type": "code",
   "execution_count": 18,
   "metadata": {},
   "outputs": [
    {
     "data": {
      "text/html": [
       "<div>\n",
       "<style scoped>\n",
       "    .dataframe tbody tr th:only-of-type {\n",
       "        vertical-align: middle;\n",
       "    }\n",
       "\n",
       "    .dataframe tbody tr th {\n",
       "        vertical-align: top;\n",
       "    }\n",
       "\n",
       "    .dataframe thead th {\n",
       "        text-align: right;\n",
       "    }\n",
       "</style>\n",
       "<table border=\"1\" class=\"dataframe\">\n",
       "  <thead>\n",
       "    <tr style=\"text-align: right;\">\n",
       "      <th></th>\n",
       "      <th>V1</th>\n",
       "      <th>V2</th>\n",
       "      <th>V3</th>\n",
       "      <th>V4</th>\n",
       "      <th>V5</th>\n",
       "      <th>V6</th>\n",
       "      <th>V7</th>\n",
       "      <th>V8</th>\n",
       "      <th>V9</th>\n",
       "      <th>V10</th>\n",
       "      <th>...</th>\n",
       "      <th>V22</th>\n",
       "      <th>V23</th>\n",
       "      <th>V24</th>\n",
       "      <th>V25</th>\n",
       "      <th>V26</th>\n",
       "      <th>V27</th>\n",
       "      <th>V28</th>\n",
       "      <th>Class</th>\n",
       "      <th>Amount_Scaled</th>\n",
       "      <th>Time_Scaled</th>\n",
       "    </tr>\n",
       "  </thead>\n",
       "  <tbody>\n",
       "    <tr>\n",
       "      <td>137508</td>\n",
       "      <td>1.133922</td>\n",
       "      <td>0.165194</td>\n",
       "      <td>0.224263</td>\n",
       "      <td>1.119723</td>\n",
       "      <td>-0.432444</td>\n",
       "      <td>-0.539172</td>\n",
       "      <td>-0.193195</td>\n",
       "      <td>0.055935</td>\n",
       "      <td>0.665025</td>\n",
       "      <td>-0.799560</td>\n",
       "      <td>...</td>\n",
       "      <td>-0.157454</td>\n",
       "      <td>-0.017445</td>\n",
       "      <td>0.320921</td>\n",
       "      <td>0.408181</td>\n",
       "      <td>0.423228</td>\n",
       "      <td>0.013945</td>\n",
       "      <td>0.041466</td>\n",
       "      <td>0</td>\n",
       "      <td>-0.304013</td>\n",
       "      <td>-0.265769</td>\n",
       "    </tr>\n",
       "    <tr>\n",
       "      <td>78921</td>\n",
       "      <td>-0.316161</td>\n",
       "      <td>1.336281</td>\n",
       "      <td>-1.804674</td>\n",
       "      <td>-0.256085</td>\n",
       "      <td>2.519849</td>\n",
       "      <td>3.046683</td>\n",
       "      <td>0.058375</td>\n",
       "      <td>1.171650</td>\n",
       "      <td>-0.631455</td>\n",
       "      <td>0.353188</td>\n",
       "      <td>...</td>\n",
       "      <td>0.269838</td>\n",
       "      <td>0.038886</td>\n",
       "      <td>1.001266</td>\n",
       "      <td>-0.479042</td>\n",
       "      <td>-0.392731</td>\n",
       "      <td>0.422930</td>\n",
       "      <td>0.220765</td>\n",
       "      <td>0</td>\n",
       "      <td>-0.347632</td>\n",
       "      <td>-0.780025</td>\n",
       "    </tr>\n",
       "    <tr>\n",
       "      <td>5901</td>\n",
       "      <td>1.188102</td>\n",
       "      <td>1.319395</td>\n",
       "      <td>-1.352471</td>\n",
       "      <td>1.790685</td>\n",
       "      <td>0.815736</td>\n",
       "      <td>-1.589265</td>\n",
       "      <td>0.549760</td>\n",
       "      <td>-0.301559</td>\n",
       "      <td>0.650635</td>\n",
       "      <td>-1.736709</td>\n",
       "      <td>...</td>\n",
       "      <td>-0.589551</td>\n",
       "      <td>-0.179297</td>\n",
       "      <td>0.134143</td>\n",
       "      <td>0.756835</td>\n",
       "      <td>-0.361285</td>\n",
       "      <td>0.005460</td>\n",
       "      <td>0.081665</td>\n",
       "      <td>0</td>\n",
       "      <td>-0.338916</td>\n",
       "      <td>-1.860507</td>\n",
       "    </tr>\n",
       "    <tr>\n",
       "      <td>8087</td>\n",
       "      <td>1.402441</td>\n",
       "      <td>-0.328245</td>\n",
       "      <td>0.064605</td>\n",
       "      <td>-0.626516</td>\n",
       "      <td>-0.519536</td>\n",
       "      <td>-0.267022</td>\n",
       "      <td>-0.858572</td>\n",
       "      <td>-0.021193</td>\n",
       "      <td>0.460629</td>\n",
       "      <td>0.046549</td>\n",
       "      <td>...</td>\n",
       "      <td>-0.206558</td>\n",
       "      <td>-0.102626</td>\n",
       "      <td>-0.675267</td>\n",
       "      <td>0.402656</td>\n",
       "      <td>-0.283647</td>\n",
       "      <td>-0.009584</td>\n",
       "      <td>0.016711</td>\n",
       "      <td>0</td>\n",
       "      <td>-0.289460</td>\n",
       "      <td>-1.764651</td>\n",
       "    </tr>\n",
       "    <tr>\n",
       "      <td>218805</td>\n",
       "      <td>0.208744</td>\n",
       "      <td>-1.029454</td>\n",
       "      <td>1.211577</td>\n",
       "      <td>-2.587052</td>\n",
       "      <td>-1.229665</td>\n",
       "      <td>0.068832</td>\n",
       "      <td>-1.026706</td>\n",
       "      <td>0.241571</td>\n",
       "      <td>-1.363648</td>\n",
       "      <td>1.011968</td>\n",
       "      <td>...</td>\n",
       "      <td>0.615029</td>\n",
       "      <td>0.259773</td>\n",
       "      <td>-0.458187</td>\n",
       "      <td>-1.643682</td>\n",
       "      <td>-0.463289</td>\n",
       "      <td>0.326544</td>\n",
       "      <td>0.278681</td>\n",
       "      <td>0</td>\n",
       "      <td>-0.221892</td>\n",
       "      <td>0.982376</td>\n",
       "    </tr>\n",
       "  </tbody>\n",
       "</table>\n",
       "<p>5 rows × 31 columns</p>\n",
       "</div>"
      ],
      "text/plain": [
       "              V1        V2        V3        V4        V5        V6        V7  \\\n",
       "137508  1.133922  0.165194  0.224263  1.119723 -0.432444 -0.539172 -0.193195   \n",
       "78921  -0.316161  1.336281 -1.804674 -0.256085  2.519849  3.046683  0.058375   \n",
       "5901    1.188102  1.319395 -1.352471  1.790685  0.815736 -1.589265  0.549760   \n",
       "8087    1.402441 -0.328245  0.064605 -0.626516 -0.519536 -0.267022 -0.858572   \n",
       "218805  0.208744 -1.029454  1.211577 -2.587052 -1.229665  0.068832 -1.026706   \n",
       "\n",
       "              V8        V9       V10  ...       V22       V23       V24  \\\n",
       "137508  0.055935  0.665025 -0.799560  ... -0.157454 -0.017445  0.320921   \n",
       "78921   1.171650 -0.631455  0.353188  ...  0.269838  0.038886  1.001266   \n",
       "5901   -0.301559  0.650635 -1.736709  ... -0.589551 -0.179297  0.134143   \n",
       "8087   -0.021193  0.460629  0.046549  ... -0.206558 -0.102626 -0.675267   \n",
       "218805  0.241571 -1.363648  1.011968  ...  0.615029  0.259773 -0.458187   \n",
       "\n",
       "             V25       V26       V27       V28  Class  Amount_Scaled  \\\n",
       "137508  0.408181  0.423228  0.013945  0.041466      0      -0.304013   \n",
       "78921  -0.479042 -0.392731  0.422930  0.220765      0      -0.347632   \n",
       "5901    0.756835 -0.361285  0.005460  0.081665      0      -0.338916   \n",
       "8087    0.402656 -0.283647 -0.009584  0.016711      0      -0.289460   \n",
       "218805 -1.643682 -0.463289  0.326544  0.278681      0      -0.221892   \n",
       "\n",
       "        Time_Scaled  \n",
       "137508    -0.265769  \n",
       "78921     -0.780025  \n",
       "5901      -1.860507  \n",
       "8087      -1.764651  \n",
       "218805     0.982376  \n",
       "\n",
       "[5 rows x 31 columns]"
      ]
     },
     "execution_count": 18,
     "metadata": {},
     "output_type": "execute_result"
    }
   ],
   "source": [
    "# Drop columns with no normalized values\n",
    "\n",
    "df_scaled.drop(['Amount', 'Time'], axis = 1, inplace = True)\n",
    "df_scaled.sample(5)"
   ]
  },
  {
   "cell_type": "code",
   "execution_count": 19,
   "metadata": {},
   "outputs": [
    {
     "data": {
      "text/html": [
       "<div>\n",
       "<style scoped>\n",
       "    .dataframe tbody tr th:only-of-type {\n",
       "        vertical-align: middle;\n",
       "    }\n",
       "\n",
       "    .dataframe tbody tr th {\n",
       "        vertical-align: top;\n",
       "    }\n",
       "\n",
       "    .dataframe thead th {\n",
       "        text-align: right;\n",
       "    }\n",
       "</style>\n",
       "<table border=\"1\" class=\"dataframe\">\n",
       "  <thead>\n",
       "    <tr style=\"text-align: right;\">\n",
       "      <th></th>\n",
       "      <th>V1</th>\n",
       "      <th>V2</th>\n",
       "      <th>V3</th>\n",
       "      <th>V4</th>\n",
       "      <th>V5</th>\n",
       "      <th>V6</th>\n",
       "      <th>V7</th>\n",
       "      <th>V8</th>\n",
       "      <th>V9</th>\n",
       "      <th>V10</th>\n",
       "      <th>...</th>\n",
       "      <th>V22</th>\n",
       "      <th>V23</th>\n",
       "      <th>V24</th>\n",
       "      <th>V25</th>\n",
       "      <th>V26</th>\n",
       "      <th>V27</th>\n",
       "      <th>V28</th>\n",
       "      <th>Amount_Scaled</th>\n",
       "      <th>Time_Scaled</th>\n",
       "      <th>Class</th>\n",
       "    </tr>\n",
       "  </thead>\n",
       "  <tbody>\n",
       "    <tr>\n",
       "      <td>274326</td>\n",
       "      <td>0.497891</td>\n",
       "      <td>-3.579021</td>\n",
       "      <td>-2.202132</td>\n",
       "      <td>-0.041862</td>\n",
       "      <td>-1.558152</td>\n",
       "      <td>-0.947046</td>\n",
       "      <td>0.835022</td>\n",
       "      <td>-0.562582</td>\n",
       "      <td>-0.336945</td>\n",
       "      <td>0.358599</td>\n",
       "      <td>...</td>\n",
       "      <td>-0.552604</td>\n",
       "      <td>-0.552775</td>\n",
       "      <td>0.008024</td>\n",
       "      <td>-0.413355</td>\n",
       "      <td>-0.418322</td>\n",
       "      <td>-0.203340</td>\n",
       "      <td>0.091928</td>\n",
       "      <td>3.241050</td>\n",
       "      <td>1.498169</td>\n",
       "      <td>0</td>\n",
       "    </tr>\n",
       "    <tr>\n",
       "      <td>157379</td>\n",
       "      <td>2.082308</td>\n",
       "      <td>0.043582</td>\n",
       "      <td>-1.360007</td>\n",
       "      <td>0.360721</td>\n",
       "      <td>0.315535</td>\n",
       "      <td>-0.744302</td>\n",
       "      <td>0.027427</td>\n",
       "      <td>-0.319088</td>\n",
       "      <td>2.105596</td>\n",
       "      <td>-0.465750</td>\n",
       "      <td>...</td>\n",
       "      <td>0.694662</td>\n",
       "      <td>0.024652</td>\n",
       "      <td>0.554253</td>\n",
       "      <td>0.313529</td>\n",
       "      <td>-0.480011</td>\n",
       "      <td>-0.022824</td>\n",
       "      <td>-0.055793</td>\n",
       "      <td>-0.349231</td>\n",
       "      <td>0.316609</td>\n",
       "      <td>0</td>\n",
       "    </tr>\n",
       "    <tr>\n",
       "      <td>268036</td>\n",
       "      <td>-0.783433</td>\n",
       "      <td>1.011090</td>\n",
       "      <td>2.045789</td>\n",
       "      <td>-0.440728</td>\n",
       "      <td>-0.082342</td>\n",
       "      <td>-0.299318</td>\n",
       "      <td>0.586365</td>\n",
       "      <td>-0.072074</td>\n",
       "      <td>0.645841</td>\n",
       "      <td>-0.252481</td>\n",
       "      <td>...</td>\n",
       "      <td>-0.332269</td>\n",
       "      <td>-0.305464</td>\n",
       "      <td>-0.151944</td>\n",
       "      <td>0.371232</td>\n",
       "      <td>-0.657295</td>\n",
       "      <td>0.296364</td>\n",
       "      <td>-0.021636</td>\n",
       "      <td>-0.349231</td>\n",
       "      <td>1.436553</td>\n",
       "      <td>0</td>\n",
       "    </tr>\n",
       "    <tr>\n",
       "      <td>212678</td>\n",
       "      <td>-0.271413</td>\n",
       "      <td>1.148362</td>\n",
       "      <td>0.267769</td>\n",
       "      <td>0.775418</td>\n",
       "      <td>1.128602</td>\n",
       "      <td>-0.513954</td>\n",
       "      <td>1.735978</td>\n",
       "      <td>-0.576530</td>\n",
       "      <td>-0.399363</td>\n",
       "      <td>0.904865</td>\n",
       "      <td>...</td>\n",
       "      <td>0.801109</td>\n",
       "      <td>-0.359216</td>\n",
       "      <td>0.028145</td>\n",
       "      <td>-0.024357</td>\n",
       "      <td>-0.448022</td>\n",
       "      <td>0.231043</td>\n",
       "      <td>-0.155675</td>\n",
       "      <td>-0.238364</td>\n",
       "      <td>0.929521</td>\n",
       "      <td>0</td>\n",
       "    </tr>\n",
       "    <tr>\n",
       "      <td>176582</td>\n",
       "      <td>1.817646</td>\n",
       "      <td>-0.605260</td>\n",
       "      <td>-0.232769</td>\n",
       "      <td>1.289835</td>\n",
       "      <td>-0.680706</td>\n",
       "      <td>0.112424</td>\n",
       "      <td>-0.721590</td>\n",
       "      <td>0.147809</td>\n",
       "      <td>1.405600</td>\n",
       "      <td>0.145713</td>\n",
       "      <td>...</td>\n",
       "      <td>0.042257</td>\n",
       "      <td>0.126055</td>\n",
       "      <td>-0.789195</td>\n",
       "      <td>-0.310766</td>\n",
       "      <td>-0.715108</td>\n",
       "      <td>0.053772</td>\n",
       "      <td>-0.015551</td>\n",
       "      <td>0.006598</td>\n",
       "      <td>0.589920</td>\n",
       "      <td>0</td>\n",
       "    </tr>\n",
       "  </tbody>\n",
       "</table>\n",
       "<p>5 rows × 31 columns</p>\n",
       "</div>"
      ],
      "text/plain": [
       "              V1        V2        V3        V4        V5        V6        V7  \\\n",
       "274326  0.497891 -3.579021 -2.202132 -0.041862 -1.558152 -0.947046  0.835022   \n",
       "157379  2.082308  0.043582 -1.360007  0.360721  0.315535 -0.744302  0.027427   \n",
       "268036 -0.783433  1.011090  2.045789 -0.440728 -0.082342 -0.299318  0.586365   \n",
       "212678 -0.271413  1.148362  0.267769  0.775418  1.128602 -0.513954  1.735978   \n",
       "176582  1.817646 -0.605260 -0.232769  1.289835 -0.680706  0.112424 -0.721590   \n",
       "\n",
       "              V8        V9       V10  ...       V22       V23       V24  \\\n",
       "274326 -0.562582 -0.336945  0.358599  ... -0.552604 -0.552775  0.008024   \n",
       "157379 -0.319088  2.105596 -0.465750  ...  0.694662  0.024652  0.554253   \n",
       "268036 -0.072074  0.645841 -0.252481  ... -0.332269 -0.305464 -0.151944   \n",
       "212678 -0.576530 -0.399363  0.904865  ...  0.801109 -0.359216  0.028145   \n",
       "176582  0.147809  1.405600  0.145713  ...  0.042257  0.126055 -0.789195   \n",
       "\n",
       "             V25       V26       V27       V28  Amount_Scaled  Time_Scaled  \\\n",
       "274326 -0.413355 -0.418322 -0.203340  0.091928       3.241050     1.498169   \n",
       "157379  0.313529 -0.480011 -0.022824 -0.055793      -0.349231     0.316609   \n",
       "268036  0.371232 -0.657295  0.296364 -0.021636      -0.349231     1.436553   \n",
       "212678 -0.024357 -0.448022  0.231043 -0.155675      -0.238364     0.929521   \n",
       "176582 -0.310766 -0.715108  0.053772 -0.015551       0.006598     0.589920   \n",
       "\n",
       "        Class  \n",
       "274326      0  \n",
       "157379      0  \n",
       "268036      0  \n",
       "212678      0  \n",
       "176582      0  \n",
       "\n",
       "[5 rows x 31 columns]"
      ]
     },
     "execution_count": 19,
     "metadata": {},
     "output_type": "execute_result"
    }
   ],
   "source": [
    "# reindexing dataframe with a correct order \n",
    "\n",
    "columns_titles = ['V1','V2','V3','V4', 'V5', 'V6', 'V7', 'V8', 'V9', 'V10', 'V11', 'V12', 'V13', 'V14', 'V15', 'V16', 'V17', 'V18', 'V19', 'V20', 'V21', 'V22', 'V23', 'V24', 'V25', 'V26', 'V27', 'V28', 'Amount_Scaled', 'Time_Scaled', 'Class']\n",
    "df_scaled = df_scaled.reindex(columns = columns_titles)\n",
    "df_scaled.sample(5)"
   ]
  },
  {
   "cell_type": "markdown",
   "metadata": {},
   "source": [
    "Now we can observe that fraud and non-fraud transactions are distinguishable and linearly separable to some extente. "
   ]
  },
  {
   "cell_type": "code",
   "execution_count": 20,
   "metadata": {},
   "outputs": [],
   "source": [
    "# feature Matrix\n",
    "#X = df_scaled.drop('Class', axis = 1)\n",
    "\n",
    "# target Vector\n",
    "#y = df_scaled['Class']\n",
    "\n",
    "#X_TSNE = X.values\n",
    "#y_TSNE = y.values\n",
    "\n",
    "#z = TSNE(n_components = 2, random_state = 24).fit_transform(X_TSNE)\n",
    "\n",
    "#plt.figure(figsize=(8, 6))\n",
    "#plt.scatter(z[np.where(y_TSNE == 0), 0], z[np.where(y_TSNE == 0), 1], marker='o', color='g', linewidth='1', alpha=0.8, label='Non Fraud')\n",
    "#plt.scatter(z[np.where(y_TSNE == 1), 0], z[np.where(y_TSNE == 1), 1], marker='o', color='r', linewidth='1', alpha=0.8, label='Fraud')\n",
    "#plt.legend(loc = 'best')\n",
    "#plt.show()"
   ]
  },
  {
   "cell_type": "markdown",
   "metadata": {},
   "source": [
    "### Data Splitting"
   ]
  },
  {
   "cell_type": "code",
   "execution_count": 21,
   "metadata": {},
   "outputs": [
    {
     "name": "stdout",
     "output_type": "stream",
     "text": [
      "root\n",
      " |-- V1: double (nullable = true)\n",
      " |-- V2: double (nullable = true)\n",
      " |-- V3: double (nullable = true)\n",
      " |-- V4: double (nullable = true)\n",
      " |-- V5: double (nullable = true)\n",
      " |-- V6: double (nullable = true)\n",
      " |-- V7: double (nullable = true)\n",
      " |-- V8: double (nullable = true)\n",
      " |-- V9: double (nullable = true)\n",
      " |-- V10: double (nullable = true)\n",
      " |-- V11: double (nullable = true)\n",
      " |-- V12: double (nullable = true)\n",
      " |-- V13: double (nullable = true)\n",
      " |-- V14: double (nullable = true)\n",
      " |-- V15: double (nullable = true)\n",
      " |-- V16: double (nullable = true)\n",
      " |-- V17: double (nullable = true)\n",
      " |-- V18: double (nullable = true)\n",
      " |-- V19: double (nullable = true)\n",
      " |-- V20: double (nullable = true)\n",
      " |-- V21: double (nullable = true)\n",
      " |-- V22: double (nullable = true)\n",
      " |-- V23: double (nullable = true)\n",
      " |-- V24: double (nullable = true)\n",
      " |-- V25: double (nullable = true)\n",
      " |-- V26: double (nullable = true)\n",
      " |-- V27: double (nullable = true)\n",
      " |-- V28: double (nullable = true)\n",
      " |-- Amount_Scaled: double (nullable = true)\n",
      " |-- Time_Scaled: double (nullable = true)\n",
      " |-- Class: double (nullable = true)\n",
      "\n"
     ]
    }
   ],
   "source": [
    "# casting all columns to double \n",
    "\n",
    "df_spark = spark.createDataFrame(df_scaled)\n",
    "df_spark = df_spark.withColumn('Class', df_spark['Class'].cast('double'))\n",
    "df_spark.printSchema()"
   ]
  },
  {
   "cell_type": "code",
   "execution_count": 22,
   "metadata": {},
   "outputs": [
    {
     "data": {
      "text/plain": [
       "Row(V1=-1.3598071336738, V2=-0.0727811733098497, V3=2.53634673796914, V4=1.37815522427443, V5=-0.33832076994251803, V6=0.462387777762292, V7=0.239598554061257, V8=0.0986979012610507, V9=0.363786969611213, V10=0.0907941719789316, V11=-0.551599533260813, V12=-0.617800855762348, V13=-0.991389847235408, V14=-0.31116935369987897, V15=1.46817697209427, V16=-0.47040052525947795, V17=0.20797124192924202, V18=0.0257905801985591, V19=0.403992960255733, V20=0.251412098239705, V21=-0.018306777944153, V22=0.277837575558899, V23=-0.110473910188767, V24=0.0669280749146731, V25=0.12853935827352803, V26=-0.189114843888824, V27=0.13355837674038698, V28=-0.0210530534538215, Amount_Scaled=0.24496426337017338, Time_Scaled=-1.996583023457193, Class=0.0)"
      ]
     },
     "execution_count": 22,
     "metadata": {},
     "output_type": "execute_result"
    }
   ],
   "source": [
    "df_spark.head()"
   ]
  },
  {
   "cell_type": "code",
   "execution_count": 23,
   "metadata": {},
   "outputs": [
    {
     "data": {
      "text/plain": [
       "Row(features=DenseVector([-1.3598, -0.0728, 2.5363, 1.3782, -0.3383, 0.4624, 0.2396, 0.0987, 0.3638, 0.0908, -0.5516, -0.6178, -0.9914, -0.3112, 1.4682, -0.4704, 0.208, 0.0258, 0.404, 0.2514, -0.0183, 0.2778, -0.1105, 0.0669, 0.1285, -0.1891, 0.1336, -0.0211, 0.245, -1.9966]), label=0.0)"
      ]
     },
     "execution_count": 23,
     "metadata": {},
     "output_type": "execute_result"
    }
   ],
   "source": [
    "ml_df = df_spark.rdd.map(lambda x: (DenseVector(x[0:30]), x[30]))\n",
    "ml_df = spark.createDataFrame(ml_df, [\"features\", \"label\"])\n",
    "ml_df.head()\n",
    "#ml_df.select(\"features\").show()\n",
    "#ml_df.groupBy(\"label\").count().show()"
   ]
  },
  {
   "cell_type": "code",
   "execution_count": 24,
   "metadata": {},
   "outputs": [],
   "source": [
    "ml_df = ml_df.select(\"features\",\"label\")\n",
    "train_data, test_data = ml_df.randomSplit([.8,.2],seed=1234)"
   ]
  },
  {
   "cell_type": "code",
   "execution_count": 25,
   "metadata": {},
   "outputs": [
    {
     "data": {
      "text/plain": [
       "Row(features=DenseVector([-30.5524, 16.7134, -31.1037, 6.535, -22.1055, -4.9777, -20.3715, 20.0072, -3.5657, -7.7311, 3.8294, -5.3143, 1.4469, -4.5793, -0.1423, -4.9978, -10.9614, -4.6415, 0.5671, 1.7336, 1.8165, -2.2887, -1.4605, 0.1832, 2.2082, -0.2088, 1.2326, 0.3567, 0.0465, -1.3911]), label=1.0)"
      ]
     },
     "execution_count": 25,
     "metadata": {},
     "output_type": "execute_result"
    }
   ],
   "source": [
    "train_data.head()"
   ]
  },
  {
   "cell_type": "code",
   "execution_count": 26,
   "metadata": {},
   "outputs": [
    {
     "name": "stdout",
     "output_type": "stream",
     "text": [
      "+-----+------+\n",
      "|label| count|\n",
      "+-----+------+\n",
      "|  0.0|227770|\n",
      "|  1.0|   403|\n",
      "+-----+------+\n",
      "\n"
     ]
    }
   ],
   "source": [
    "train_data.groupBy(\"label\").count().show()"
   ]
  },
  {
   "cell_type": "code",
   "execution_count": 27,
   "metadata": {},
   "outputs": [
    {
     "data": {
      "text/plain": [
       "Row(features=DenseVector([-29.8764, 16.4345, -30.5587, 6.5059, -21.6657, -4.9404, -20.0814, 19.5878, -3.5915, -7.8006, 3.9478, -5.4879, 1.3699, -4.8296, -0.1344, -5.1212, -11.1182, -4.66, 0.6089, 1.7248, 1.813, -2.2323, -1.4128, 0.1787, 2.156, -0.2094, 1.2556, 0.3645, 0.0465, -1.3917]), label=1.0)"
      ]
     },
     "execution_count": 27,
     "metadata": {},
     "output_type": "execute_result"
    }
   ],
   "source": [
    "test_data.head()"
   ]
  },
  {
   "cell_type": "code",
   "execution_count": 28,
   "metadata": {},
   "outputs": [
    {
     "name": "stdout",
     "output_type": "stream",
     "text": [
      "+-----+-----+\n",
      "|label|count|\n",
      "+-----+-----+\n",
      "|  0.0|56545|\n",
      "|  1.0|   89|\n",
      "+-----+-----+\n",
      "\n"
     ]
    }
   ],
   "source": [
    "test_data.groupBy(\"label\").count().show()"
   ]
  },
  {
   "cell_type": "markdown",
   "metadata": {},
   "source": [
    "### Balancing the Dataset\n",
    "\n",
    "The dataset is highly unbalanced since there's a skew in the class distribution. Thus, our training dataset could be biased and influence the ML algorithm when displaying results. To address this problem we randomly balance the data to have the same number of fraudelent and non fraudulent transactions. \n",
    "\n",
    "To do that, we retrieve from the training data a dataframe with the frauds and a dataframe with the non frauds. After that, we concatenated the two to obtain a balanced dataset. In this way, we created a subsample dataset with balanced class distribution"
   ]
  },
  {
   "cell_type": "code",
   "execution_count": 29,
   "metadata": {},
   "outputs": [
    {
     "name": "stdout",
     "output_type": "stream",
     "text": [
      "403\n",
      "227770\n"
     ]
    }
   ],
   "source": [
    "fraud_df_spark = train_data.filter(\"label=1.0\")\n",
    "non_fraud_df_spark = train_data.filter(\"label=0.0\")\n",
    "\n",
    "print(fraud_df_spark.count())\n",
    "print(non_fraud_df_spark.count())\n",
    "\n",
    "ratio = fraud_df_spark.count() / non_fraud_df_spark.count()\n",
    "\n",
    "non_fraud_sample_df_spark = non_fraud_df_spark.sample(False, ratio)\n",
    "\n",
    "balanced_df = fraud_df_spark.unionAll(non_fraud_sample_df_spark)"
   ]
  },
  {
   "cell_type": "code",
   "execution_count": 30,
   "metadata": {},
   "outputs": [],
   "source": [
    "# dataframe spark to dataframe pandas\n",
    "balanced_dfp = balanced_df.toPandas()\n",
    "balanced_dfp.head()\n",
    "number = balanced_df.count()"
   ]
  },
  {
   "cell_type": "markdown",
   "metadata": {},
   "source": [
    "The plot below shows that now we have a balanced dataset, where the number of frauds is equal to the number of non fraudulent transactions."
   ]
  },
  {
   "cell_type": "code",
   "execution_count": 31,
   "metadata": {},
   "outputs": [
    {
     "data": {
      "image/png": "[encoded data removed]",
      "text/plain": [
       "<Figure size 432x288 with 1 Axes>"
      ]
     },
     "metadata": {
      "needs_background": "light"
     },
     "output_type": "display_data"
    }
   ],
   "source": [
    "new_classes = pd.value_counts(balanced_dfp['label'], sort=True)\n",
    "new_classes.plot(kind = 'bar', rot=0)\n",
    "\n",
    "plt.title(\"Class Transactions\")\n",
    "plt.xticks(range(2), ['Non Fraud', 'Fraud'])\n",
    "plt.xlabel(\"Class\")\n",
    "plt.ylabel(\"Frequency - #Transactions\")\n",
    "plt.show()"
   ]
  },
  {
   "cell_type": "markdown",
   "metadata": {},
   "source": [
    "### Correlations"
   ]
  },
  {
   "cell_type": "code",
   "execution_count": 32,
   "metadata": {},
   "outputs": [
    {
     "data": {
      "text/html": [
       "<div>\n",
       "<style scoped>\n",
       "    .dataframe tbody tr th:only-of-type {\n",
       "        vertical-align: middle;\n",
       "    }\n",
       "\n",
       "    .dataframe tbody tr th {\n",
       "        vertical-align: top;\n",
       "    }\n",
       "\n",
       "    .dataframe thead th {\n",
       "        text-align: right;\n",
       "    }\n",
       "</style>\n",
       "<table border=\"1\" class=\"dataframe\">\n",
       "  <thead>\n",
       "    <tr style=\"text-align: right;\">\n",
       "      <th></th>\n",
       "      <th>V1</th>\n",
       "      <th>V2</th>\n",
       "      <th>V3</th>\n",
       "      <th>V4</th>\n",
       "      <th>V5</th>\n",
       "      <th>V6</th>\n",
       "      <th>V7</th>\n",
       "      <th>V8</th>\n",
       "      <th>V9</th>\n",
       "      <th>V10</th>\n",
       "      <th>...</th>\n",
       "      <th>V22</th>\n",
       "      <th>V23</th>\n",
       "      <th>V24</th>\n",
       "      <th>V25</th>\n",
       "      <th>V26</th>\n",
       "      <th>V27</th>\n",
       "      <th>V28</th>\n",
       "      <th>Amount_Scaled</th>\n",
       "      <th>Time_Scaled</th>\n",
       "      <th>Label</th>\n",
       "    </tr>\n",
       "  </thead>\n",
       "  <tbody>\n",
       "    <tr>\n",
       "      <td>0</td>\n",
       "      <td>-30.552380</td>\n",
       "      <td>16.713389</td>\n",
       "      <td>-31.103685</td>\n",
       "      <td>6.534984</td>\n",
       "      <td>-22.105532</td>\n",
       "      <td>-4.977692</td>\n",
       "      <td>-20.371514</td>\n",
       "      <td>20.007208</td>\n",
       "      <td>-3.565738</td>\n",
       "      <td>-7.731071</td>\n",
       "      <td>...</td>\n",
       "      <td>-2.288686</td>\n",
       "      <td>-1.460544</td>\n",
       "      <td>0.183179</td>\n",
       "      <td>2.208209</td>\n",
       "      <td>-0.208824</td>\n",
       "      <td>1.232636</td>\n",
       "      <td>0.356660</td>\n",
       "      <td>0.046539</td>\n",
       "      <td>-1.391062</td>\n",
       "      <td>1.0</td>\n",
       "    </tr>\n",
       "    <tr>\n",
       "      <td>1</td>\n",
       "      <td>-29.200329</td>\n",
       "      <td>16.155701</td>\n",
       "      <td>-30.013712</td>\n",
       "      <td>6.476731</td>\n",
       "      <td>-21.225810</td>\n",
       "      <td>-4.902997</td>\n",
       "      <td>-19.791248</td>\n",
       "      <td>19.168327</td>\n",
       "      <td>-3.617242</td>\n",
       "      <td>-7.870122</td>\n",
       "      <td>...</td>\n",
       "      <td>-2.175815</td>\n",
       "      <td>-1.365104</td>\n",
       "      <td>0.174286</td>\n",
       "      <td>2.103868</td>\n",
       "      <td>-0.209944</td>\n",
       "      <td>1.278681</td>\n",
       "      <td>0.372393</td>\n",
       "      <td>0.046539</td>\n",
       "      <td>-1.392389</td>\n",
       "      <td>1.0</td>\n",
       "    </tr>\n",
       "    <tr>\n",
       "      <td>2</td>\n",
       "      <td>-28.524268</td>\n",
       "      <td>15.876923</td>\n",
       "      <td>-29.468732</td>\n",
       "      <td>6.447591</td>\n",
       "      <td>-20.786000</td>\n",
       "      <td>-4.865613</td>\n",
       "      <td>-19.501084</td>\n",
       "      <td>18.748872</td>\n",
       "      <td>-3.642990</td>\n",
       "      <td>-7.939642</td>\n",
       "      <td>...</td>\n",
       "      <td>-2.119376</td>\n",
       "      <td>-1.317450</td>\n",
       "      <td>0.169846</td>\n",
       "      <td>2.051687</td>\n",
       "      <td>-0.210502</td>\n",
       "      <td>1.301734</td>\n",
       "      <td>0.380246</td>\n",
       "      <td>0.046539</td>\n",
       "      <td>-1.393105</td>\n",
       "      <td>1.0</td>\n",
       "    </tr>\n",
       "    <tr>\n",
       "      <td>3</td>\n",
       "      <td>-27.848181</td>\n",
       "      <td>15.598193</td>\n",
       "      <td>-28.923756</td>\n",
       "      <td>6.418442</td>\n",
       "      <td>-20.346228</td>\n",
       "      <td>-4.828202</td>\n",
       "      <td>-19.210896</td>\n",
       "      <td>18.329406</td>\n",
       "      <td>-3.668735</td>\n",
       "      <td>-8.009159</td>\n",
       "      <td>...</td>\n",
       "      <td>-2.062934</td>\n",
       "      <td>-1.269843</td>\n",
       "      <td>0.165409</td>\n",
       "      <td>1.999499</td>\n",
       "      <td>-0.211059</td>\n",
       "      <td>1.324809</td>\n",
       "      <td>0.388090</td>\n",
       "      <td>0.046539</td>\n",
       "      <td>-1.393800</td>\n",
       "      <td>1.0</td>\n",
       "    </tr>\n",
       "    <tr>\n",
       "      <td>4</td>\n",
       "      <td>-27.143678</td>\n",
       "      <td>15.365804</td>\n",
       "      <td>-28.407424</td>\n",
       "      <td>6.370895</td>\n",
       "      <td>-20.087878</td>\n",
       "      <td>-4.666313</td>\n",
       "      <td>-18.709479</td>\n",
       "      <td>17.903574</td>\n",
       "      <td>-3.722279</td>\n",
       "      <td>-8.120962</td>\n",
       "      <td>...</td>\n",
       "      <td>-1.960974</td>\n",
       "      <td>-0.902247</td>\n",
       "      <td>0.144011</td>\n",
       "      <td>2.024388</td>\n",
       "      <td>-0.204214</td>\n",
       "      <td>1.332153</td>\n",
       "      <td>0.385891</td>\n",
       "      <td>0.046539</td>\n",
       "      <td>-1.403950</td>\n",
       "      <td>1.0</td>\n",
       "    </tr>\n",
       "  </tbody>\n",
       "</table>\n",
       "<p>5 rows × 31 columns</p>\n",
       "</div>"
      ],
      "text/plain": [
       "          V1         V2         V3        V4         V5        V6         V7  \\\n",
       "0 -30.552380  16.713389 -31.103685  6.534984 -22.105532 -4.977692 -20.371514   \n",
       "1 -29.200329  16.155701 -30.013712  6.476731 -21.225810 -4.902997 -19.791248   \n",
       "2 -28.524268  15.876923 -29.468732  6.447591 -20.786000 -4.865613 -19.501084   \n",
       "3 -27.848181  15.598193 -28.923756  6.418442 -20.346228 -4.828202 -19.210896   \n",
       "4 -27.143678  15.365804 -28.407424  6.370895 -20.087878 -4.666313 -18.709479   \n",
       "\n",
       "          V8        V9       V10  ...       V22       V23       V24       V25  \\\n",
       "0  20.007208 -3.565738 -7.731071  ... -2.288686 -1.460544  0.183179  2.208209   \n",
       "1  19.168327 -3.617242 -7.870122  ... -2.175815 -1.365104  0.174286  2.103868   \n",
       "2  18.748872 -3.642990 -7.939642  ... -2.119376 -1.317450  0.169846  2.051687   \n",
       "3  18.329406 -3.668735 -8.009159  ... -2.062934 -1.269843  0.165409  1.999499   \n",
       "4  17.903574 -3.722279 -8.120962  ... -1.960974 -0.902247  0.144011  2.024388   \n",
       "\n",
       "        V26       V27       V28  Amount_Scaled  Time_Scaled  Label  \n",
       "0 -0.208824  1.232636  0.356660       0.046539    -1.391062    1.0  \n",
       "1 -0.209944  1.278681  0.372393       0.046539    -1.392389    1.0  \n",
       "2 -0.210502  1.301734  0.380246       0.046539    -1.393105    1.0  \n",
       "3 -0.211059  1.324809  0.388090       0.046539    -1.393800    1.0  \n",
       "4 -0.204214  1.332153  0.385891       0.046539    -1.403950    1.0  \n",
       "\n",
       "[5 rows x 31 columns]"
      ]
     },
     "execution_count": 32,
     "metadata": {},
     "output_type": "execute_result"
    }
   ],
   "source": [
    "columns_titles = ['V1','V2','V3','V4', 'V5', 'V6', 'V7', 'V8', 'V9', 'V10', 'V11', 'V12', 'V13', 'V14', 'V15', 'V16', 'V17', 'V18', 'V19', 'V20', 'V21', 'V22', 'V23', 'V24', 'V25', 'V26', 'V27', 'V28', 'Amount_Scaled', 'Time_Scaled', 'Label']\n",
    "correlations_df = pd.DataFrame(columns=columns_titles)\n",
    "\n",
    "for i in range(number):\n",
    "    \n",
    "    features_value_list = balanced_dfp['features'].iloc[i].tolist()\n",
    "    label = balanced_dfp['label'].iloc[i]\n",
    "    features_value_list.append(label)\n",
    "    features_value_array = np.asarray(features_value_list)\n",
    "    temp = pd.DataFrame([features_value_array], columns=columns_titles)\n",
    "    correlations_df = correlations_df.append(temp, ignore_index=True)\n",
    "\n",
    "correlations_df.head()"
   ]
  },
  {
   "cell_type": "markdown",
   "metadata": {},
   "source": [
    "Now that we have a balanced dataset, the correlation matrix shows meaningful correlation between some features, differently from the correlation matrix displayed before"
   ]
  },
  {
   "cell_type": "code",
   "execution_count": 33,
   "metadata": {},
   "outputs": [
    {
     "data": {
      "text/plain": [
       "<matplotlib.axes._subplots.AxesSubplot at 0x1a2043fb50>"
      ]
     },
     "execution_count": 33,
     "metadata": {},
     "output_type": "execute_result"
    },
    {
     "data": {
      "image/png": "[encoded data removed]",
      "text/plain": [
       "<Figure size 576x432 with 2 Axes>"
      ]
     },
     "metadata": {
      "needs_background": "light"
     },
     "output_type": "display_data"
    }
   ],
   "source": [
    "correlations = correlations_df.corr()\n",
    "\n",
    "fig, ax = plt.subplots(figsize=(8, 6))\n",
    "sns.heatmap(correlations, \n",
    "            xticklabels=correlations.columns, \n",
    "            yticklabels=correlations.columns,\n",
    "            linewidths=.1, cmap=\"RdBu\", ax=ax)"
   ]
  },
  {
   "cell_type": "markdown",
   "metadata": {},
   "source": [
    "## Classification Modeling"
   ]
  },
  {
   "cell_type": "markdown",
   "metadata": {},
   "source": [
    "We are going to utilize a ML classification algorith to train our data and pick up the specific characterstics that make a transaction more or less likely to be fraudulent. \n",
    "\n",
    "Performance Evaluation is done on ROC-AUC. It outputs a value between zero and one. If it is above 0.5 it is better than random guessing. "
   ]
  },
  {
   "cell_type": "markdown",
   "metadata": {},
   "source": [
    "### Training"
   ]
  },
  {
   "cell_type": "markdown",
   "metadata": {},
   "source": [
    "It has been used a logistic regression. Logistic regression models are used to determine the odds of a certain class or event existing. In our case, it will establish the probability of a transaction belonging to Class 0 or 1, which is normal or fraudulent."
   ]
  },
  {
   "cell_type": "code",
   "execution_count": 34,
   "metadata": {},
   "outputs": [],
   "source": [
    "lr = LogisticRegression().setLabelCol(\"label\").setFeaturesCol(\"features\").setMaxIter(30).setRegParam(0.3).setElasticNetParam(0.8)\n",
    "\n",
    "lr_model = lr.fit(balanced_df)"
   ]
  },
  {
   "cell_type": "markdown",
   "metadata": {},
   "source": [
    "### Testing"
   ]
  },
  {
   "cell_type": "markdown",
   "metadata": {},
   "source": [
    "Now, let's evaluate our model with the test dataset"
   ]
  },
  {
   "cell_type": "code",
   "execution_count": 35,
   "metadata": {},
   "outputs": [
    {
     "name": "stdout",
     "output_type": "stream",
     "text": [
      "+--------------------+-----+--------------------+--------------------+----------+\n",
      "|            features|label|       rawPrediction|         probability|prediction|\n",
      "+--------------------+-----+--------------------+--------------------+----------+\n",
      "|[-29.876365513976...|  1.0|[-0.3380972247059...|[0.41627175784870...|       1.0|\n",
      "|[-28.344757250015...|  0.0|[-0.0305357626769...|[0.49236665245351...|       1.0|\n",
      "|[-22.382092095390...|  0.0|[0.42827078985619...|[0.60546067350907...|       0.0|\n",
      "|[-21.567419280019...|  0.0|[0.21211459701837...|[0.55283071502081...|       0.0|\n",
      "|[-21.353056221829...|  0.0|[0.38119530270153...|[0.59416136303246...|       0.0|\n",
      "|[-21.209119592791...|  1.0|[-0.5564883990681...|[0.36436036509705...|       1.0|\n",
      "|[-20.532751076435...|  1.0|[-0.5731063345069...|[0.36052036377791...|       1.0|\n",
      "|[-18.018561187677...|  1.0|[-1.2246816510825...|[0.22711361649610...|       1.0|\n",
      "|[-16.367923010796...|  1.0|[-1.2816222296108...|[0.21727421073640...|       1.0|\n",
      "|[-16.255642319917...|  0.0|[0.09875636684942...|[0.52466904557382...|       0.0|\n",
      "|[-15.370872264849...|  0.0|[0.36433369328566...|[0.59008909270648...|       0.0|\n",
      "|[-14.724627011925...|  1.0|[-1.3386138038351...|[0.20773811043857...|       1.0|\n",
      "|[-14.665963714958...|  0.0|[0.34785143421576...|[0.58609646053009...|       0.0|\n",
      "|[-14.575409584507...|  0.0|[-0.6352518397912...|[0.34632065473265...|       1.0|\n",
      "|[-14.198075576864...|  0.0|[0.27791787744513...|[0.56903569011255...|       0.0|\n",
      "|[-14.163808303229...|  0.0|[0.12357063401620...|[0.53085340829712...|       0.0|\n",
      "|[-13.703360067912...|  0.0|[0.49598904800511...|[0.62151628065173...|       0.0|\n",
      "|[-13.583082802692...|  0.0|[0.41704701411378...|[0.60277641079276...|       0.0|\n",
      "|[-13.247210071986...|  0.0|[-0.6689583768427...|[0.33873011686974...|       1.0|\n",
      "|[-12.444897187536...|  0.0|[0.81591581759436...|[0.69336869444881...|       0.0|\n",
      "+--------------------+-----+--------------------+--------------------+----------+\n",
      "only showing top 20 rows\n",
      "\n",
      "+----------+--------------------+-----+--------------------+\n",
      "|prediction|       rawPrediction|label|            features|\n",
      "+----------+--------------------+-----+--------------------+\n",
      "|       1.0|[-0.3380972247059...|  1.0|[-29.876365513976...|\n",
      "|       1.0|[-0.0305357626769...|  0.0|[-28.344757250015...|\n",
      "|       0.0|[0.42827078985619...|  0.0|[-22.382092095390...|\n",
      "|       0.0|[0.21211459701837...|  0.0|[-21.567419280019...|\n",
      "|       0.0|[0.38119530270153...|  0.0|[-21.353056221829...|\n",
      "+----------+--------------------+-----+--------------------+\n",
      "only showing top 5 rows\n",
      "\n"
     ]
    }
   ],
   "source": [
    "lr_predictions = lr_model.transform(test_data)\n",
    "lr_predictions.show()\n",
    "lr_predictions.select(\"prediction\", \"rawPrediction\", \"label\", \"features\").show(5)"
   ]
  },
  {
   "cell_type": "code",
   "execution_count": 36,
   "metadata": {},
   "outputs": [
    {
     "name": "stdout",
     "output_type": "stream",
     "text": [
      "<pyspark.ml.classification.BinaryLogisticRegressionTrainingSummary object at 0x1a22b8bbd0>\n",
      "+---+--------------------+\n",
      "|FPR|                 TPR|\n",
      "+---+--------------------+\n",
      "|0.0|                 0.0|\n",
      "|0.0|0.017369727047146403|\n",
      "|0.0|0.034739454094292806|\n",
      "|0.0| 0.05707196029776675|\n",
      "|0.0|  0.0794044665012407|\n",
      "|0.0| 0.09925558312655088|\n",
      "|0.0| 0.11662531017369727|\n",
      "|0.0| 0.13647642679900746|\n",
      "|0.0| 0.15632754342431762|\n",
      "|0.0| 0.17369727047146402|\n",
      "|0.0| 0.19106699751861042|\n",
      "|0.0| 0.21339950372208435|\n",
      "|0.0| 0.23076923076923078|\n",
      "|0.0| 0.24813895781637718|\n",
      "|0.0|  0.2655086848635236|\n",
      "|0.0|  0.2679900744416873|\n",
      "|0.0|  0.2853598014888337|\n",
      "|0.0|  0.3027295285359802|\n",
      "|0.0|  0.3200992555831266|\n",
      "|0.0|   0.337468982630273|\n",
      "+---+--------------------+\n",
      "only showing top 20 rows\n",
      "\n",
      "area Under ROC: 0.9767279385193572\n",
      "F1-Score: 0.9977477652503046\n"
     ]
    }
   ],
   "source": [
    "training_summary = lr_model.summary\n",
    "print(training_summary)\n",
    "\n",
    "lr_f1_evaluator = MulticlassClassificationEvaluator().setMetricName(\"f1\").setLabelCol(\"label\").setPredictionCol(\"prediction\")\n",
    "lr_f1 = lr_f1_evaluator.evaluate(lr_predictions)\n",
    "\n",
    "training_summary.roc.show()\n",
    "print(\"area Under ROC: \" + str(training_summary.areaUnderROC))\n",
    "print(\"F1-Score: \" + str(lr_f1))"
   ]
  },
  {
   "cell_type": "code",
   "execution_count": 37,
   "metadata": {
    "scrolled": true
   },
   "outputs": [
    {
     "name": "stdout",
     "output_type": "stream",
     "text": [
      "Area under PR = 0.2965094019934293\n",
      "Area under ROC = 0.8920116323779113\n"
     ]
    }
   ],
   "source": [
    "prediction_labels = lr_predictions.rdd.map(lambda x: (float(x.prediction), float(x.label)))\n",
    "\n",
    "metrics = BinaryClassificationMetrics(prediction_labels)\n",
    "\n",
    "print(\"Area under PR = %s\" % metrics.areaUnderPR)\n",
    "print(\"Area under ROC = %s\" % metrics.areaUnderROC)"
   ]
  },
  {
   "cell_type": "markdown",
   "metadata": {},
   "source": [
    "### Save model"
   ]
  },
  {
   "cell_type": "markdown",
   "metadata": {},
   "source": [
    "commented code for saving LogisticRegressionModel on the disk for future use"
   ]
  },
  {
   "cell_type": "code",
   "execution_count": 39,
   "metadata": {},
   "outputs": [],
   "source": [
    "lr_model.write().save(\"./LRModelSpark\")"
   ]
  }
 ],
 "metadata": {
  "kernelspec": {
   "display_name": "Python 3",
   "language": "python",
   "name": "python3"
  },
  "language_info": {
   "codemirror_mode": {
    "name": "ipython",
    "version": 3
   },
   "file_extension": ".py",
   "mimetype": "text/x-python",
   "name": "python",
   "nbconvert_exporter": "python",
   "pygments_lexer": "ipython3",
   "version": "3.7.4"
  }
 },
 "nbformat": 4,
 "nbformat_minor": 2
}
